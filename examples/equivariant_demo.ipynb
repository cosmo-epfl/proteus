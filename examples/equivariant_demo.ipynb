{
 "cells": [
  {
   "cell_type": "code",
   "execution_count": null,
   "metadata": {},
   "outputs": [],
   "source": [
    "# %load_ext autoreload\n",
    "# %autoreload 2\n",
    "import sys\n",
    "sys.path.insert(0,'/home/michele/lavoro/code/librascal/build/')\n",
    "#sys.path.insert(0,'/home/nigam/git/librascal_cs/librascal/build/')"
   ]
  },
  {
   "cell_type": "markdown",
   "metadata": {},
   "source": [
    "This notebook provides examples of the kind of manipulations that need to be applied to rotate structures, spherical expansion coefficients and higher-order equivariants, which are useful to test equivariance of features and kernels, and in general to manipulate invariant and equivariant properties. "
   ]
  },
  {
   "cell_type": "markdown",
   "metadata": {},
   "source": [
    "# Spherical expansion coefficients"
   ]
  },
  {
   "cell_type": "markdown",
   "metadata": {},
   "source": [
    "Demonstration of manipulations of spherical expansion coefficients, and of conversion between real-valued and complex-valued spherical harmonics"
   ]
  },
  {
   "cell_type": "code",
   "execution_count": null,
   "metadata": {},
   "outputs": [],
   "source": [
    "from ase.io import read\n",
    "import ase\n",
    "from copy import deepcopy\n",
    "import numpy as np\n",
    "import matplotlib.pyplot as plt\n",
    "\n",
    "from rascal.representations import SphericalExpansion, SphericalInvariants\n",
    "from rascal.utils import (get_radial_basis_covariance, get_radial_basis_pca, \n",
    "                          get_radial_basis_projections, get_optimal_radial_basis_hypers )\n",
    "from rascal.utils import radial_basis\n",
    "from rascal.utils import (WignerDReal, ClebschGordanReal, \n",
    "                          spherical_expansion_reshape, spherical_expansion_conjugate,\n",
    "                    lm_slice, real2complex_matrix)"
   ]
  },
  {
   "cell_type": "code",
   "execution_count": null,
   "metadata": {},
   "outputs": [],
   "source": [
    "# imports also some internals to demonstrate manually some CG manipulations\n",
    "from rascal.utils.cg_utils import _r2c as r2c\n",
    "from rascal.utils.cg_utils import _c2r as c2r\n",
    "from rascal.utils.cg_utils import _cg as clebsch_gordan\n",
    "from rascal.utils.cg_utils import _rotation as rotation\n",
    "from rascal.utils.cg_utils import _wigner_d as wigner_d"
   ]
  },
  {
   "cell_type": "markdown",
   "metadata": {},
   "source": [
    "## Loads the structures"
   ]
  },
  {
   "cell_type": "code",
   "execution_count": null,
   "metadata": {},
   "outputs": [],
   "source": [
    "import urllib.request\n",
    "# a collection of distorted ethanol molecules from the ANI-1 dataset \n",
    "# (see https://github.com/isayev/ANI1_dataset) with energies and forces computed using DFTB+ \n",
    "# (see https://www.dftbplus.org/)\n",
    "url = 'https://raw.githubusercontent.com/cosmo-epfl/librascal-example-data/833b4336a7daf471e16993158322b3ea807b9d3f/inputs/molecule_conformers_dftb.xyz'\n",
    "# Download the file from `url`, save it in a temporary directory and get the\n",
    "# path to it (e.g. '/tmp/tmpb48zma.txt') in the `structures_fn` variable:\n",
    "structures_fn, headers = urllib.request.urlretrieve(url)\n",
    "structures_fn"
   ]
  },
  {
   "cell_type": "code",
   "execution_count": null,
   "metadata": {},
   "outputs": [],
   "source": [
    "# Total number of structure to load\n",
    "N = 100\n",
    "\n",
    "# load the structures\n",
    "frames = read(structures_fn,':{}'.format(N))"
   ]
  },
  {
   "cell_type": "markdown",
   "metadata": {},
   "source": [
    "## Demonstrate the equivariance of spherical expansion coefficients"
   ]
  },
  {
   "cell_type": "markdown",
   "metadata": {},
   "source": [
    "first, we compute the density expansion coefficients on a representative dataset"
   ]
  },
  {
   "cell_type": "code",
   "execution_count": null,
   "metadata": {},
   "outputs": [],
   "source": [
    "spherical_expansion_hypers = {\n",
    "    \"interaction_cutoff\": 3,\n",
    "    \"max_radial\": 8,\n",
    "    \"max_angular\": 6,\n",
    "    \"gaussian_sigma_constant\": 0.3,\n",
    "    \"gaussian_sigma_type\": \"Constant\",\n",
    "    \"cutoff_smooth_width\": 0.5,\n",
    "    \"radial_basis\": \"GTO\",\n",
    "}\n",
    "\n",
    "spex = SphericalExpansion(**spherical_expansion_hypers)"
   ]
  },
  {
   "cell_type": "code",
   "execution_count": null,
   "metadata": {},
   "outputs": [],
   "source": [
    "selframe = frames[8];  sel_l = 3;    # frame and l value used for the test\n",
    "feat_scaling = 1e6                   # just a scaling to make coefficients O(1)\n",
    "feats = spex.transform(selframe).get_features(spex)\n",
    "ref_feats = feat_scaling*spherical_expansion_reshape(feats, **spherical_expansion_hypers)"
   ]
  },
  {
   "cell_type": "code",
   "execution_count": null,
   "metadata": {},
   "outputs": [],
   "source": [
    "# random rotation in terms of Euler angles\n",
    "abc = np.random.uniform(size=(3))*np.pi"
   ]
  },
  {
   "cell_type": "code",
   "execution_count": null,
   "metadata": {},
   "outputs": [],
   "source": [
    "# this is the Cartesian rotation matrix (helper function, follows ZYZ convention)\n",
    "mrot = rotation(*abc)"
   ]
  },
  {
   "cell_type": "code",
   "execution_count": null,
   "metadata": {},
   "outputs": [],
   "source": [
    "# computes the rotated structure and the associated features\n",
    "rotframe = selframe.copy()\n",
    "rotframe.positions = rotframe.positions @ mrot.T\n",
    "rotframe.cell = rotframe.cell @ mrot.T   # rotate also the cell\n",
    "rotfeats = spex.transform(rotframe).get_features(spex)\n",
    "ref_feats_rot = feat_scaling*spherical_expansion_reshape(rotfeats, **spherical_expansion_hypers)"
   ]
  },
  {
   "cell_type": "code",
   "execution_count": null,
   "metadata": {},
   "outputs": [],
   "source": [
    "print(ref_feats[0,0,0,lm_slice(sel_l)])\n",
    "np.linalg.norm(ref_feats[0,0,0,lm_slice(sel_l)])"
   ]
  },
  {
   "cell_type": "markdown",
   "metadata": {},
   "source": [
    "the coefficients have the same magnitude, but they differ because of rotation!"
   ]
  },
  {
   "cell_type": "code",
   "execution_count": null,
   "metadata": {},
   "outputs": [],
   "source": [
    "print(ref_feats_rot[0,0,0,lm_slice(sel_l)])\n",
    "np.linalg.norm(ref_feats_rot[0,0,0,lm_slice(sel_l)])"
   ]
  },
  {
   "cell_type": "markdown",
   "metadata": {},
   "source": [
    "## Rotate the spherical expansion features using Wigner matrices"
   ]
  },
  {
   "cell_type": "code",
   "execution_count": null,
   "metadata": {},
   "outputs": [],
   "source": [
    "# computing the wigner matrix takes some time for L>4\n",
    "rotation_d = wigner_d(sel_l, *abc)"
   ]
  },
  {
   "cell_type": "code",
   "execution_count": null,
   "metadata": {},
   "outputs": [],
   "source": [
    "# D^l_mm is orthogonal\n",
    "plt.matshow(np.real(np.conjugate(rotation_d.T)@rotation_d))"
   ]
  },
  {
   "cell_type": "code",
   "execution_count": null,
   "metadata": {},
   "outputs": [],
   "source": [
    "#  back and forth to check transformation from real to complex SPH\n",
    "c2r(r2c(ref_feats[0,0,0,lm_slice(sel_l)])) - ref_feats[0,0,0,lm_slice(sel_l)]"
   ]
  },
  {
   "cell_type": "markdown",
   "metadata": {},
   "source": [
    "Rotating the spherical harmonics using the Wigner D matrix formula\n",
    "$\\langle nlm|\\hat{R} A; \\rho_i \\rangle = \n",
    "\\sum_{mm'} D^l_{mm'}(\\hat{R})^\\star \\langle nlm'|A; \\rho_i \\rangle\n",
    "$"
   ]
  },
  {
   "cell_type": "code",
   "execution_count": null,
   "metadata": {},
   "outputs": [],
   "source": [
    "ref_feats[0,0,0,lm_slice(sel_l)]"
   ]
  },
  {
   "cell_type": "code",
   "execution_count": null,
   "metadata": {},
   "outputs": [],
   "source": [
    "ref_feats_rot[0,0,0,lm_slice(sel_l)]"
   ]
  },
  {
   "cell_type": "code",
   "execution_count": null,
   "metadata": {},
   "outputs": [],
   "source": [
    "c2r(np.conjugate(rotation_d)@r2c(ref_feats[0,0,0,lm_slice(sel_l)]))"
   ]
  },
  {
   "cell_type": "markdown",
   "metadata": {},
   "source": [
    "## Direct real transformations"
   ]
  },
  {
   "cell_type": "markdown",
   "metadata": {},
   "source": [
    "There's no \"real\" reason to go through the complex algebra for rotations - we can transform once and for all the coefficients and be done with that!"
   ]
  },
  {
   "cell_type": "markdown",
   "metadata": {},
   "source": [
    "Key idea is that the complex<->real transformations can be formulated in a matrix form"
   ]
  },
  {
   "cell_type": "code",
   "execution_count": null,
   "metadata": {},
   "outputs": [],
   "source": [
    "# matrix version of the real-2-complex and complex-2-real transformations\n",
    "r2c_mat = real2complex_matrix(sel_l)\n",
    "c2r_mat = np.conjugate(r2c_mat.T)"
   ]
  },
  {
   "cell_type": "markdown",
   "metadata": {},
   "source": [
    ".... which can be used to transform features between complex and real"
   ]
  },
  {
   "cell_type": "code",
   "execution_count": null,
   "metadata": {},
   "outputs": [],
   "source": [
    "# we can use this to transform features\n",
    "r2c_mat@ref_feats[0,0,0,lm_slice(sel_l)] - r2c(ref_feats[0,0,0,lm_slice(sel_l)])"
   ]
  },
  {
   "cell_type": "markdown",
   "metadata": {},
   "source": [
    "... but can also be applied to matrices that act on the features"
   ]
  },
  {
   "cell_type": "code",
   "execution_count": null,
   "metadata": {},
   "outputs": [],
   "source": [
    "# and Wigner D matrix as well\n",
    "real_rotation_d = np.real(c2r_mat @ np.conjugate(rotation_d) @ r2c_mat)"
   ]
  },
  {
   "cell_type": "markdown",
   "metadata": {},
   "source": [
    "The direct real rotation is equal (modulo noise) to going back and forth from complex sph"
   ]
  },
  {
   "cell_type": "code",
   "execution_count": null,
   "metadata": {},
   "outputs": [],
   "source": [
    "real_rotation_d @ ref_feats[0,0,0,lm_slice(sel_l)] - ref_feats_rot[0,0,0,lm_slice(sel_l)]"
   ]
  },
  {
   "cell_type": "markdown",
   "metadata": {},
   "source": [
    "# Clebsch-Gordan iteration"
   ]
  },
  {
   "cell_type": "markdown",
   "metadata": {},
   "source": [
    "CG coefficients can be used to combine covariant objects so that, in turn, they compute as covariant objects. This is the idea behind NICE [[original paper](doi.org/10.1063/5.0021116)], as well as covariant neural networks"
   ]
  },
  {
   "cell_type": "code",
   "execution_count": null,
   "metadata": {},
   "outputs": [],
   "source": [
    "# these are the indices of the features \n",
    "sl1, sl2, sL = 3, 2, sel_l\n",
    "cg = clebsch_gordan(sl1, sl2, sL)"
   ]
  },
  {
   "cell_type": "code",
   "execution_count": null,
   "metadata": {},
   "outputs": [],
   "source": [
    "cg_feats = np.einsum(\"abc,a,b->c\", cg,\n",
    "                    r2c(ref_feats[0,0,0,lm_slice(sl1)]), \n",
    "                    r2c(ref_feats[0,0,0,lm_slice(sl2)]))"
   ]
  },
  {
   "cell_type": "code",
   "execution_count": null,
   "metadata": {},
   "outputs": [],
   "source": [
    "cg_feats_rot = np.einsum(\"abc,a,b->c\", cg,\n",
    "                    r2c(ref_feats_rot[0,0,0,lm_slice(sl1)]), \n",
    "                    r2c(ref_feats_rot[0,0,0,lm_slice(sl2)]))"
   ]
  },
  {
   "cell_type": "code",
   "execution_count": null,
   "metadata": {},
   "outputs": [],
   "source": [
    "cg_feats"
   ]
  },
  {
   "cell_type": "code",
   "execution_count": null,
   "metadata": {},
   "outputs": [],
   "source": [
    "cg_feats_rot"
   ]
  },
  {
   "cell_type": "code",
   "execution_count": null,
   "metadata": {},
   "outputs": [],
   "source": [
    "np.conjugate(rotation_d)@cg_feats"
   ]
  },
  {
   "cell_type": "markdown",
   "metadata": {},
   "source": [
    "## Real form of the iteration"
   ]
  },
  {
   "cell_type": "markdown",
   "metadata": {},
   "source": [
    "the CG iteration can also be cast in a way so it acts directly on the real-valued coefficients"
   ]
  },
  {
   "cell_type": "code",
   "execution_count": null,
   "metadata": {},
   "outputs": [],
   "source": [
    "r2c_mat_l1 = real2complex_matrix(sl1)\n",
    "r2c_mat_l2 = real2complex_matrix(sl2)\n",
    "r2c_mat_L = real2complex_matrix(sL)"
   ]
  },
  {
   "cell_type": "markdown",
   "metadata": {},
   "source": [
    "computing the real-valued CGs requires converting in the appropriate way inputs AND outputs"
   ]
  },
  {
   "cell_type": "code",
   "execution_count": null,
   "metadata": {},
   "outputs": [],
   "source": [
    "real_cg = np.real(np.einsum(\"abc, ax, by, zc -> xyz\", cg, r2c_mat_l1, r2c_mat_l2, np.conjugate(r2c_mat_L.T)))"
   ]
  },
  {
   "cell_type": "markdown",
   "metadata": {},
   "source": [
    "while the \"complex\" CG have a simple sparsity pattern (m1+m2=M), the real-valued are kind of messy because they need to pick up and combine real and imaginary parts of the expansion coefficients"
   ]
  },
  {
   "cell_type": "code",
   "execution_count": null,
   "metadata": {},
   "outputs": [],
   "source": [
    "cg[:,:,2]"
   ]
  },
  {
   "cell_type": "code",
   "execution_count": null,
   "metadata": {},
   "outputs": [],
   "source": [
    "real_cg[:,:,2]"
   ]
  },
  {
   "cell_type": "markdown",
   "metadata": {},
   "source": [
    "... but at the end of the day, they work just fine!"
   ]
  },
  {
   "cell_type": "code",
   "execution_count": null,
   "metadata": {},
   "outputs": [],
   "source": [
    "real_cg_feats = np.einsum(\"abc,a,b->c\",real_cg,\n",
    "                    ref_feats[0,0,0,lm_slice(sl1)],\n",
    "                    ref_feats[0,0,0,lm_slice(sl2)])"
   ]
  },
  {
   "cell_type": "code",
   "execution_count": null,
   "metadata": {},
   "outputs": [],
   "source": [
    "real_cg_feats - c2r(cg_feats)"
   ]
  },
  {
   "cell_type": "markdown",
   "metadata": {},
   "source": [
    "needless to say, these are also equivariant, and can be acted upon with the real-valued wigner matrix"
   ]
  },
  {
   "cell_type": "code",
   "execution_count": null,
   "metadata": {},
   "outputs": [],
   "source": [
    "real_rotation_d @ real_cg_feats - c2r(cg_feats_rot)"
   ]
  },
  {
   "cell_type": "markdown",
   "metadata": {},
   "source": [
    "# Streamlined WignerD, and CG class"
   ]
  },
  {
   "cell_type": "markdown",
   "metadata": {},
   "source": [
    "Uses the utility classes defined in rascal.utils to do all of the above (and more!)\n",
    "`WignerDReal` is a Wigner D matrix implementation to rotate Y^m_l - like coefficients, while\n",
    "`ClebschGordanReal` precomputes Clebsch-Gordan operations using real-only storage of the spherical expansion coefficients. \n",
    "WignerDReal also allows rotating structures so you won't have to wonder about what Euler angle convention is being used ever again"
   ]
  },
  {
   "cell_type": "code",
   "execution_count": null,
   "metadata": {},
   "outputs": [],
   "source": [
    "WD = WignerDReal(spherical_expansion_hypers[\"max_angular\"], *abc)\n",
    "CG = ClebschGordanReal(spherical_expansion_hypers[\"max_angular\"])"
   ]
  },
  {
   "cell_type": "markdown",
   "metadata": {},
   "source": [
    "computes a list of features for different l's, just to use for testing"
   ]
  },
  {
   "cell_type": "code",
   "execution_count": null,
   "metadata": {},
   "outputs": [],
   "source": [
    "test_feats = [ ref_feats[0,0,0,lm_slice(l)]  for l in range(0,5) ]\n",
    "test_feats_rot = [ ref_feats_rot[0,0,0,lm_slice(l)] for l in range(0,5) ]"
   ]
  },
  {
   "cell_type": "markdown",
   "metadata": {},
   "source": [
    "## Rotation and CG iteration"
   ]
  },
  {
   "cell_type": "markdown",
   "metadata": {},
   "source": [
    "frame rotation demo"
   ]
  },
  {
   "cell_type": "code",
   "execution_count": null,
   "metadata": {},
   "outputs": [],
   "source": [
    "test_frame = WD.rotate_frame(selframe.copy())"
   ]
  },
  {
   "cell_type": "code",
   "execution_count": null,
   "metadata": {},
   "outputs": [],
   "source": [
    "test_frame.positions - rotframe.positions"
   ]
  },
  {
   "cell_type": "markdown",
   "metadata": {},
   "source": [
    "the CG iteration takes two equivariants, infers the l order by their size, and produces and invariant of the specified L order"
   ]
  },
  {
   "cell_type": "code",
   "execution_count": null,
   "metadata": {},
   "outputs": [],
   "source": [
    "t1 = CG.combine(test_feats[3], test_feats[4], sel_l)\n",
    "t1_r = CG.combine(test_feats_rot[3], test_feats_rot[4], sel_l)"
   ]
  },
  {
   "cell_type": "code",
   "execution_count": null,
   "metadata": {},
   "outputs": [],
   "source": [
    "t1"
   ]
  },
  {
   "cell_type": "markdown",
   "metadata": {},
   "source": [
    "this can be rotated with the WignerD helper (and, ça va sans dire, matches the equivariant computed for the rotated structure)"
   ]
  },
  {
   "cell_type": "code",
   "execution_count": null,
   "metadata": {},
   "outputs": [],
   "source": [
    "WD.rotate(t1)"
   ]
  },
  {
   "cell_type": "code",
   "execution_count": null,
   "metadata": {},
   "outputs": [],
   "source": [
    "t1_r"
   ]
  },
  {
   "cell_type": "markdown",
   "metadata": {},
   "source": [
    "lots of fun: we can rinse, repeat as much as we want"
   ]
  },
  {
   "cell_type": "code",
   "execution_count": null,
   "metadata": {},
   "outputs": [],
   "source": [
    "t2 = CG.combine(t1, test_feats[3], 2)\n",
    "t2_r = CG.combine(t1_r, test_feats_rot[3], 2)"
   ]
  },
  {
   "cell_type": "code",
   "execution_count": null,
   "metadata": {},
   "outputs": [],
   "source": [
    "WD.rotate(t2)"
   ]
  },
  {
   "cell_type": "code",
   "execution_count": null,
   "metadata": {},
   "outputs": [],
   "source": [
    "t2_r"
   ]
  },
  {
   "cell_type": "code",
   "execution_count": null,
   "metadata": {},
   "outputs": [],
   "source": [
    "t3 = CG.combine(t2, test_feats[3], 1)\n",
    "t3_r = CG.combine(t2_r, test_feats_rot[3], 1)"
   ]
  },
  {
   "cell_type": "code",
   "execution_count": null,
   "metadata": {},
   "outputs": [],
   "source": [
    "WD.rotate(t3)"
   ]
  },
  {
   "cell_type": "code",
   "execution_count": null,
   "metadata": {},
   "outputs": [],
   "source": [
    "t3_r"
   ]
  },
  {
   "cell_type": "code",
   "execution_count": null,
   "metadata": {},
   "outputs": [],
   "source": [
    "t4 = CG.combine(t3, t2, 3)\n",
    "t4_r = CG.combine(t3_r, t2_r, 3)"
   ]
  },
  {
   "cell_type": "code",
   "execution_count": null,
   "metadata": {},
   "outputs": [],
   "source": [
    "WD.rotate(t4)"
   ]
  },
  {
   "cell_type": "code",
   "execution_count": null,
   "metadata": {},
   "outputs": [],
   "source": [
    "t4_r"
   ]
  },
  {
   "cell_type": "markdown",
   "metadata": {},
   "source": [
    "note that the CG iter is built to fail gracefully if called with \"impossible\" inputs (e.g. with l1,l2,L that do not fulfill the triangle inequality)"
   ]
  },
  {
   "cell_type": "code",
   "execution_count": null,
   "metadata": {},
   "outputs": [],
   "source": [
    "CG.combine(t2, t4, 6)  #nb: t2 is L=2 and t4 is L=3"
   ]
  },
  {
   "cell_type": "markdown",
   "metadata": {},
   "source": [
    "... but not when called outside the precomputed range "
   ]
  },
  {
   "cell_type": "code",
   "execution_count": null,
   "metadata": {},
   "outputs": [],
   "source": [
    "CG.combine(t2, t4, 12)"
   ]
  },
  {
   "cell_type": "markdown",
   "metadata": {},
   "source": [
    "## Feature products"
   ]
  },
  {
   "cell_type": "markdown",
   "metadata": {},
   "source": [
    "Another common use of CG coefficients is to expand products of spherical harmonics into objects that transform as individual irreps of $O(3)$. This is also implemented as part of `ClebschGordanReal`. These are basically outer products of the features $|l_1 m1; l_2 m_2;\\rangle = |l_1 m1\\rangle |l_2 m_2;\\rangle$"
   ]
  },
  {
   "cell_type": "code",
   "execution_count": null,
   "metadata": {},
   "outputs": [],
   "source": [
    "test_prod = test_feats[2][:,np.newaxis]@test_feats[3][np.newaxis,:]\n",
    "test_prod_rot = test_feats_rot[2][:,np.newaxis]@test_feats_rot[3][np.newaxis,:]"
   ]
  },
  {
   "cell_type": "code",
   "execution_count": null,
   "metadata": {},
   "outputs": [],
   "source": [
    "plt.matshow(test_prod); plt.show(); plt.matshow(test_prod_rot);"
   ]
  },
  {
   "cell_type": "markdown",
   "metadata": {},
   "source": [
    "`ClebschGordanReal.couple()` takes one of these $l_1\\times l_2$ matrices and explodes them as a list of terms with $L\\in[|l_1-l_2|,l_1+l_2|$."
   ]
  },
  {
   "cell_type": "code",
   "execution_count": null,
   "metadata": {},
   "outputs": [],
   "source": [
    "test_coupled = CG.couple(test_prod)"
   ]
  },
  {
   "cell_type": "markdown",
   "metadata": {},
   "source": [
    "depending on the $l$ values this come from, the $L$ items have different nature (e.g. in terms of parity) and so the coupling function returns a tuple that also keeps track of the original shape of the product matrix"
   ]
  },
  {
   "cell_type": "code",
   "execution_count": null,
   "metadata": {},
   "outputs": [],
   "source": [
    "test_coupled"
   ]
  },
  {
   "cell_type": "markdown",
   "metadata": {},
   "source": [
    "the entries transform as $Y^m_l$ and can be rotated accordingly"
   ]
  },
  {
   "cell_type": "code",
   "execution_count": null,
   "metadata": {},
   "outputs": [],
   "source": [
    "test_coupled_rot = CG.couple(test_prod_rot)"
   ]
  },
  {
   "cell_type": "code",
   "execution_count": null,
   "metadata": {},
   "outputs": [],
   "source": [
    "test_coupled_rot[1][3]"
   ]
  },
  {
   "cell_type": "code",
   "execution_count": null,
   "metadata": {},
   "outputs": [],
   "source": [
    "WD.rotate(test_coupled[1][3])"
   ]
  },
  {
   "cell_type": "markdown",
   "metadata": {},
   "source": [
    "the coupled coefficients can be translated back into the product form"
   ]
  },
  {
   "cell_type": "code",
   "execution_count": null,
   "metadata": {},
   "outputs": [],
   "source": [
    "test_decoupled = CG.decouple(test_coupled)"
   ]
  },
  {
   "cell_type": "code",
   "execution_count": null,
   "metadata": {},
   "outputs": [],
   "source": [
    "np.linalg.norm(test_prod - test_decoupled)"
   ]
  },
  {
   "cell_type": "markdown",
   "metadata": {},
   "source": [
    "this is a consequence of the fact that the real CG are orthogonal, just like their conventional counterparts"
   ]
  },
  {
   "cell_type": "code",
   "execution_count": null,
   "metadata": {},
   "outputs": [],
   "source": [
    "# this also gives a view into the internal storage of the CG coefficients, that are stored in a\n",
    "# sparse format because of the non-trivial sparsity pattern\n",
    "l1,l2 = test_coupled[0]\n",
    "prod = np.zeros((2*l1+1,2*l2+1,2*l1+1,2*l2+1))\n",
    "for L in range(abs(l1-l2), abs(l1+l2)+1):\n",
    "    for M in range(0, 2*L+1):\n",
    "        for m1, m2, mcg in CG._cgdict[(l1, l2, L)][M]:\n",
    "            for m1p, m2p, mcgp in CG._cgdict[(l1, l2, L)][M]:\n",
    "                prod[m1,m2,m1p,m2p] += mcg*mcgp"
   ]
  },
  {
   "cell_type": "code",
   "execution_count": null,
   "metadata": {},
   "outputs": [],
   "source": [
    "pr = prod.reshape((2*l1+1)*(2*l2+1),(2*l1+1)*(2*l2+1))\n",
    "plt.matshow(pr)"
   ]
  }
 ],
 "metadata": {
  "kernelspec": {
   "display_name": "Python 3",
   "language": "python",
   "name": "python3"
  },
  "toc": {
   "base_numbering": 1,
   "nav_menu": {},
   "number_sections": true,
   "sideBar": true,
   "skip_h1_title": false,
   "title_cell": "Table of Contents",
   "title_sidebar": "Contents",
   "toc_cell": false,
   "toc_position": {},
   "toc_section_display": true,
   "toc_window_display": true
  }
 },
 "nbformat": 4,
 "nbformat_minor": 4
}
