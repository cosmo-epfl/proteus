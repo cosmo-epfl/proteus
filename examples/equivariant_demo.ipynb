{
 "cells": [
  {
   "cell_type": "code",
   "execution_count": 1,
   "metadata": {},
   "outputs": [
    {
     "name": "stderr",
     "output_type": "stream",
     "text": [
      "In /home/nigam/.local/lib/python3.6/site-packages/matplotlib/mpl-data/stylelib/_classic_test.mplstyle: \n",
      "The text.latex.preview rcparam was deprecated in Matplotlib 3.3 and will be removed two minor releases later.\n",
      "In /home/nigam/.local/lib/python3.6/site-packages/matplotlib/mpl-data/stylelib/_classic_test.mplstyle: \n",
      "The mathtext.fallback_to_cm rcparam was deprecated in Matplotlib 3.3 and will be removed two minor releases later.\n",
      "In /home/nigam/.local/lib/python3.6/site-packages/matplotlib/mpl-data/stylelib/_classic_test.mplstyle: Support for setting the 'mathtext.fallback_to_cm' rcParam is deprecated since 3.3 and will be removed two minor releases later; use 'mathtext.fallback : 'cm' instead.\n",
      "In /home/nigam/.local/lib/python3.6/site-packages/matplotlib/mpl-data/stylelib/_classic_test.mplstyle: \n",
      "The validate_bool_maybe_none function was deprecated in Matplotlib 3.3 and will be removed two minor releases later.\n",
      "In /home/nigam/.local/lib/python3.6/site-packages/matplotlib/mpl-data/stylelib/_classic_test.mplstyle: \n",
      "The savefig.jpeg_quality rcparam was deprecated in Matplotlib 3.3 and will be removed two minor releases later.\n",
      "In /home/nigam/.local/lib/python3.6/site-packages/matplotlib/mpl-data/stylelib/_classic_test.mplstyle: \n",
      "The keymap.all_axes rcparam was deprecated in Matplotlib 3.3 and will be removed two minor releases later.\n",
      "In /home/nigam/.local/lib/python3.6/site-packages/matplotlib/mpl-data/stylelib/_classic_test.mplstyle: \n",
      "The animation.avconv_path rcparam was deprecated in Matplotlib 3.3 and will be removed two minor releases later.\n",
      "In /home/nigam/.local/lib/python3.6/site-packages/matplotlib/mpl-data/stylelib/_classic_test.mplstyle: \n",
      "The animation.avconv_args rcparam was deprecated in Matplotlib 3.3 and will be removed two minor releases later.\n"
     ]
    }
   ],
   "source": [
    "from ase.io import read\n",
    "import ase\n",
    "from copy import deepcopy\n",
    "import numpy as np\n",
    "import matplotlib.pyplot as plt\n",
    "\n",
    "from rascal.representations import SphericalExpansion, SphericalInvariants\n",
    "from rascal.utils import (get_radial_basis_covariance, get_radial_basis_pca, \n",
    "                          get_radial_basis_projections, get_optimal_radial_basis_hypers )\n",
    "from rascal.utils import radial_basis\n",
    "from rascal.utils import (WignerDReal, ClebschGordanReal, \n",
    "                          spherical_expansion_reshape, spherical_expansion_conjugate,\n",
    "                          lm_slice, real2complex_matrix, xyz_to_spherical, spherical_to_xyz)"
   ]
  },
  {
   "cell_type": "markdown",
   "metadata": {},
   "source": [
    "This notebook provides examples of the kind of manipulations that need to be applied to rotate structures, spherical expansion coefficients and higher-order equivariants, which are useful to test equivariance of features and kernels, and in general to manipulate invariant and equivariant properties. \n",
    "\n",
    "The basic idea, using notation from [Musil et al. (2021)](http://doi.org/10.1021/acs.chemrev.1c00021), is that if a structure $A$ is acted upon with a rotation $\\hat{R}$, _equivariant_ features transform in a prescribed way, i.e.\n",
    "$$\n",
    "|\\hat{R} A; \\lambda \\mu\\rangle = \\sum_{\\mu'} [D(\\hat{R})^\\lambda_{\\mu\\mu'}]^\\star | A; \\lambda \\mu.\\rangle\n",
    "$$\n",
    "\n",
    "$D(\\hat{R})^\\lambda_{\\mu\\mu'}$ are the elements of a _Wigner D matrix_ that enact rotations of spherical harmonics $Y^\\mu_\\lambda$. Given that spherical harmonics are irreducible representations of the rotation group, any property or set of features can be decomposed into terms that transform like one or more sets of $Y^\\mu_\\lambda$.\n",
    "\n",
    "Using ML models based on equivariant features is useful because it allows building basic symmetries of the target properties into the model structure, improving the data efficiency of the models. "
   ]
  },
  {
   "cell_type": "markdown",
   "metadata": {},
   "source": [
    "# Spherical expansion coefficients"
   ]
  },
  {
   "cell_type": "markdown",
   "metadata": {},
   "source": [
    "This section demonstrates the manipulations of spherical expansion coefficients, the simplest equivariant way of representing an environment $A_i$ centered on atom $i$,\n",
    "$$\n",
    "\\langle a n l m|A; \\rho_i\\rangle = \\sum_{j\\in A_i} \\delta_{aa_j}\n",
    "\\int \\mathrm{d}\\mathbf{r} \\langle n|r\\rangle \\langle lm|\\hat{\\mathbf{r}}\\rangle\n",
    "\\langle \\mathbf{r} | \\mathbf{r}_{ji}; g\\rangle\n",
    "$$\n",
    "Note that $\\langle lm|\\hat{\\mathbf{r}}\\rangle$ is the complex conjugate of a spherical harmonic, and so strictly speaking the equivariant is $\\langle a n l m|A; \\rho_i\\rangle^\\star$. This section also discusses briefly some of the subtleties that arise when converting expressions based on complex-valued spherical harmonics into their real-valued counterparts, that are used in the librascal implementation."
   ]
  },
  {
   "cell_type": "code",
   "execution_count": 2,
   "metadata": {},
   "outputs": [],
   "source": [
    "# imports also some internals to demonstrate manually some CG manipulations\n",
    "from rascal.utils.cg_utils import _r2c as r2c\n",
    "from rascal.utils.cg_utils import _c2r as c2r\n",
    "from rascal.utils.cg_utils import _cg as clebsch_gordan\n",
    "from rascal.utils.cg_utils import _rotation as rotation\n",
    "from rascal.utils.cg_utils import _wigner_d as wigner_d"
   ]
  },
  {
   "cell_type": "markdown",
   "metadata": {},
   "source": [
    "## Loads the structures"
   ]
  },
  {
   "cell_type": "code",
   "execution_count": 3,
   "metadata": {},
   "outputs": [
    {
     "data": {
      "text/plain": [
       "'/tmp/tmp1zkhv3ey'"
      ]
     },
     "execution_count": 3,
     "metadata": {},
     "output_type": "execute_result"
    }
   ],
   "source": [
    "import urllib.request\n",
    "# a collection of distorted allyl alcohol molecules from the ANI-1 dataset \n",
    "# (see https://github.com/isayev/ANI1_dataset) with energies and forces computed using DFTB+ \n",
    "# (see https://www.dftbplus.org/)\n",
    "url = 'https://raw.githubusercontent.com/cosmo-epfl/librascal-example-data/833b4336a7daf471e16993158322b3ea807b9d3f/inputs/molecule_conformers_dftb.xyz'\n",
    "# Download the file from `url`, save it in a temporary directory and get the\n",
    "# path to it (e.g. '/tmp/tmpb48zma.txt') in the `structures_fn` variable:\n",
    "structures_fn, headers = urllib.request.urlretrieve(url)\n",
    "structures_fn"
   ]
  },
  {
   "cell_type": "code",
   "execution_count": 4,
   "metadata": {},
   "outputs": [],
   "source": [
    "# Total number of structure to load\n",
    "N = 100\n",
    "\n",
    "# load the structures\n",
    "frames = read(structures_fn,':{}'.format(N))"
   ]
  },
  {
   "cell_type": "markdown",
   "metadata": {},
   "source": [
    "## Demonstrate the equivariance of spherical expansion coefficients"
   ]
  },
  {
   "cell_type": "markdown",
   "metadata": {},
   "source": [
    "First, we compute the density expansion coefficients on a representative dataset"
   ]
  },
  {
   "cell_type": "code",
   "execution_count": 5,
   "metadata": {},
   "outputs": [],
   "source": [
    "spherical_expansion_hypers = {\n",
    "    \"interaction_cutoff\": 3,\n",
    "    \"max_radial\": 8,\n",
    "    \"max_angular\": 6,\n",
    "    \"gaussian_sigma_constant\": 0.3,\n",
    "    \"gaussian_sigma_type\": \"Constant\",\n",
    "    \"cutoff_smooth_width\": 0.5,\n",
    "    \"radial_basis\": \"GTO\",\n",
    "}\n",
    "\n",
    "spex = SphericalExpansion(**spherical_expansion_hypers)"
   ]
  },
  {
   "cell_type": "code",
   "execution_count": 6,
   "metadata": {},
   "outputs": [],
   "source": [
    "selframe = frames[8];  sel_l = 3;    # frame and l value used for the test\n",
    "feat_scaling = 1e6                   # just a scaling to make coefficients O(1)\n",
    "feats = spex.transform(selframe).get_features(spex)\n",
    "ref_feats = feat_scaling*spherical_expansion_reshape(feats, **spherical_expansion_hypers)"
   ]
  },
  {
   "cell_type": "markdown",
   "metadata": {},
   "source": [
    "Then, we rotate the structure, and compute the features of the rotated configuration. "
   ]
  },
  {
   "cell_type": "code",
   "execution_count": 7,
   "metadata": {},
   "outputs": [],
   "source": [
    "# random rotation in terms of Euler angles\n",
    "abc = np.random.uniform(size=(3))*np.pi"
   ]
  },
  {
   "cell_type": "code",
   "execution_count": 8,
   "metadata": {},
   "outputs": [],
   "source": [
    "# this is the Cartesian rotation matrix (helper function, follows ZYZ convention)\n",
    "mrot = rotation(*abc)"
   ]
  },
  {
   "cell_type": "code",
   "execution_count": 9,
   "metadata": {},
   "outputs": [],
   "source": [
    "# computes the rotated structure and the associated features\n",
    "rotframe = selframe.copy()\n",
    "rotframe.positions = rotframe.positions @ mrot.T\n",
    "rotframe.cell = rotframe.cell @ mrot.T   # rotate also the cell\n",
    "rotfeats = spex.transform(rotframe).get_features(spex)\n",
    "ref_feats_rot = feat_scaling*spherical_expansion_reshape(rotfeats, **spherical_expansion_hypers)"
   ]
  },
  {
   "cell_type": "code",
   "execution_count": 10,
   "metadata": {},
   "outputs": [
    {
     "name": "stdout",
     "output_type": "stream",
     "text": [
      "[  49.95020279    3.36703957  -14.28548994  -32.00290346 -349.96433675\n",
      "   38.64396967  463.2326373 ]\n"
     ]
    },
    {
     "data": {
      "text/plain": [
       "585.0534081728395"
      ]
     },
     "execution_count": 10,
     "metadata": {},
     "output_type": "execute_result"
    }
   ],
   "source": [
    "print(ref_feats[0,0,0,lm_slice(sel_l)])\n",
    "np.linalg.norm(ref_feats[0,0,0,lm_slice(sel_l)])"
   ]
  },
  {
   "cell_type": "markdown",
   "metadata": {},
   "source": [
    "the coefficients have the same magnitude, but they differ because of rotation!"
   ]
  },
  {
   "cell_type": "code",
   "execution_count": 11,
   "metadata": {},
   "outputs": [
    {
     "name": "stdout",
     "output_type": "stream",
     "text": [
      "[-338.27822103  120.03789117 -197.39407574  213.54642541   35.9708892\n",
      "  273.35856284  229.9150595 ]\n"
     ]
    },
    {
     "data": {
      "text/plain": [
       "585.0534081728405"
      ]
     },
     "execution_count": 11,
     "metadata": {},
     "output_type": "execute_result"
    }
   ],
   "source": [
    "print(ref_feats_rot[0,0,0,lm_slice(sel_l)])\n",
    "np.linalg.norm(ref_feats_rot[0,0,0,lm_slice(sel_l)])"
   ]
  },
  {
   "cell_type": "markdown",
   "metadata": {},
   "source": [
    "## Rotate the spherical expansion features using Wigner matrices"
   ]
  },
  {
   "cell_type": "code",
   "execution_count": 12,
   "metadata": {},
   "outputs": [],
   "source": [
    "# computing the wigner matrix takes some time for L>4\n",
    "rotation_d = wigner_d(sel_l, *abc)"
   ]
  },
  {
   "cell_type": "code",
   "execution_count": 13,
   "metadata": {},
   "outputs": [
    {
     "data": {
      "text/plain": [
       "<matplotlib.image.AxesImage at 0x7f0dd3597780>"
      ]
     },
     "execution_count": 13,
     "metadata": {},
     "output_type": "execute_result"
    },
    {
     "data": {
      "image/png": "[encoded data removed]",
      "text/plain": [
       "<Figure size 288x288 with 1 Axes>"
      ]
     },
     "metadata": {
      "needs_background": "light"
     },
     "output_type": "display_data"
    }
   ],
   "source": [
    "# D^l_mm is orthogonal\n",
    "plt.matshow(np.real(np.conjugate(rotation_d.T)@rotation_d))"
   ]
  },
  {
   "cell_type": "markdown",
   "metadata": {},
   "source": [
    "Note that given that librascal computes features in terms of real spherical harmonics, we have to convert back to complex-valued coefficients, using the utility functions `c2r` and `r2c` from `cg_utils`.\n",
    "\n",
    "Note also that strictly speaking calling `r2c` on the coefficients from librascal yields objects that transform as $Y^m_l$, and not their complex-conjugates - so in fact we are computing the equivariants $\\langle n| A; \\overline{\\rho_i^{\\otimes 1}; lm} \\rangle \\equiv \\langle nlm|A; \\rho_i \\rangle^\\star$ (see again [Musil et al. (2021)](http://doi.org/10.1021/acs.chemrev.1c00021))"
   ]
  },
  {
   "cell_type": "code",
   "execution_count": 14,
   "metadata": {},
   "outputs": [
    {
     "data": {
      "text/plain": [
       "array([0., 0., 0., 0., 0., 0., 0.])"
      ]
     },
     "execution_count": 14,
     "metadata": {},
     "output_type": "execute_result"
    }
   ],
   "source": [
    "#  back and forth to check transformation from real to complex SPH\n",
    "c2r(r2c(ref_feats[0,0,0,lm_slice(sel_l)])) - ref_feats[0,0,0,lm_slice(sel_l)]"
   ]
  },
  {
   "cell_type": "markdown",
   "metadata": {},
   "source": [
    "Rotating the coefficients using the Wigner D matrix formula\n",
    "$\\langle n| A; \\overline{\\rho_i^{\\otimes 1}; lm} \\rangle  = \n",
    "\\sum_{mm'} D^l_{mm'}(\\hat{R})^\\star \\langle n| A; \\overline{\\rho_i^{\\otimes 1}; lm'} \\rangle \n",
    "$ gives features that are equal to those of the rotated structure"
   ]
  },
  {
   "cell_type": "code",
   "execution_count": 15,
   "metadata": {},
   "outputs": [
    {
     "data": {
      "text/plain": [
       "array([  49.95020279,    3.36703957,  -14.28548994,  -32.00290346,\n",
       "       -349.96433675,   38.64396967,  463.2326373 ])"
      ]
     },
     "execution_count": 15,
     "metadata": {},
     "output_type": "execute_result"
    }
   ],
   "source": [
    "ref_feats[0,0,0,lm_slice(sel_l)]"
   ]
  },
  {
   "cell_type": "code",
   "execution_count": 16,
   "metadata": {},
   "outputs": [
    {
     "data": {
      "text/plain": [
       "array([-338.27822103,  120.03789117, -197.39407574,  213.54642541,\n",
       "         35.9708892 ,  273.35856284,  229.9150595 ])"
      ]
     },
     "execution_count": 16,
     "metadata": {},
     "output_type": "execute_result"
    }
   ],
   "source": [
    "ref_feats_rot[0,0,0,lm_slice(sel_l)]"
   ]
  },
  {
   "cell_type": "code",
   "execution_count": 17,
   "metadata": {},
   "outputs": [
    {
     "data": {
      "text/plain": [
       "array([-338.27822103,  120.03789117, -197.39407574,  213.54642541,\n",
       "         35.9708892 ,  273.35856284,  229.9150595 ])"
      ]
     },
     "execution_count": 17,
     "metadata": {},
     "output_type": "execute_result"
    }
   ],
   "source": [
    "# some bookkeeping is needed to convert back to real\n",
    "c2r(np.conjugate(rotation_d)@r2c(ref_feats[0,0,0,lm_slice(sel_l)]))"
   ]
  },
  {
   "cell_type": "markdown",
   "metadata": {},
   "source": [
    "## Direct real transformations"
   ]
  },
  {
   "cell_type": "markdown",
   "metadata": {},
   "source": [
    "There's no \"real\" reason to go through the complex algebra for rotations - we can transform once and for all the coefficients and be done with that!"
   ]
  },
  {
   "cell_type": "markdown",
   "metadata": {},
   "source": [
    "Key idea is that the complex $\\leftrightarrow$ real transformations can be formulated in a matrix form"
   ]
  },
  {
   "cell_type": "code",
   "execution_count": 18,
   "metadata": {},
   "outputs": [],
   "source": [
    "# matrix version of the real-2-complex and complex-2-real transformations\n",
    "r2c_mat = real2complex_matrix(sel_l)\n",
    "c2r_mat = np.conjugate(r2c_mat.T)"
   ]
  },
  {
   "cell_type": "markdown",
   "metadata": {},
   "source": [
    ".... which can be used to transform features between complex and real"
   ]
  },
  {
   "cell_type": "code",
   "execution_count": 19,
   "metadata": {},
   "outputs": [
    {
     "data": {
      "text/plain": [
       "array([0.+0.j, 0.+0.j, 0.+0.j, 0.+0.j, 0.+0.j, 0.+0.j, 0.+0.j])"
      ]
     },
     "execution_count": 19,
     "metadata": {},
     "output_type": "execute_result"
    }
   ],
   "source": [
    "# we can use this to transform features\n",
    "r2c_mat@ref_feats[0,0,0,lm_slice(sel_l)] - r2c(ref_feats[0,0,0,lm_slice(sel_l)])"
   ]
  },
  {
   "cell_type": "markdown",
   "metadata": {},
   "source": [
    "... but can also be applied to matrices that act on the features"
   ]
  },
  {
   "cell_type": "code",
   "execution_count": 20,
   "metadata": {},
   "outputs": [],
   "source": [
    "# and Wigner D matrix as well\n",
    "real_rotation_d = np.real(c2r_mat @ np.conjugate(rotation_d) @ r2c_mat)"
   ]
  },
  {
   "cell_type": "markdown",
   "metadata": {},
   "source": [
    "The direct real rotation is equal (modulo noise) to going back and forth from complex sph"
   ]
  },
  {
   "cell_type": "code",
   "execution_count": 21,
   "metadata": {},
   "outputs": [
    {
     "data": {
      "text/plain": [
       "array([ 3.97903932e-13, -6.25277607e-13,  0.00000000e+00, -6.25277607e-13,\n",
       "       -1.84741111e-13, -7.95807864e-13, -5.40012479e-13])"
      ]
     },
     "execution_count": 21,
     "metadata": {},
     "output_type": "execute_result"
    }
   ],
   "source": [
    "real_rotation_d @ ref_feats[0,0,0,lm_slice(sel_l)] - ref_feats_rot[0,0,0,lm_slice(sel_l)]"
   ]
  },
  {
   "cell_type": "markdown",
   "metadata": {},
   "source": [
    "# Clebsch-Gordan iteration"
   ]
  },
  {
   "cell_type": "markdown",
   "metadata": {},
   "source": [
    "CG coefficients $\\langle l_1 m_1; l_2 m_2 | LM\\rangle$ are essential in the quantum theory of angular momentum, describing the combination of two angular momentum kets to form a coupled basis\n",
    "$$\n",
    "\\sum_{m_1,m_2} |l_1m_1\\rangle|l_2m_2\\rangle \\langle l_1 m_1; l_2 m_2 | LM\\rangle = |LM\\rangle\n",
    "$$\n",
    "They are also useful to combine equivariant objects so that the resulting object is still equivariant. This is the idea behind NICE iteration [Nigam et al., JCP (2020)](http://doi.org/10.1063/5.0021116)]\n",
    "$$\n",
    "\\langle Q; nlk|\\overline{\\rho^{\\otimes \\nu+1}_i; \\lambda\\mu}\\rangle = \n",
    "\\sum_{m q} \\langle n | \\overline{\\rho^{1}_i; lm}\\rangle\n",
    "\\langle Q|\\overline{\\rho^{\\otimes \\nu}_i; kq}\\rangle \n",
    "\\langle lm; kq | \\lambda\\mu \\rangle\n",
    "$$\n",
    "as well as equivariant neural networks.\n",
    "The relationship to NICE as well as to more established features is demonstrated in more detail in [a dedicated notebook ](nice_demo.ipynb), while here we focus on how tre result of a CG iteration applied to equivariant features is also equivariant."
   ]
  },
  {
   "cell_type": "code",
   "execution_count": 22,
   "metadata": {},
   "outputs": [],
   "source": [
    "# these are the l indices of the features being combined, and that of the result\n",
    "sl1, sl2, sL = 3, 2, sel_l\n",
    "# computes the corresponding CG coefficient\n",
    "cg = clebsch_gordan(sl1, sl2, sL)"
   ]
  },
  {
   "cell_type": "markdown",
   "metadata": {},
   "source": [
    "This is an example of the application of the CG iteration to two equivariants of structure $A$, and to the corresponding features in the rotated structure $\\hat{R}A$. "
   ]
  },
  {
   "cell_type": "code",
   "execution_count": 23,
   "metadata": {},
   "outputs": [],
   "source": [
    "cg_feats = np.einsum(\"abc,a,b->c\", cg,\n",
    "                    r2c(ref_feats[0,0,0,lm_slice(sl1)]), \n",
    "                    r2c(ref_feats[0,0,0,lm_slice(sl2)]))"
   ]
  },
  {
   "cell_type": "code",
   "execution_count": 24,
   "metadata": {},
   "outputs": [],
   "source": [
    "cg_feats_rot = np.einsum(\"abc,a,b->c\", cg,\n",
    "                    r2c(ref_feats_rot[0,0,0,lm_slice(sl1)]), \n",
    "                    r2c(ref_feats_rot[0,0,0,lm_slice(sl2)]))"
   ]
  },
  {
   "cell_type": "code",
   "execution_count": 25,
   "metadata": {},
   "outputs": [
    {
     "data": {
      "text/plain": [
       "array([-146142.48296142+19487.08435407j,  -13059.66072498  +849.20883661j,\n",
       "        111163.31700668 -4134.19856383j,   12867.0974336     +0.j        ,\n",
       "       -111163.31700668 -4134.19856383j,  -13059.66072498  -849.20883661j,\n",
       "        146142.48296142+19487.08435407j])"
      ]
     },
     "execution_count": 25,
     "metadata": {},
     "output_type": "execute_result"
    }
   ],
   "source": [
    "cg_feats"
   ]
  },
  {
   "cell_type": "code",
   "execution_count": 26,
   "metadata": {},
   "outputs": [
    {
     "data": {
      "text/plain": [
       "array([-75001.05514463-106187.06439947j, -84287.78388905 +38917.28626367j,\n",
       "       -13135.68077861 -63284.46149311j, -96628.12885381     +0.j        ,\n",
       "        13135.68077861 -63284.46149311j, -84287.78388905 -38917.28626367j,\n",
       "        75001.05514463-106187.06439947j])"
      ]
     },
     "execution_count": 26,
     "metadata": {},
     "output_type": "execute_result"
    }
   ],
   "source": [
    "cg_feats_rot"
   ]
  },
  {
   "cell_type": "markdown",
   "metadata": {},
   "source": [
    "The result is equivariant, in that the CG features of $\\hat{R}A$ can be obtained by applying the usual Wigner D multiplication to the CG features of $A$"
   ]
  },
  {
   "cell_type": "code",
   "execution_count": 27,
   "metadata": {},
   "outputs": [
    {
     "data": {
      "text/plain": [
       "array([ 3.34694050e-10+3.49245965e-10j,  4.36557457e-10-2.18278728e-10j,\n",
       "        7.27595761e-12+1.45519152e-10j,  4.07453626e-10+0.00000000e+00j,\n",
       "       -3.63797881e-12+1.45519152e-10j,  4.22005542e-10+2.18278728e-10j,\n",
       "       -3.34694050e-10+3.49245965e-10j])"
      ]
     },
     "execution_count": 27,
     "metadata": {},
     "output_type": "execute_result"
    }
   ],
   "source": [
    "np.conjugate(rotation_d)@cg_feats - cg_feats_rot"
   ]
  },
  {
   "cell_type": "markdown",
   "metadata": {},
   "source": [
    "## Real form of the iteration"
   ]
  },
  {
   "cell_type": "markdown",
   "metadata": {},
   "source": [
    "Similarly to the Wigner rotation, the CG iteration can also be cast in a way so it acts directly on the real-valued coefficients"
   ]
  },
  {
   "cell_type": "code",
   "execution_count": 28,
   "metadata": {},
   "outputs": [],
   "source": [
    "r2c_mat_l1 = real2complex_matrix(sl1)\n",
    "r2c_mat_l2 = real2complex_matrix(sl2)\n",
    "r2c_mat_L = real2complex_matrix(sL)"
   ]
  },
  {
   "cell_type": "markdown",
   "metadata": {},
   "source": [
    "computing the real-valued CGs requires converting in the appropriate way inputs AND outputs"
   ]
  },
  {
   "cell_type": "code",
   "execution_count": 29,
   "metadata": {},
   "outputs": [],
   "source": [
    "real_cg = np.real(np.einsum(\"abc, ax, by, zc -> xyz\", cg, r2c_mat_l1, r2c_mat_l2, np.conjugate(r2c_mat_L.T)))"
   ]
  },
  {
   "cell_type": "markdown",
   "metadata": {},
   "source": [
    "while the \"complex\" CG have a simple sparsity pattern (m1+m2=M), the real-valued are kind of messy because they need to pick up and combine real and imaginary parts of the expansion coefficients"
   ]
  },
  {
   "cell_type": "code",
   "execution_count": 30,
   "metadata": {},
   "outputs": [
    {
     "data": {
      "text/plain": [
       "array([[ 0.        ,  0.        ,  0.        ,  0.        ,  0.40824829],\n",
       "       [ 0.        ,  0.        ,  0.        ,  0.5       ,  0.        ],\n",
       "       [ 0.        ,  0.        , -0.38729833,  0.        ,  0.        ],\n",
       "       [ 0.        , -0.18257419,  0.        ,  0.        ,  0.        ],\n",
       "       [ 0.63245553,  0.        ,  0.        ,  0.        ,  0.        ],\n",
       "       [ 0.        ,  0.        ,  0.        ,  0.        ,  0.        ],\n",
       "       [ 0.        ,  0.        ,  0.        ,  0.        ,  0.        ]])"
      ]
     },
     "execution_count": 30,
     "metadata": {},
     "output_type": "execute_result"
    }
   ],
   "source": [
    "cg[:,:,2]"
   ]
  },
  {
   "cell_type": "code",
   "execution_count": 31,
   "metadata": {},
   "outputs": [
    {
     "data": {
      "text/plain": [
       "array([[ 0.        ,  0.        ,  0.        ,  0.        ,  0.28867513],\n",
       "       [ 0.        ,  0.        ,  0.        , -0.35355339,  0.        ],\n",
       "       [ 0.        ,  0.        , -0.38729833,  0.        ,  0.4472136 ],\n",
       "       [ 0.        , -0.18257419,  0.        ,  0.        ,  0.        ],\n",
       "       [-0.4472136 ,  0.        ,  0.        ,  0.        ,  0.        ],\n",
       "       [ 0.        ,  0.35355339,  0.        ,  0.        ,  0.        ],\n",
       "       [-0.28867513,  0.        ,  0.        ,  0.        ,  0.        ]])"
      ]
     },
     "execution_count": 31,
     "metadata": {},
     "output_type": "execute_result"
    }
   ],
   "source": [
    "real_cg[:,:,2]"
   ]
  },
  {
   "cell_type": "markdown",
   "metadata": {},
   "source": [
    "... but at the end of the day, they work just fine!"
   ]
  },
  {
   "cell_type": "code",
   "execution_count": 32,
   "metadata": {},
   "outputs": [],
   "source": [
    "real_cg_feats = np.einsum(\"abc,a,b->c\",real_cg,\n",
    "                    ref_feats[0,0,0,lm_slice(sl1)],\n",
    "                    ref_feats[0,0,0,lm_slice(sl2)])"
   ]
  },
  {
   "cell_type": "code",
   "execution_count": 33,
   "metadata": {},
   "outputs": [
    {
     "data": {
      "text/plain": [
       "array([ 3.63797881e-12,  4.54747351e-13, -2.72848411e-12,  0.00000000e+00,\n",
       "       -5.82076609e-11,  3.63797881e-12,  5.82076609e-11])"
      ]
     },
     "execution_count": 33,
     "metadata": {},
     "output_type": "execute_result"
    }
   ],
   "source": [
    "real_cg_feats - c2r(cg_feats)"
   ]
  },
  {
   "cell_type": "markdown",
   "metadata": {},
   "source": [
    "needless to say, these are also equivariant, and can be acted upon with the real-valued wigner matrix"
   ]
  },
  {
   "cell_type": "code",
   "execution_count": 34,
   "metadata": {},
   "outputs": [
    {
     "data": {
      "text/plain": [
       "array([-5.52972779e-10,  3.34694050e-10, -2.61934474e-10,  4.36557457e-10,\n",
       "        1.81898940e-11,  6.54836185e-10,  5.23868948e-10])"
      ]
     },
     "execution_count": 34,
     "metadata": {},
     "output_type": "execute_result"
    }
   ],
   "source": [
    "real_rotation_d @ real_cg_feats - c2r(cg_feats_rot)"
   ]
  },
  {
   "cell_type": "markdown",
   "metadata": {},
   "source": [
    "# Streamlined WignerD, and CG class"
   ]
  },
  {
   "cell_type": "markdown",
   "metadata": {},
   "source": [
    "The manipulations discussed above (and more!) can be realized using the utility classes defined in `rascal.utils`. In particular, \n",
    "\n",
    "`WignerDReal` is a Wigner D matrix implementation to rotate $Y^m_l$ - like coefficients. `WignerDReal` also allows rotating structures so you won't have to wonder about what Euler angle convention is being used ever again\n",
    "\n",
    "`ClebschGordanReal` precomputes Clebsch-Gordan coefficients, and applies different kinds of related operations using real-only storage of the spherical expansion coefficients. \n"
   ]
  },
  {
   "cell_type": "code",
   "execution_count": 35,
   "metadata": {},
   "outputs": [],
   "source": [
    "# WignerDReal is initialized with the Euler angles of the rotation\n",
    "WD = WignerDReal(spherical_expansion_hypers[\"max_angular\"], *abc)\n",
    "CG = ClebschGordanReal(spherical_expansion_hypers[\"max_angular\"])"
   ]
  },
  {
   "cell_type": "code",
   "execution_count": 36,
   "metadata": {},
   "outputs": [],
   "source": [
    "# prepares a list of features for different l's, just to use for testing\n",
    "test_feats = [ ref_feats[0,0,0,lm_slice(l)]  for l in range(0,5) ]\n",
    "test_feats_rot = [ ref_feats_rot[0,0,0,lm_slice(l)] for l in range(0,5) ]"
   ]
  },
  {
   "cell_type": "markdown",
   "metadata": {},
   "source": [
    "## Rotation and CG iteration"
   ]
  },
  {
   "cell_type": "markdown",
   "metadata": {},
   "source": [
    "`WignerDReal` can be used to rotate a frame (ASE or librascal internal format)"
   ]
  },
  {
   "cell_type": "code",
   "execution_count": 37,
   "metadata": {},
   "outputs": [],
   "source": [
    "test_frame = WD.rotate_frame(selframe.copy())"
   ]
  },
  {
   "cell_type": "code",
   "execution_count": 38,
   "metadata": {},
   "outputs": [
    {
     "data": {
      "text/plain": [
       "array([[0., 0., 0.],\n",
       "       [0., 0., 0.],\n",
       "       [0., 0., 0.],\n",
       "       [0., 0., 0.],\n",
       "       [0., 0., 0.],\n",
       "       [0., 0., 0.],\n",
       "       [0., 0., 0.],\n",
       "       [0., 0., 0.],\n",
       "       [0., 0., 0.],\n",
       "       [0., 0., 0.]])"
      ]
     },
     "execution_count": 38,
     "metadata": {},
     "output_type": "execute_result"
    }
   ],
   "source": [
    "test_frame.positions - rotframe.positions"
   ]
  },
  {
   "cell_type": "markdown",
   "metadata": {},
   "source": [
    "`CG.combine` implements in the most straightforward manner the CG iteration that takes two equivariants, and produces and invariant of the specified L order. The order $l$ of the inputs is inferred by the size."
   ]
  },
  {
   "cell_type": "code",
   "execution_count": 39,
   "metadata": {},
   "outputs": [],
   "source": [
    "t1 = CG.combine(test_feats[3], test_feats[4], sel_l)\n",
    "t1_r = CG.combine(test_feats_rot[3], test_feats_rot[4], sel_l)"
   ]
  },
  {
   "cell_type": "markdown",
   "metadata": {},
   "source": [
    "The result can be rotated with the WignerD helper (and, ça va sans dire, matches the equivariant computed for the rotated structure)"
   ]
  },
  {
   "cell_type": "code",
   "execution_count": 40,
   "metadata": {},
   "outputs": [
    {
     "data": {
      "text/plain": [
       "array([ 1.45519152e-10, -1.41881173e-10,  2.91038305e-11, -1.52795110e-10,\n",
       "       -3.63797881e-11, -1.74622983e-10, -1.45519152e-10])"
      ]
     },
     "execution_count": 40,
     "metadata": {},
     "output_type": "execute_result"
    }
   ],
   "source": [
    "WD.rotate(t1) - t1_r"
   ]
  },
  {
   "cell_type": "markdown",
   "metadata": {},
   "source": [
    "Lots of fun: we can rinse, repeat as much as we want (the \"I\" in NICE is for \"iterative\"!)"
   ]
  },
  {
   "cell_type": "code",
   "execution_count": 41,
   "metadata": {},
   "outputs": [],
   "source": [
    "t2 = CG.combine(t1, test_feats[3], 2)\n",
    "t2_r = CG.combine(t1_r, test_feats_rot[3], 2)"
   ]
  },
  {
   "cell_type": "code",
   "execution_count": 42,
   "metadata": {},
   "outputs": [
    {
     "data": {
      "text/plain": [
       "array([ 5.58793545e-08,  7.07805157e-08,  3.72529030e-08, -2.37487257e-08,\n",
       "        8.56816769e-08])"
      ]
     },
     "execution_count": 42,
     "metadata": {},
     "output_type": "execute_result"
    }
   ],
   "source": [
    "WD.rotate(t2) - t2_r"
   ]
  },
  {
   "cell_type": "code",
   "execution_count": 43,
   "metadata": {},
   "outputs": [],
   "source": [
    "t3 = CG.combine(t2, test_feats[1], 1)\n",
    "t3_r = CG.combine(t2_r, test_feats_rot[1], 1)"
   ]
  },
  {
   "cell_type": "code",
   "execution_count": 44,
   "metadata": {},
   "outputs": [
    {
     "data": {
      "text/plain": [
       "array([ 1.22070312e-04, -4.10079956e-05, -3.33786011e-05])"
      ]
     },
     "execution_count": 44,
     "metadata": {},
     "output_type": "execute_result"
    }
   ],
   "source": [
    "WD.rotate(t3) - t3_r # note: the residual grows only because the features become very large"
   ]
  },
  {
   "cell_type": "markdown",
   "metadata": {},
   "source": [
    "A small twist: we can also combine two equivariants that are not expansion coefficients!"
   ]
  },
  {
   "cell_type": "code",
   "execution_count": 45,
   "metadata": {},
   "outputs": [],
   "source": [
    "t4 = CG.combine(t3, t2, 3)\n",
    "t4_r = CG.combine(t3_r, t2_r, 3)"
   ]
  },
  {
   "cell_type": "code",
   "execution_count": 46,
   "metadata": {},
   "outputs": [
    {
     "data": {
      "text/plain": [
       "array([-6.71661849e-15,  3.38195931e-15, -3.83131055e-15,  4.87191341e-15,\n",
       "        9.93302734e-16,  6.14901693e-15,  5.77061588e-15])"
      ]
     },
     "execution_count": 46,
     "metadata": {},
     "output_type": "execute_result"
    }
   ],
   "source": [
    "(WD.rotate(t4) - t4_r)/np.linalg.norm(t4)"
   ]
  },
  {
   "cell_type": "markdown",
   "metadata": {},
   "source": [
    "Note that the CG iter is built to fail gracefully if called with \"impossible\" inputs (e.g. with l1,l2,L that do not fulfill the triangle inequality)"
   ]
  },
  {
   "cell_type": "code",
   "execution_count": 47,
   "metadata": {},
   "outputs": [
    {
     "data": {
      "text/plain": [
       "array([0., 0., 0., 0., 0., 0., 0., 0., 0., 0., 0., 0., 0.])"
      ]
     },
     "execution_count": 47,
     "metadata": {},
     "output_type": "execute_result"
    }
   ],
   "source": [
    "CG.combine(t2, t4, 6)  #nb: t2 is L=2 and t4 is L=3"
   ]
  },
  {
   "cell_type": "markdown",
   "metadata": {},
   "source": [
    "... but not when called outside the precomputed range "
   ]
  },
  {
   "cell_type": "code",
   "execution_count": 48,
   "metadata": {},
   "outputs": [
    {
     "name": "stdout",
     "output_type": "stream",
     "text": [
      "ValueError: Requested CG entry has not been precomputed\n"
     ]
    }
   ],
   "source": [
    "# catch the exception because example notebooks should run without errors\n",
    "try: \n",
    "    CG.combine(t2, t4, 12)\n",
    "except ValueError:\n",
    "    print(\"ValueError: Requested CG entry has not been precomputed\")"
   ]
  },
  {
   "cell_type": "markdown",
   "metadata": {},
   "source": [
    "# Feature products"
   ]
  },
  {
   "cell_type": "markdown",
   "metadata": {},
   "source": [
    "Another common use of CG coefficients is to expand products of spherical harmonics into objects that transform as individual irreps of $SO(3)$. This is also implemented as part of `ClebschGordanReal`. These are basically outer products of the features $|l_1 m_1; l_2 m_2;\\rangle = |l_1 m_1\\rangle |l_2 m_2\\rangle$"
   ]
  },
  {
   "cell_type": "code",
   "execution_count": 49,
   "metadata": {},
   "outputs": [],
   "source": [
    "test_prod = test_feats[2][:,np.newaxis]@test_feats[3][np.newaxis,:]\n",
    "test_prod_rot = test_feats_rot[2][:,np.newaxis]@test_feats_rot[3][np.newaxis,:]"
   ]
  },
  {
   "cell_type": "code",
   "execution_count": 50,
   "metadata": {},
   "outputs": [
    {
     "data": {
      "image/png": "[encoded data removed]",
      "text/plain": [
       "<Figure size 403.2x288 with 1 Axes>"
      ]
     },
     "metadata": {
      "needs_background": "light"
     },
     "output_type": "display_data"
    },
    {
     "data": {
      "image/png": "[encoded data removed]",
      "text/plain": [
       "<Figure size 403.2x288 with 1 Axes>"
      ]
     },
     "metadata": {
      "needs_background": "light"
     },
     "output_type": "display_data"
    }
   ],
   "source": [
    "plt.matshow(test_prod); plt.show(); plt.matshow(test_prod_rot);"
   ]
  },
  {
   "cell_type": "markdown",
   "metadata": {},
   "source": [
    "`ClebschGordanReal.couple()` takes one of these $l_1\\times l_2$ matrices and explodes them as a list of terms with $L\\in[|l_1-l_2|,(l_1+l_2)]$, i.e.\n",
    "$$\n",
    "|(l_1, l_2); L M\\rangle = \\sum_{m_1 m_2} |l_1 m_1 \\rangle  |l_2 m_2 \\rangle  \\langle l_1 m_1; l_2 m_2 |L M \\rangle\n",
    "$$"
   ]
  },
  {
   "cell_type": "code",
   "execution_count": 51,
   "metadata": {},
   "outputs": [],
   "source": [
    "test_coupled = CG.couple(test_prod)"
   ]
  },
  {
   "cell_type": "markdown",
   "metadata": {},
   "source": [
    "Depending on the $l$ values this come from, the $L$ items have different nature (e.g. in terms of parity) and so the coupling function returns a dictionary in which each entry keeps track of the $l$ values of the terms that have been coupled"
   ]
  },
  {
   "cell_type": "code",
   "execution_count": 52,
   "metadata": {},
   "outputs": [
    {
     "data": {
      "text/plain": [
       "{(2, 3): {1: array([  1116.97266153,   9182.66418359, 257291.01929584]),\n",
       "  2: array([  -35.01233816,  2828.86974201,   490.10996308, 14611.9089392 ,\n",
       "          -767.50231429]),\n",
       "  3: array([ -27558.89898463,   -1200.96265403,    5846.63967851,\n",
       "           12867.0974336 ,  157208.67054923,  -18469.14931726,\n",
       "         -206676.68144291]),\n",
       "  4: array([  654.29805779, -7202.14472393,   362.06179569,  2653.03803833,\n",
       "          1075.28740649,  8613.65658104, -1434.97953703, -8265.52573615,\n",
       "           196.13187896]),\n",
       "  5: array([  59173.23063602,    5671.61224113,  -26538.2726145 ,\n",
       "           -3396.16257745,    8205.69769318,   23246.62736235,\n",
       "          165340.37697962,  -31408.00297561, -178506.64997609,\n",
       "           26363.61524319,  239148.83025647])}}"
      ]
     },
     "execution_count": 52,
     "metadata": {},
     "output_type": "execute_result"
    }
   ],
   "source": [
    "test_coupled"
   ]
  },
  {
   "cell_type": "markdown",
   "metadata": {},
   "source": [
    "The coupled entries transform as $Y^m_l$ and can be rotated accordingly"
   ]
  },
  {
   "cell_type": "code",
   "execution_count": 53,
   "metadata": {},
   "outputs": [],
   "source": [
    "test_coupled_rot = CG.couple(test_prod_rot)"
   ]
  },
  {
   "cell_type": "code",
   "execution_count": 54,
   "metadata": {},
   "outputs": [
    {
     "data": {
      "text/plain": [
       "array([ 150171.18662231,  -55037.35404483,   89497.74373103,\n",
       "        -96628.12885381,  -18576.65790811, -119200.92711827,\n",
       "       -106067.50937783])"
      ]
     },
     "execution_count": 54,
     "metadata": {},
     "output_type": "execute_result"
    }
   ],
   "source": [
    "test_coupled_rot[(2,3)][3]"
   ]
  },
  {
   "cell_type": "code",
   "execution_count": 55,
   "metadata": {},
   "outputs": [
    {
     "data": {
      "text/plain": [
       "array([-5.23868948e-10,  3.27418093e-10, -2.32830644e-10,  4.36557457e-10,\n",
       "        1.09139364e-11,  6.25732355e-10,  5.38420863e-10])"
      ]
     },
     "execution_count": 55,
     "metadata": {},
     "output_type": "execute_result"
    }
   ],
   "source": [
    "WD.rotate(test_coupled[(2,3)][3]) - test_coupled_rot[(2,3)][3]"
   ]
  },
  {
   "cell_type": "markdown",
   "metadata": {},
   "source": [
    "The coupled coefficients can be translated back into the product form"
   ]
  },
  {
   "cell_type": "code",
   "execution_count": 56,
   "metadata": {},
   "outputs": [],
   "source": [
    "test_decoupled = CG.decouple(test_coupled)"
   ]
  },
  {
   "cell_type": "code",
   "execution_count": 57,
   "metadata": {},
   "outputs": [
    {
     "data": {
      "text/plain": [
       "array([[ 5.03263807e+03,  3.39239694e+02, -1.43930748e+03,\n",
       "        -3.22439192e+03, -3.52599939e+04,  3.89349997e+03,\n",
       "         4.66721269e+04],\n",
       "       [ 2.38554073e+02,  1.60804353e+01, -6.82251848e+01,\n",
       "        -1.52840680e+02, -1.67137296e+03,  1.84557336e+02,\n",
       "         2.21232400e+03],\n",
       "       [-2.19349166e+04, -1.47858723e+03,  6.27326844e+03,\n",
       "         1.40536170e+04,  1.53681829e+05, -1.69699462e+04,\n",
       "        -2.03421982e+05],\n",
       "       [ 2.64566849e+03,  1.78339026e+02, -7.56646992e+02,\n",
       "        -1.69506966e+03, -1.85362535e+04,  2.04682118e+03,\n",
       "         2.45356360e+04],\n",
       "       [ 3.70114583e+04,  2.49486564e+03, -1.05850785e+04,\n",
       "        -2.37130995e+04, -2.59312070e+05,  2.86339113e+04,\n",
       "         3.43240157e+05]])"
      ]
     },
     "execution_count": 57,
     "metadata": {},
     "output_type": "execute_result"
    }
   ],
   "source": [
    "test_decoupled"
   ]
  },
  {
   "cell_type": "code",
   "execution_count": 58,
   "metadata": {},
   "outputs": [
    {
     "data": {
      "text/plain": [
       "array([[-1.27329258e-11,  4.20641300e-12, -4.77484718e-11,\n",
       "         1.81898940e-12,  1.45519152e-11, -2.27373675e-12,\n",
       "        -2.18278728e-11],\n",
       "       [-1.50635060e-12,  3.23474580e-11, -1.70530257e-12,\n",
       "        -3.46744855e-12,  6.82121026e-13,  0.00000000e+00,\n",
       "        -1.36424205e-12],\n",
       "       [ 1.09139364e-11,  1.36424205e-12, -2.72848411e-12,\n",
       "         1.81898940e-12, -5.82076609e-11,  7.27595761e-12,\n",
       "         2.91038305e-11],\n",
       "       [-1.36424205e-12,  3.52429197e-12,  3.41060513e-13,\n",
       "         6.82121026e-13,  1.09139364e-11,  3.68345354e-11,\n",
       "        -1.45519152e-11],\n",
       "       [-2.18278728e-11, -1.36424205e-12,  7.27595761e-12,\n",
       "         7.27595761e-12,  1.16415322e-10, -1.09139364e-11,\n",
       "        -1.74622983e-10]])"
      ]
     },
     "execution_count": 58,
     "metadata": {},
     "output_type": "execute_result"
    }
   ],
   "source": [
    "test_decoupled - test_prod"
   ]
  },
  {
   "cell_type": "code",
   "execution_count": 59,
   "metadata": {},
   "outputs": [
    {
     "data": {
      "text/plain": [
       "4.617687713775866e-16"
      ]
     },
     "execution_count": 59,
     "metadata": {},
     "output_type": "execute_result"
    }
   ],
   "source": [
    "np.linalg.norm(test_decoupled - test_prod)/np.linalg.norm(test_prod)"
   ]
  },
  {
   "cell_type": "markdown",
   "metadata": {},
   "source": [
    "This is a consequence of the fact that the real CG are orthogonal, just like their conventional counterparts"
   ]
  },
  {
   "cell_type": "code",
   "execution_count": 60,
   "metadata": {},
   "outputs": [],
   "source": [
    "# this also gives a view into the internal storage of the CG coefficients, that are stored in a\n",
    "# sparse format because of the non-trivial sparsity pattern\n",
    "l1,l2 = next(iter(test_coupled.keys()))\n",
    "prod = np.zeros((2*l1+1,2*l2+1,2*l1+1,2*l2+1))\n",
    "for L in range(abs(l1-l2), abs(l1+l2)+1):\n",
    "    for M in range(0, 2*L+1):\n",
    "        for m1, m2, mcg in CG._cgdict[(l1, l2, L)][M]:\n",
    "            for m1p, m2p, mcgp in CG._cgdict[(l1, l2, L)][M]:\n",
    "                prod[m1,m2,m1p,m2p] += mcg*mcgp"
   ]
  },
  {
   "cell_type": "code",
   "execution_count": 61,
   "metadata": {},
   "outputs": [
    {
     "data": {
      "text/plain": [
       "<matplotlib.image.AxesImage at 0x7f0dd3046278>"
      ]
     },
     "execution_count": 61,
     "metadata": {},
     "output_type": "execute_result"
    },
    {
     "data": {
      "image/png": "[encoded data removed]",
      "text/plain": [
       "<Figure size 288x288 with 1 Axes>"
      ]
     },
     "metadata": {
      "needs_background": "light"
     },
     "output_type": "display_data"
    }
   ],
   "source": [
    "pr = prod.reshape((2*l1+1)*(2*l2+1),(2*l1+1)*(2*l2+1))\n",
    "plt.matshow(pr)"
   ]
  },
  {
   "cell_type": "markdown",
   "metadata": {},
   "source": [
    "## Higher products"
   ]
  },
  {
   "cell_type": "markdown",
   "metadata": {},
   "source": [
    "The coupling/decoupling machinery can be applied also to higher products $\\prod |l_i m_i\\rangle$, in an iterative fashion"
   ]
  },
  {
   "cell_type": "code",
   "execution_count": 62,
   "metadata": {},
   "outputs": [],
   "source": [
    "# this is a pretty complicated product\n",
    "test_prod = np.einsum(\"a,b,c,d->abcd\",test_feats[2],test_feats[1],test_feats[1],test_feats[2])"
   ]
  },
  {
   "cell_type": "code",
   "execution_count": 63,
   "metadata": {},
   "outputs": [],
   "source": [
    "test_coupled = CG.couple(test_prod, iterate=2)"
   ]
  },
  {
   "cell_type": "markdown",
   "metadata": {},
   "source": [
    "There are MANY terms, but all transform as the associated $Y^M_L$. The dictionary keys are composed according to the sequence of $l$ channels that were coupled."
   ]
  },
  {
   "cell_type": "code",
   "execution_count": 64,
   "metadata": {},
   "outputs": [
    {
     "data": {
      "text/plain": [
       "[(2, 0, 1, 1, 1, 2),\n",
       " (2, 1, 1, 1, 1, 2),\n",
       " (2, 2, 1, 1, 1, 2),\n",
       " (2, 1, 1, 2, 1, 2),\n",
       " (2, 2, 1, 2, 1, 2),\n",
       " (2, 3, 1, 2, 1, 2),\n",
       " (2, 2, 1, 3, 1, 2),\n",
       " (2, 3, 1, 3, 1, 2),\n",
       " (2, 4, 1, 3, 1, 2)]"
      ]
     },
     "execution_count": 64,
     "metadata": {},
     "output_type": "execute_result"
    }
   ],
   "source": [
    "list(test_coupled.keys())"
   ]
  },
  {
   "cell_type": "code",
   "execution_count": 65,
   "metadata": {},
   "outputs": [
    {
     "data": {
      "text/plain": [
       "array([-2.72168001e+08, -3.82663120e+08,  5.22820035e+07,  2.13767186e+09,\n",
       "       -3.40704335e+08, -2.68524386e+09,  1.75586816e+08])"
      ]
     },
     "execution_count": 65,
     "metadata": {},
     "output_type": "execute_result"
    }
   ],
   "source": [
    "test_coupled[(2,  1,  1,  1, 1,  2)][3]"
   ]
  },
  {
   "cell_type": "code",
   "execution_count": 66,
   "metadata": {},
   "outputs": [],
   "source": [
    "test_prod_rot = np.einsum(\"a,b,c,d->abcd\",test_feats_rot[2],test_feats_rot[1],test_feats_rot[1],test_feats_rot[2])\n",
    "test_coupled_rot = CG.couple(test_prod_rot, iterate=2)"
   ]
  },
  {
   "cell_type": "code",
   "execution_count": 67,
   "metadata": {},
   "outputs": [
    {
     "data": {
      "text/plain": [
       "array([-2.26497650e-05, -3.00407410e-05, -3.71932983e-05, -2.02655792e-05,\n",
       "       -7.45058060e-07, -1.69277191e-05, -1.00135803e-05])"
      ]
     },
     "execution_count": 67,
     "metadata": {},
     "output_type": "execute_result"
    }
   ],
   "source": [
    "WD.rotate(test_coupled[(2,  1,  1,  1, 1,  2)][3]) - test_coupled_rot[(2,  1,  1,  1, 1,  2)][3]"
   ]
  },
  {
   "cell_type": "markdown",
   "metadata": {},
   "source": [
    "even if it's really messy behind the scenes, even this nested coupling sequence can be undone exactly (provided there's sufficiently high LMAX)"
   ]
  },
  {
   "cell_type": "code",
   "execution_count": 68,
   "metadata": {},
   "outputs": [],
   "source": [
    "test_decoupled = CG.decouple(test_coupled, iterate=2)"
   ]
  },
  {
   "cell_type": "code",
   "execution_count": 69,
   "metadata": {},
   "outputs": [
    {
     "data": {
      "text/plain": [
       "1.399719604561288e-15"
      ]
     },
     "execution_count": 69,
     "metadata": {},
     "output_type": "execute_result"
    }
   ],
   "source": [
    "np.linalg.norm(test_decoupled-test_prod)/np.linalg.norm(test_prod)"
   ]
  },
  {
   "cell_type": "markdown",
   "metadata": {},
   "source": [
    "## An application: irreducible spherical tensors"
   ]
  },
  {
   "cell_type": "markdown",
   "metadata": {},
   "source": [
    " Cartesian tensors (products of terms transforming like $x,y,z$) transform as a combination of rotation matrices. They can instead be decomposed in and _irreducible spherical tensor_ form, that instead transforms like irreps of $SO(3)$"
   ]
  },
  {
   "cell_type": "markdown",
   "metadata": {},
   "source": [
    "In the following we see the decomposition of the simplest Cartesian tensor of rank 2, a dyadic formed from two atomic vectors\n",
    "$$ \n",
    "\\mathbf{X}_{ij} = \\mathbf{u}_i \\mathbf{v}_j  \n",
    "$$\n",
    "that can be decomposed into objects that transform as irreducible spherical tensors as \n",
    "$$\n",
    "\\mathbf{u}_i \\mathbf{v}_j  = \\frac{\\mathbf{u} \\cdot \\mathbf{v}}{3} \\delta_{ij}+ \\frac{\\mathbf{u}_i\\mathbf{v}_j - \\mathbf{u}_j \\mathbf{v}_i}{2} + \\left( \\frac{\\mathbf{u}_i\\mathbf{v}_j + \\mathbf{u}_j \\mathbf{v}_i}{2} -\\frac{\\mathbf{u} \\cdot \\mathbf{v}}{3} \\delta_{ij} \\right)\n",
    "$$\n",
    "The first term on the RHS is an l=0 invariant, followed by an antisymmetric l=1 and a symmetric traceless l=2 tensor. "
   ]
  },
  {
   "cell_type": "markdown",
   "metadata": {},
   "source": [
    "For instance, take the product of atomic vectors"
   ]
  },
  {
   "cell_type": "code",
   "execution_count": 70,
   "metadata": {},
   "outputs": [],
   "source": [
    "xx = selframe.positions.T @ selframe.positions"
   ]
  },
  {
   "cell_type": "markdown",
   "metadata": {},
   "source": [
    "this converts xyz arrays to the outer product of two spherical l=1 form, so we can use the CG machinery"
   ]
  },
  {
   "cell_type": "code",
   "execution_count": 71,
   "metadata": {},
   "outputs": [],
   "source": [
    "xx_spherical = xyz_to_spherical(xx)"
   ]
  },
  {
   "cell_type": "code",
   "execution_count": 72,
   "metadata": {},
   "outputs": [
    {
     "data": {
      "text/plain": [
       "array([[ 99.50164592,  90.12413634,  91.93834919],\n",
       "       [ 90.12413634,  91.5644164 ,  90.03734198],\n",
       "       [ 91.93834919,  90.03734198, 111.39964704]])"
      ]
     },
     "execution_count": 72,
     "metadata": {},
     "output_type": "execute_result"
    }
   ],
   "source": [
    "xx_spherical"
   ]
  },
  {
   "cell_type": "markdown",
   "metadata": {},
   "source": [
    "the outer product of (xyz) decomposes as L=0+L=2 (L=1 is missing because of symmetry)"
   ]
  },
  {
   "cell_type": "code",
   "execution_count": 73,
   "metadata": {},
   "outputs": [],
   "source": [
    "xx_coupled = CG.couple(xx_spherical)"
   ]
  },
  {
   "cell_type": "code",
   "execution_count": 74,
   "metadata": {},
   "outputs": [
    {
     "data": {
      "text/plain": [
       "{(1, 1): {0: array([-174.62865872]),\n",
       "  1: array([0., 0., 0.]),\n",
       "  2: array([130.02046033, 127.45477591, -11.33805938, 127.33203014,\n",
       "           8.41315727])}}"
      ]
     },
     "execution_count": 74,
     "metadata": {},
     "output_type": "execute_result"
    }
   ],
   "source": [
    "xx_coupled"
   ]
  },
  {
   "cell_type": "markdown",
   "metadata": {},
   "source": [
    "we can build the rotated tensor by rotating the irreducible representations. note that CG.decouple is smart enough to ignore the missing L=1 component (that would be full of zeros!)"
   ]
  },
  {
   "cell_type": "code",
   "execution_count": 75,
   "metadata": {},
   "outputs": [],
   "source": [
    "xx_rot_wd = {(1,1) : {\n",
    "                    0: xx_coupled[(1,1)][0], \n",
    "                    2: WD.rotate(xx_coupled[(1,1)][2]) \n",
    "                    }\n",
    "                }\n",
    "xx_rot_wd = spherical_to_xyz(CG.decouple(xx_rot_wd))"
   ]
  },
  {
   "cell_type": "markdown",
   "metadata": {},
   "source": [
    "This matches the corresponding tensor computed for the rotated frame"
   ]
  },
  {
   "cell_type": "code",
   "execution_count": 76,
   "metadata": {},
   "outputs": [],
   "source": [
    "xx_rot = rotframe.positions.T @ rotframe.positions"
   ]
  },
  {
   "cell_type": "code",
   "execution_count": 77,
   "metadata": {},
   "outputs": [
    {
     "name": "stdout",
     "output_type": "stream",
     "text": [
      "[[ 47.373037   -80.92115493 -57.27908519]\n",
      " [-80.92115493 169.73100427 105.02452214]\n",
      " [-57.27908519 105.02452214  85.36166809]]\n"
     ]
    }
   ],
   "source": [
    "print(xx_rot)"
   ]
  },
  {
   "cell_type": "code",
   "execution_count": 78,
   "metadata": {},
   "outputs": [
    {
     "name": "stdout",
     "output_type": "stream",
     "text": [
      "[[ 47.373037   -80.92115493 -57.27908519]\n",
      " [-80.92115493 169.73100427 105.02452214]\n",
      " [-57.27908519 105.02452214  85.36166809]]\n"
     ]
    }
   ],
   "source": [
    "print(xx_rot_wd)"
   ]
  },
  {
   "cell_type": "code",
   "execution_count": null,
   "metadata": {},
   "outputs": [],
   "source": []
  }
 ],
 "metadata": {
  "kernelspec": {
   "display_name": "Python 3 (ipykernel)",
   "language": "python",
   "name": "python3"
  },
  "language_info": {
   "codemirror_mode": {
    "name": "ipython",
    "version": 3
   },
   "file_extension": ".py",
   "mimetype": "text/x-python",
   "name": "python",
   "nbconvert_exporter": "python",
   "pygments_lexer": "ipython3",
   "version": "3.6.9"
  },
  "toc": {
   "base_numbering": 1,
   "nav_menu": {},
   "number_sections": true,
   "sideBar": true,
   "skip_h1_title": false,
   "title_cell": "Table of Contents",
   "title_sidebar": "Contents",
   "toc_cell": false,
   "toc_position": {},
   "toc_section_display": true,
   "toc_window_display": true
  }
 },
 "nbformat": 4,
 "nbformat_minor": 4
}
