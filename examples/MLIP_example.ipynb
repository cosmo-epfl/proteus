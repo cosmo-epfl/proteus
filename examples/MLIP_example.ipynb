{
 "cells": [
  {
   "cell_type": "markdown",
   "metadata": {},
   "source": [
    "To install rascal:\n",
    "(NOTE: See the top-level README for the most up-to-date installation instructions.)\n",
    "+ mkdir ../build \n",
    "+ cd build\n",
    "+ cmake -DCMAKE_BUILD_TYPE=Release -DBUILD_TESTS=OFF ..\n",
    "+ make -j 4\n",
    "+ make install"
   ]
  },
  {
   "cell_type": "code",
   "execution_count": null,
   "metadata": {
    "init_cell": true
   },
   "outputs": [],
   "source": [
    "%matplotlib inline\n",
    "from matplotlib import pylab as plt\n",
    "\n",
    "import time\n",
    "import rascal\n",
    "import json\n",
    "\n",
    "import ase\n",
    "from ase.io import read, write\n",
    "from ase.build import make_supercell\n",
    "from ase.visualize import view\n",
    "import numpy as np\n",
    "\n",
    "from rascal.representations import SphericalInvariants\n",
    "from rascal.models import Kernel, train_gap_model\n",
    "from rascal.models.asemd import ASEMLCalculator\n",
    "from rascal.utils import from_dict, to_dict, CURFilter, dump_obj, load_obj, get_score, print_score"
   ]
  },
  {
   "cell_type": "code",
   "execution_count": null,
   "metadata": {},
   "outputs": [],
   "source": [
    "import urllib.request\n",
    "# a collection of distorted ethanol molecules from the ANI-1 dataset \n",
    "# (see https://github.com/isayev/ANI1_dataset) with energies and forces computed using DFTB+ \n",
    "# (see https://www.dftbplus.org/)\n",
    "url = 'https://raw.githubusercontent.com/lab-cosmo/librascal-example-data/833b4336a7daf471e16993158322b3ea807b9d3f/inputs/molecule_conformers_dftb.xyz'\n",
    "# Download the file from `url`, save it in a temporary directory and get the\n",
    "# path to it (e.g. '/tmp/tmpb48zma.txt') in the `structures_fn` variable:\n",
    "structures_fn, headers = urllib.request.urlretrieve(url)\n",
    "structures_fn"
   ]
  },
  {
   "cell_type": "markdown",
   "metadata": {},
   "source": [
    "# Utility functions"
   ]
  },
  {
   "cell_type": "code",
   "execution_count": null,
   "metadata": {
    "init_cell": true
   },
   "outputs": [],
   "source": [
    "def extract_ref(frames,info_key='dft_formation_energy_per_atom_in_eV',array_key='zeros'):\n",
    "    y,f = [], []\n",
    "    for frame in frames:\n",
    "        y.append(frame.info[info_key])\n",
    "        if array_key is None:\n",
    "            pass\n",
    "        elif array_key == 'zeros':\n",
    "            f.append(np.zeros(frame.get_positions().shape))\n",
    "        else:\n",
    "            f.append(frame.get_array(array_key))\n",
    "    y= np.array(y)\n",
    "    try:\n",
    "        f = np.concatenate(f)\n",
    "    except:\n",
    "        pass\n",
    "    return y,f\n"
   ]
  },
  {
   "cell_type": "markdown",
   "metadata": {},
   "source": [
    "# Build a Force Field"
   ]
  },
  {
   "cell_type": "code",
   "execution_count": null,
   "metadata": {
    "code_folding": []
   },
   "outputs": [],
   "source": [
    "# Total number of structure to load\n",
    "N = 100\n",
    "# Number of structure to train the model with\n",
    "f = int(0.8*N)\n",
    "\n",
    "# load the structures\n",
    "frames = read(structures_fn,':{}'.format(N))\n",
    "\n",
    "\n",
    "global_species = []\n",
    "for frame in frames:\n",
    "    global_species.extend(frame.get_atomic_numbers())\n",
    "global_species = np.unique(global_species)\n",
    "\n",
    "# split the structures in 2 sets\n",
    "ids = list(range(N))\n",
    "np.random.seed(10)\n",
    "np.random.shuffle(ids)\n",
    "\n",
    "train_ids = ids[:f]\n",
    "test_ids = ids[f:]\n",
    "\n",
    "frames_train = [frames[ii] for ii in ids[:f]]\n",
    "frames_test = [frames[ii] for ii in ids[f:]]\n",
    "\n",
    "# Isolated atom contributions\n",
    "self_contributions = {\n",
    "    1: -6.492647589968434,\n",
    "    6: -38.054950840332474,\n",
    "    8: -83.97955098636527,\n",
    "}"
   ]
  },
  {
   "cell_type": "code",
   "execution_count": null,
   "metadata": {},
   "outputs": [],
   "source": [
    "# split the dataset in a train and a test set\n",
    "y_train, f_train = extract_ref(frames_train,'dftb_energy_eV','dftb_forces_eV_per_Ang')\n",
    "y_test, f_test = extract_ref(frames_test,'dftb_energy_eV','dftb_forces_eV_per_Ang')"
   ]
  },
  {
   "cell_type": "code",
   "execution_count": null,
   "metadata": {},
   "outputs": [],
   "source": [
    "# define the parameters of the spherical expansion\n",
    "hypers = dict(soap_type=\"PowerSpectrum\",\n",
    "              interaction_cutoff=3.5, \n",
    "              max_radial=6, \n",
    "              max_angular=6, \n",
    "              gaussian_sigma_constant=0.4,\n",
    "              gaussian_sigma_type=\"Constant\",\n",
    "              cutoff_smooth_width=0.5,\n",
    "              normalize=False,\n",
    "              radial_basis=\"GTO\",\n",
    "              compute_gradients=True,\n",
    "              expansion_by_species_method='structure wise',\n",
    "              )\n",
    "\n",
    "\n",
    "soap = SphericalInvariants(**hypers)\n",
    "# compute the representation of all the structures\n",
    "managers = soap.transform(frames)"
   ]
  },
  {
   "cell_type": "code",
   "execution_count": null,
   "metadata": {
    "code_folding": []
   },
   "outputs": [],
   "source": [
    "# select the sparse points for the sparse kernel method with CUR on the whole training set\n",
    "n_sparse = {1:40,6:30,8:20}\n",
    "compressor = CURFilter(soap, n_sparse, act_on='sample per species')\n",
    "X_sparse = compressor.select_and_filter(managers)"
   ]
  },
  {
   "cell_type": "code",
   "execution_count": null,
   "metadata": {},
   "outputs": [],
   "source": [
    "# set up the sparse kernel and compute the representation for the train set\n",
    "zeta = 1\n",
    "kernel = Kernel(soap, name='GAP', zeta=zeta, target_type='Structure', kernel_type='Sparse')\n",
    "\n",
    "managers_train = managers.get_subset(train_ids)"
   ]
  },
  {
   "cell_type": "code",
   "execution_count": null,
   "metadata": {},
   "outputs": [],
   "source": [
    "# build the KNM matrix for training with forces and energies (see train_gap_model for more details)\n",
    "KNM = kernel(managers_train, X_sparse)\n",
    "KNM_down = kernel(managers_train, X_sparse, grad=(True, False))\n",
    "KNM = np.vstack([KNM, KNM_down])\n",
    "del KNM_down\n",
    "KNM_down = []\n"
   ]
  },
  {
   "cell_type": "code",
   "execution_count": null,
   "metadata": {},
   "outputs": [],
   "source": [
    "# train a GAP model \n",
    "model = train_gap_model(kernel, frames_train, KNM, X_sparse, y_train, self_contributions, \n",
    "                        grad_train=-f_train, lambdas=[0.1, 0.01], jitter=1e-13)"
   ]
  },
  {
   "cell_type": "code",
   "execution_count": null,
   "metadata": {},
   "outputs": [],
   "source": [
    "# # the model can be serialized to a python dictionary\n",
    "# model_serialized = to_dict(model)\n",
    "# # and recovered from such dictionary\n",
    "# model_copy = from_dict(model_serialized)"
   ]
  },
  {
   "cell_type": "code",
   "execution_count": null,
   "metadata": {},
   "outputs": [],
   "source": [
    "# make predictions on the test set\n",
    "managers_test = managers.get_subset(test_ids)\n",
    "y_pred = model.predict(managers_test)\n",
    "f_pred = model.predict_forces(managers_test)"
   ]
  },
  {
   "cell_type": "code",
   "execution_count": null,
   "metadata": {},
   "outputs": [],
   "source": [
    "# basic assessement of the quality of the trained model\n",
    "print_score(y_pred, y_test)\n",
    "print_score(f_pred.flatten(), f_test.flatten())\n",
    "plt.plot(y_test, y_pred, 'o')\n",
    "plt.title(\"correlation plot\")\n",
    "plt.xlabel(\"predicted energies [eV]\")\n",
    "plt.ylabel(\"reference energies [eV]\")"
   ]
  },
  {
   "cell_type": "markdown",
   "metadata": {},
   "source": [
    "The correlation isn't great, but it's enough to get a working potential.\n",
    "\n",
    "In order to improve the accuracy and start getting _quantitative_ accuracy, we would need to increase the number of sparse environments (`n_sparse` above), as well as the number of training structures, both of which would also require more memory and time to train.  Be aware that you can easily exceed the memory limits even of typical supercomputer nodes with just a few hundred sparse points and a few thousand training atoms!"
   ]
  },
  {
   "cell_type": "code",
   "execution_count": null,
   "metadata": {},
   "outputs": [],
   "source": [
    "# save the model to a file in json format for future use\n",
    "dump_obj('/tmp/mymodel.json', model)"
   ]
  },
  {
   "cell_type": "markdown",
   "metadata": {},
   "source": [
    "# Test the model on dimer configurations"
   ]
  },
  {
   "cell_type": "code",
   "execution_count": null,
   "metadata": {},
   "outputs": [],
   "source": [
    "# you can load the previously trained model\n",
    "model = load_obj('/tmp/mymodel.json')"
   ]
  },
  {
   "cell_type": "code",
   "execution_count": null,
   "metadata": {},
   "outputs": [],
   "source": [
    "#creating atoms pairs, H is 1, C is 6 and O is 8, the first atom is the origin one\n",
    "pairs = [[1,1],[6,6],[8,8],[6,1],[8,1],[6,8]]\n",
    "ndists = 40 #number of distances to look at\n",
    "dists = np.linspace(0.1,4.9,ndists) #distance list, can be changed \n",
    "print('Number of configurations: ', len(pairs)*len(dists))"
   ]
  },
  {
   "cell_type": "code",
   "execution_count": null,
   "metadata": {},
   "outputs": [],
   "source": [
    "frames = []\n",
    "for p in pairs:\n",
    "    for d in dists:\n",
    "        #using ase we can create the cell and place the atoms\n",
    "        atoms = ase.Atoms(numbers=p,pbc=False,cell=np.eye(3)*10,positions=[[0,0,0],[d,0,0]])\n",
    "        frames.append(atoms)\n",
    "X = soap.transform(frames)\n",
    "e_pairs = model.predict(X)\n",
    "e_pairs -= e_pairs.mean()"
   ]
  },
  {
   "cell_type": "code",
   "execution_count": null,
   "metadata": {},
   "outputs": [],
   "source": [
    "for pair_to_plot in pairs:\n",
    "    i = pairs.index(pair_to_plot)\n",
    "\n",
    "    fig, ax = plt.subplots()\n",
    "    ax.plot(dists,e_pairs[i*ndists:(i+1)*ndists],'--xb',linewidth=1)\n",
    "    ax.set_xlabel('Distance (A)')\n",
    "    ax.set_ylabel('Predicted energy (eV)')\n",
    "    ax.set_title('Bond energy between {} and {}'.format(*pair_to_plot))\n",
    "    plt.tight_layout()\n",
    "    plt.show()"
   ]
  },
  {
   "cell_type": "markdown",
   "metadata": {},
   "source": [
    "# Use it to run a MD simulation"
   ]
  },
  {
   "cell_type": "code",
   "execution_count": null,
   "metadata": {},
   "outputs": [],
   "source": [
    "from ase.md import MDLogger\n",
    "from ase.md.langevin import Langevin\n",
    "from ase import units\n",
    "from ase.io.trajectory import Trajectory\n",
    "from ase.md.velocitydistribution import MaxwellBoltzmannDistribution"
   ]
  },
  {
   "cell_type": "code",
   "execution_count": null,
   "metadata": {},
   "outputs": [],
   "source": [
    "from rascal.models.asemd import ASEMLCalculator"
   ]
  },
  {
   "cell_type": "code",
   "execution_count": null,
   "metadata": {},
   "outputs": [],
   "source": [
    "# Use the model loaded above\n",
    "soap = model.get_representation_calculator()\n",
    "calc = ASEMLCalculator(model, soap)"
   ]
  },
  {
   "cell_type": "code",
   "execution_count": null,
   "metadata": {},
   "outputs": [],
   "source": [
    "log_fn = '/tmp/md.log'\n",
    "filename = '/tmp/md.traj'\n",
    "\n",
    "T = 200"
   ]
  },
  {
   "cell_type": "code",
   "execution_count": null,
   "metadata": {},
   "outputs": [],
   "source": [
    "%%time\n",
    "\n",
    "atoms = read(structures_fn, 0)\n",
    "\n",
    "MaxwellBoltzmannDistribution(atoms, T* units.kB)\n",
    "\n",
    "atoms.set_calculator(calc)\n",
    "\n",
    "traj = Trajectory(filename, mode='w', atoms=atoms, master=None)\n",
    "\n",
    "dyn = Langevin(atoms, 0.5 * units.fs, units.kB * T, 0.002)\n",
    "\n",
    "dyn.attach(MDLogger(dyn, atoms, log_fn, header=True, stress=False,\n",
    "           peratom=False, mode=\"w\"), interval=50)\n",
    "\n",
    "dyn.attach(traj.write, interval=10)\n",
    "\n",
    "dyn.run(200)"
   ]
  },
  {
   "cell_type": "markdown",
   "metadata": {},
   "source": [
    "Uncomment and run the cell below to examine the trajectory using the ASE viewer:"
   ]
  },
  {
   "cell_type": "code",
   "execution_count": null,
   "metadata": {},
   "outputs": [],
   "source": [
    "#view(read(filename,':'))"
   ]
  }
 ],
 "metadata": {
  "celltoolbar": "Initialization Cell",
  "kernelspec": {
   "display_name": "Python 3",
   "language": "python",
   "name": "python3"
  },
  "language_info": {
   "codemirror_mode": {
    "name": "ipython",
    "version": 3
   },
   "file_extension": ".py",
   "mimetype": "text/x-python",
   "name": "python",
   "nbconvert_exporter": "python",
   "pygments_lexer": "ipython3",
   "version": "3.8.10"
  },
  "latex_envs": {
   "LaTeX_envs_menu_present": true,
   "autoclose": false,
   "autocomplete": true,
   "bibliofile": "biblio.bib",
   "cite_by": "apalike",
   "current_citInitial": 1,
   "eqLabelWithNumbers": true,
   "eqNumInitial": 1,
   "hotkeys": {
    "equation": "Ctrl-E",
    "itemize": "Ctrl-I"
   },
   "labels_anchors": false,
   "latex_user_defs": false,
   "report_style_numbering": false,
   "user_envs_cfg": false
  },
  "toc": {
   "base_numbering": 1,
   "nav_menu": {
    "height": "12px",
    "width": "252px"
   },
   "number_sections": true,
   "sideBar": true,
   "skip_h1_title": false,
   "title_cell": "Table of Contents",
   "title_sidebar": "Contents",
   "toc_cell": false,
   "toc_position": {},
   "toc_section_display": "block",
   "toc_window_display": false
  }
 },
 "nbformat": 4,
 "nbformat_minor": 4
}
