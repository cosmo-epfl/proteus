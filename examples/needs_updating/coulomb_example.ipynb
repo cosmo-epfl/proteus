{
 "cells": [
  {
   "cell_type": "markdown",
   "metadata": {},
   "source": [
    "# Compute the atom centered Coulomb Matrix representation"
   ]
  },
  {
   "cell_type": "markdown",
   "metadata": {},
   "source": [
    "To install QML library and compare rascal results with it\n",
    "+ pip install qml ase"
   ]
  },
  {
   "cell_type": "markdown",
   "metadata": {},
   "source": [
    "To install rascal:\n",
    "+ mkdir ../build \n",
    "+ cd build\n",
    "+ cmake -DCMAKE_BUILD_TYPE=Release ..\n",
    "+ make install -j 4"
   ]
  },
  {
   "cell_type": "code",
   "execution_count": null,
   "metadata": {},
   "outputs": [],
   "source": [
    "%env OMP_NUM_THREADS=1"
   ]
  },
  {
   "cell_type": "code",
   "execution_count": null,
   "metadata": {},
   "outputs": [],
   "source": [
    "%matplotlib inline\n",
    "from matplotlib import pyplot as plt"
   ]
  },
  {
   "cell_type": "code",
   "execution_count": null,
   "metadata": {},
   "outputs": [],
   "source": [
    "import qml\n",
    "from ase.io import read\n",
    "from ase.visualize import view\n",
    "import ase\n",
    "import numpy as np\n",
    "import sys, os\n",
    "from copy import copy\n",
    "from ase.build import make_supercell"
   ]
  },
  {
   "cell_type": "code",
   "execution_count": null,
   "metadata": {},
   "outputs": [],
   "source": [
    "import sys, os\n",
    "sys.path.insert(0,'../build/')\n",
    "import librascal as rc\n",
    "from librascal.representations import SortedCoulombMatrix"
   ]
  },
  {
   "cell_type": "code",
   "execution_count": null,
   "metadata": {},
   "outputs": [],
   "source": [
    "# load a small subset of structures from QM9\n",
    "frames = read('../reference_data/inputs/small_molecules-1000.xyz',':100')\n",
    "cutoff = 3.\n",
    "rep = SortedCoulombMatrix(cutoff,sorting_algorithm='row_norm')"
   ]
  },
  {
   "cell_type": "code",
   "execution_count": null,
   "metadata": {},
   "outputs": [],
   "source": [
    "new_frames = []\n",
    "aa = []\n",
    "for frame in frames:\n",
    "    new_frames.append(make_supercell(frame,np.eye(3)*1))\n",
    "print(np.max(list(map(len,new_frames))))"
   ]
  },
  {
   "cell_type": "code",
   "execution_count": null,
   "metadata": {},
   "outputs": [],
   "source": [
    "# have a look at them\n",
    "view(frames)"
   ]
  },
  {
   "cell_type": "code",
   "execution_count": null,
   "metadata": {},
   "outputs": [],
   "source": [
    "# Compute the sorted coulomb matrices for the list of structures\n",
    "%timeit -n 3 -r 3 features = rep.transform(new_frames)"
   ]
  },
  {
   "cell_type": "code",
   "execution_count": null,
   "metadata": {},
   "outputs": [],
   "source": [
    "# extract the feature matrix to compare with \n",
    "features = rep.transform(new_frames)\n",
    "test = features.get_features(rep)"
   ]
  },
  {
   "cell_type": "code",
   "execution_count": null,
   "metadata": {
    "code_folding": [
     1,
     12
    ]
   },
   "outputs": [],
   "source": [
    "# To get the coulomb matrices from QML\n",
    "def get_coulomb_ref(frame,size,cutoff,flavour):\n",
    "    from qml.representations import generate_atomic_coulomb_matrix\n",
    "    \n",
    "    nuclear_charges = frame.get_atomic_numbers()\n",
    "    coordinates = frame.get_positions()\n",
    "    \n",
    "    \n",
    "    cm = generate_atomic_coulomb_matrix(nuclear_charges, coordinates, size = size, sorting = flavour,\n",
    "    central_cutoff = cutoff, central_decay = -1, interaction_cutoff = 1e6, interaction_decay = -1,indices = None)\n",
    "    \n",
    "    return cm\n",
    "def get_coulomb_refs(frames,size,cutoff,flavour='distance'):  \n",
    "    cms = []\n",
    "    for frame in frames:\n",
    "        cms.append(get_coulomb_ref(frame,size,cutoff,flavour))\n",
    "    return np.vstack(cms)"
   ]
  },
  {
   "cell_type": "code",
   "execution_count": null,
   "metadata": {},
   "outputs": [],
   "source": [
    "# Compare with reference\n",
    "%timeit -n 3 -r 3 ref = get_coulomb_refs(new_frames,rep.size,cutoff,flavour='row-norm')\n",
    "ref = get_coulomb_refs(new_frames,rep.size,cutoff,flavour='row-norm')\n",
    "np.allclose(test,ref)"
   ]
  },
  {
   "cell_type": "code",
   "execution_count": null,
   "metadata": {},
   "outputs": [],
   "source": [
    "from librascal.utils import fps"
   ]
  },
  {
   "cell_type": "code",
   "execution_count": null,
   "metadata": {},
   "outputs": [],
   "source": [
    "result = fps(test,n_select=500,starting_index=None,method='simple')"
   ]
  },
  {
   "cell_type": "code",
   "execution_count": null,
   "metadata": {},
   "outputs": [],
   "source": [
    "plt.plot(result['fps_minmax_d2'])"
   ]
  },
  {
   "cell_type": "code",
   "execution_count": null,
   "metadata": {},
   "outputs": [],
   "source": []
  }
 ],
 "metadata": {
  "file_extension": ".py",
  "language_info": {
   "codemirror_mode": {
    "name": "ipython",
    "version": 3
   },
   "name": "python"
  },
  "mimetype": "text/x-python",
  "name": "python",
  "npconvert_exporter": "python",
  "pygments_lexer": "ipython3",
  "version": 3
 },
 "nbformat": 4,
 "nbformat_minor": 2
}
