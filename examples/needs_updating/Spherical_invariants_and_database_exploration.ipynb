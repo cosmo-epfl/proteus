{
 "cells": [
  {
   "cell_type": "markdown",
   "metadata": {},
   "source": [
    "To install rascal:\n",
    "(NOTE: See the top-level README for the most up-to-date installation instructions.)\n",
    "+ mkdir ../build \n",
    "+ cd build\n",
    "+ cmake -DCMAKE_BUILD_TYPE=Release -DBUILD_TESTS=ON ..\n",
    "+ make -j 4\n",
    "+ make install"
   ]
  },
  {
   "cell_type": "code",
   "execution_count": null,
   "metadata": {
    "init_cell": true
   },
   "outputs": [],
   "source": [
    "%matplotlib inline\n",
    "from matplotlib import pylab as plt\n",
    "\n",
    "import os, sys\n",
    "from ase.io import read\n",
    "sys.path.insert(0,\"../build/\")\n",
    "\n",
    "import sys\n",
    "import time\n",
    "import librascal\n",
    "import json\n",
    "\n",
    "import ase\n",
    "from ase.io import read, write\n",
    "from ase.build import make_supercell\n",
    "from ase.visualize import view\n",
    "import numpy as np\n",
    "import sys\n",
    "import pandas as pd\n",
    "from copy import deepcopy\n",
    "\n",
    "from tqdm.notebook import tqdm\n",
    "\n",
    "from librascal.representations import SphericalInvariants\n",
    "from librascal.models import Kernel, KRR, train_gap_model\n",
    "from librascal.models.sparse_points import SparsePoints\n",
    "from librascal.utils import from_dict, to_dict, CURFilter, FPSFilter, get_score, print_score"
   ]
  },
  {
   "cell_type": "code",
   "execution_count": null,
   "metadata": {},
   "outputs": [],
   "source": [
    "import urllib.request\n",
    "# a collection of distorted ethanol molecules from the ANI-1 dataset \n",
    "# (see https://github.com/isayev/ANI1_dataset) with energies and forces computed using DFTB+ \n",
    "# (see https://www.dftbplus.org/)\n",
    "url = 'https://raw.githubusercontent.com/cosmo-epfl/librascal-example-data/833b4336a7daf471e16993158322b3ea807b9d3f/inputs/molecule_conformers_dftb.xyz'\n",
    "# Download the file from `url`, save it in a temporary directory and get the\n",
    "# path to it (e.g. '/tmp/tmpb48zma.txt') in the `structures_fn` variable:\n",
    "structures_fn, headers = urllib.request.urlretrieve(url)\n",
    "structures_fn"
   ]
  },
  {
   "cell_type": "markdown",
   "metadata": {},
   "source": [
    "# Spherical Invariants: body order = 3"
   ]
  },
  {
   "cell_type": "markdown",
   "metadata": {
    "heading_collapsed": true
   },
   "source": [
    "## utils"
   ]
  },
  {
   "cell_type": "code",
   "execution_count": null,
   "metadata": {
    "code_folding": [
     0
    ],
    "hidden": true
   },
   "outputs": [],
   "source": [
    "def extract_ref(frames,info_key='dft_formation_energy_per_atom_in_eV',array_key='zeros'):\n",
    "    y,f = [], []\n",
    "    for frame in frames:\n",
    "        y.append(frame.info[info_key])\n",
    "        if array_key is None:\n",
    "            pass\n",
    "        elif array_key == 'zeros':\n",
    "            f.append(np.zeros(frame.get_positions().shape))\n",
    "        else:\n",
    "            f.append(frame.get_array(array_key))\n",
    "    y= np.array(y)\n",
    "    try:\n",
    "        f = np.concatenate(f)\n",
    "    except:\n",
    "        pass\n",
    "    return y,f"
   ]
  },
  {
   "cell_type": "markdown",
   "metadata": {
    "heading_collapsed": true
   },
   "source": [
    "## compute the representation of some atomic structures and their similarity"
   ]
  },
  {
   "cell_type": "code",
   "execution_count": null,
   "metadata": {
    "hidden": true
   },
   "outputs": [],
   "source": [
    "# Load the small molecules \n",
    "frames = read('../reference_data/inputs/small_molecules-1000.xyz',':100')"
   ]
  },
  {
   "cell_type": "code",
   "execution_count": null,
   "metadata": {
    "code_folding": [],
    "hidden": true
   },
   "outputs": [],
   "source": [
    "hypers = dict(soap_type=\"PowerSpectrum\",\n",
    "              interaction_cutoff=3.5, \n",
    "              max_radial=1, \n",
    "              max_angular=1, \n",
    "              gaussian_sigma_constant=0.4,\n",
    "              gaussian_sigma_type=\"Constant\",\n",
    "              cutoff_smooth_width=0.5,\n",
    "              normalize=True,\n",
    "              compute_gradients=True,\n",
    "              )\n",
    "soap = SphericalInvariants(**hypers)\n",
    "zeta=1\n",
    "kernel = Kernel(soap,name='Cosine', zeta=zeta, target_type='Structure', kernel_type='Full')"
   ]
  },
  {
   "cell_type": "code",
   "execution_count": null,
   "metadata": {
    "hidden": true
   },
   "outputs": [],
   "source": [
    "# compute the representation of the atomic structures inside of frames\n",
    "representation = soap.transform(frames)\n",
    "# get a numpy array containing the features\n",
    "X = representation.get_features(soap)"
   ]
  },
  {
   "cell_type": "code",
   "execution_count": null,
   "metadata": {
    "hidden": true
   },
   "outputs": [],
   "source": [
    "# get the information necessary to the computation of gradients. It has as many rows as dX_dr and each columns correspond to the index of the structure, the central atom, the neighbor atom and their atomic species.\n",
    "ij = representation.get_gradients_info()\n",
    "# get the derivatives of the representation w.r.t. the atomic positions\n",
    "dX_dr = representation.get_features_gradient(soap).reshape((ij.shape[0], 3, -1))"
   ]
  },
  {
   "cell_type": "code",
   "execution_count": null,
   "metadata": {
    "hidden": true
   },
   "outputs": [],
   "source": [
    "kk = kernel(representation)"
   ]
  },
  {
   "cell_type": "markdown",
   "metadata": {
    "heading_collapsed": true
   },
   "source": [
    "## Predict total energies with the gap model"
   ]
  },
  {
   "cell_type": "code",
   "execution_count": null,
   "metadata": {
    "code_folding": [],
    "hidden": true
   },
   "outputs": [],
   "source": [
    "# Total number of structure to load\n",
    "N = 1000\n",
    "# Number of structure to train the model with\n",
    "f = int(0.6*N)\n",
    "\n",
    "# load the structures\n",
    "frames = read(structures_fn,':{}'.format(N))\n",
    "\n",
    "global_species = []\n",
    "for frame in frames:\n",
    "    global_species.extend(frame.get_atomic_numbers())\n",
    "global_species = np.unique(global_species)\n",
    "\n",
    "# split the structures in 2 sets\n",
    "ids = list(range(N))\n",
    "np.random.seed(10)\n",
    "np.random.shuffle(ids)\n",
    "\n",
    "train_ids = ids[:f]\n",
    "test_ids = ids[f:]\n",
    "\n",
    "frames_train = [frames[ii] for ii in train_ids]\n",
    "frames_test = [frames[ii] for ii in test_ids]\n",
    "\n",
    "# Isolated atom contributions\n",
    "self_contributions = {\n",
    "    1: -6.492647589968434,\n",
    "    6: -38.054950840332474,\n",
    "    8: -83.97955098636527,\n",
    "}"
   ]
  },
  {
   "cell_type": "code",
   "execution_count": null,
   "metadata": {
    "hidden": true
   },
   "outputs": [],
   "source": [
    "# split the dataset in a train and a test set\n",
    "y_train, _ = extract_ref(frames_train,'dftb_energy_eV')\n",
    "y_test, _ = extract_ref(frames_test,'dftb_energy_eV')"
   ]
  },
  {
   "cell_type": "code",
   "execution_count": null,
   "metadata": {
    "hidden": true
   },
   "outputs": [],
   "source": [
    "hypers = dict(soap_type=\"PowerSpectrum\",\n",
    "              interaction_cutoff=3.5, \n",
    "              max_radial=8, \n",
    "              max_angular=8, \n",
    "              gaussian_sigma_constant=0.4,\n",
    "              gaussian_sigma_type=\"Constant\",\n",
    "              cutoff_smooth_width=0.5,\n",
    "              normalize=True,\n",
    "              expansion_by_species_method='structure wise',\n",
    "              )\n",
    "soap_calculator = SphericalInvariants(**hypers)\n",
    "kernel = Kernel(soap_calculator,name='GAP', zeta=2, target_type='Structure', kernel_type='Sparse')"
   ]
  },
  {
   "cell_type": "code",
   "execution_count": null,
   "metadata": {
    "hidden": true
   },
   "outputs": [],
   "source": [
    "managers = soap_calculator.transform(frames)"
   ]
  },
  {
   "cell_type": "markdown",
   "metadata": {
    "heading_collapsed": true,
    "hidden": true
   },
   "source": [
    "### build a regression model for the energy"
   ]
  },
  {
   "cell_type": "code",
   "execution_count": null,
   "metadata": {
    "hidden": true
   },
   "outputs": [],
   "source": [
    "managers_train = managers.get_subset(train_ids)\n",
    "managers_test = managers.get_subset(test_ids)"
   ]
  },
  {
   "cell_type": "code",
   "execution_count": null,
   "metadata": {
    "hidden": true
   },
   "outputs": [],
   "source": [
    "sps = []\n",
    "for frame in frames:\n",
    "    sps.extend(frame.get_atomic_numbers())\n",
    "sps_u = np.unique(sps)\n",
    "sps_n = np.bincount(sps)\n",
    "Nenv = {sp:int(sps_n[sp]*0.4) for sp in sps_u}\n",
    "Nenv"
   ]
  },
  {
   "cell_type": "code",
   "execution_count": null,
   "metadata": {
    "hidden": true
   },
   "outputs": [],
   "source": [
    "fps_filter = FPSFilter(soap_calculator, Nenv, 'sample per species')\n",
    "fps_filter.select(managers)\n",
    "fps_filter.plot_fps_error()"
   ]
  },
  {
   "cell_type": "code",
   "execution_count": null,
   "metadata": {
    "hidden": true
   },
   "outputs": [],
   "source": [
    "fraction = 0.2\n",
    "sparse_points = fps_filter.filter(managers, {sp:int(n*fraction) for sp,n in Nenv.items()})\n",
    "KNM = kernel(managers_train, sparse_points)\n"
   ]
  },
  {
   "cell_type": "code",
   "execution_count": null,
   "metadata": {
    "hidden": true
   },
   "outputs": [],
   "source": [
    "model = train_gap_model(kernel, frames_train, KNM, sparse_points, y_train, self_contributions, \n",
    "                    grad_train=None, lambdas=[7e-3, None], jitter=1e-8)\n",
    "\n",
    "y_pred = model.predict(managers_test)\n",
    "\n",
    "print_score(y_pred, y_test)\n",
    "plt.plot(y_test, y_pred, 'o')\n",
    "plt.title(\"correlation plot\")\n",
    "plt.ylabel(\"predicted energies [eV]\")\n",
    "plt.xlabel(\"reference energies [eV]\")"
   ]
  },
  {
   "cell_type": "markdown",
   "metadata": {
    "heading_collapsed": true,
    "hidden": true
   },
   "source": [
    "#### interactive analysis of the correlation plot"
   ]
  },
  {
   "cell_type": "code",
   "execution_count": null,
   "metadata": {
    "hidden": true
   },
   "outputs": [],
   "source": [
    "# might need to be run twice\n",
    "%matplotlib notebook"
   ]
  },
  {
   "cell_type": "code",
   "execution_count": null,
   "metadata": {
    "code_folding": [
     4
    ],
    "hidden": true
   },
   "outputs": [],
   "source": [
    "# package to visualize the structures in the notebook\n",
    "# https://github.com/arose/nglview#released-version\n",
    "# after installation you will need to restart the jupyter notebook server\n",
    "import nglview\n",
    "\n",
    "def link_ngl_wdgt_to_ax_pos(ax, pos, ngl_widget):\n",
    "    from matplotlib.widgets import AxesWidget\n",
    "    from scipy.spatial import cKDTree\n",
    "    r\"\"\"\n",
    "    Initial idea for this function comes from @arose, the rest is @gph82 and @clonker\n",
    "    \"\"\"\n",
    "    \n",
    "    kdtree = cKDTree(pos)        \n",
    "    #assert ngl_widget.trajectory_0.n_frames == pos.shape[0]\n",
    "    x, y = pos.T\n",
    "    \n",
    "    lineh = ax.axhline(y[0], c=\"black\", ls='--')\n",
    "    linev = ax.axvline(x[0], c=\"black\", ls='--')\n",
    "    dot, = ax.plot(x[0],y[0], 'o', c='red', ms=7)\n",
    "\n",
    "    ngl_widget.isClick = False\n",
    "    \n",
    "    def onclick(event):\n",
    "        linev.set_xdata((event.xdata, event.xdata))\n",
    "        lineh.set_ydata((event.ydata, event.ydata))\n",
    "        data = [event.xdata, event.ydata]\n",
    "        _, index = kdtree.query(x=data, k=1)\n",
    "        dot.set_xdata((x[index]))\n",
    "        dot.set_ydata((y[index]))\n",
    "        ngl_widget.isClick = True\n",
    "        ngl_widget.frame = index\n",
    "    \n",
    "    def my_observer(change):\n",
    "        r\"\"\"Here comes the code that you want to execute\n",
    "        \"\"\"\n",
    "        ngl_widget.isClick = False\n",
    "        _idx = change[\"new\"]\n",
    "        try:\n",
    "            dot.set_xdata((x[_idx]))\n",
    "            dot.set_ydata((y[_idx]))            \n",
    "        except IndexError as e:\n",
    "            dot.set_xdata((x[0]))\n",
    "            dot.set_ydata((y[0]))\n",
    "            print(\"caught index error with index %s (new=%s, old=%s)\" % (_idx, change[\"new\"], change[\"old\"]))\n",
    "    \n",
    "    # Connect axes to widget\n",
    "    axes_widget = AxesWidget(ax)\n",
    "    axes_widget.connect_event('button_release_event', onclick)\n",
    "    \n",
    "    # Connect widget to axes\n",
    "    ngl_widget.observe(my_observer, \"frame\", \"change\")"
   ]
  },
  {
   "cell_type": "code",
   "execution_count": null,
   "metadata": {
    "hidden": true
   },
   "outputs": [],
   "source": [
    "iwdg = nglview.show_asetraj(frames_test)\n",
    "# set up the visualization\n",
    "iwdg.add_unitcell()\n",
    "iwdg.add_spacefill()\n",
    "iwdg.remove_ball_and_stick()\n",
    "iwdg.camera = 'orthographic'\n",
    "iwdg.parameters = { \"clipDist\": 0 }\n",
    "iwdg.center()\n",
    "iwdg.update_spacefill(radiusType='covalent',\n",
    "                                   scale=0.6,\n",
    "                                   color_scheme='element')\n",
    "iwdg._remote_call('setSize', target='Widget',\n",
    "                               args=['%dpx' % (600,), '%dpx' % (400,)])\n",
    "iwdg.player.delay = 200.0"
   ]
  },
  {
   "cell_type": "code",
   "execution_count": null,
   "metadata": {
    "hidden": true
   },
   "outputs": [],
   "source": [
    "X = np.vstack([y_test, y_pred]).T\n",
    "\n",
    "link_ngl_wdgt_to_ax_pos(plt.gca(), X, iwdg)\n",
    "plt.scatter(X[:,0],X[:,1],s=3)\n",
    "plt.title(\"correlation plot\")\n",
    "plt.ylabel(\"predicted energies [eV]\")\n",
    "plt.xlabel(\"reference energies [eV]\")\n",
    "iwdg"
   ]
  },
  {
   "cell_type": "markdown",
   "metadata": {
    "heading_collapsed": true,
    "hidden": true
   },
   "source": [
    "### pick up randomly sparse points"
   ]
  },
  {
   "cell_type": "code",
   "execution_count": null,
   "metadata": {
    "hidden": true
   },
   "outputs": [],
   "source": [
    "Nenv = 0\n",
    "env_map = []\n",
    "for i_frame, frame in enumerate(frames):\n",
    "    Nenv += len(frame)\n",
    "    for i_env in range(len(frame)):\n",
    "        env_map.append((i_frame, i_env))\n",
    "Nenv"
   ]
  },
  {
   "cell_type": "code",
   "execution_count": null,
   "metadata": {
    "hidden": true
   },
   "outputs": [],
   "source": [
    "managers_train = managers.get_subset(train_ids)\n",
    "managers_test = managers.get_subset(test_ids)"
   ]
  },
  {
   "cell_type": "code",
   "execution_count": null,
   "metadata": {
    "hidden": true
   },
   "outputs": [],
   "source": [
    "# compute the representation for all atomic structures\n",
    "managers = soap_calculator.transform(frames)\n",
    "\n",
    "fractions = (Nenv*np.array([0.4,0.3,0.2,0.1,0.05])).astype(int)\n",
    "scores = []\n",
    "for fraction in tqdm(fractions):\n",
    "    ids = np.array(range(Nenv))\n",
    "    np.random.seed(100)\n",
    "    np.random.shuffle(ids)\n",
    "    # randomly select atomic centers\n",
    "    selected_ids = [[] for _ in range(len(frames))]\n",
    "    for idx in ids[:fraction]:\n",
    "        i_frame, i_env = env_map[idx]\n",
    "        selected_ids[i_frame].append(i_env)\n",
    "    # initialize the sparse points with randomly selected \n",
    "    sparse_points = SparsePoints(soap_calculator)\n",
    "    sparse_points.extend(managers, selected_ids)\n",
    "    \n",
    "    KNM = kernel(managers_train, sparse_points)\n",
    "    \n",
    "    model = train_gap_model(kernel, managers_train, KNM, sparse_points, y_train, self_contributions, \n",
    "                        grad_train=None, lambdas=[7e-3, None], jitter=1e-8)\n",
    "\n",
    "    y_pred = model.predict(managers_test)\n",
    "    \n",
    "    score = get_score(y_pred, y_test)\n",
    "    score.update(n_sparse_point=fraction)\n",
    "    scores.append(score)\n",
    "scores = pd.DataFrame(scores)\n",
    "scores"
   ]
  },
  {
   "cell_type": "markdown",
   "metadata": {
    "heading_collapsed": true,
    "hidden": true
   },
   "source": [
    "### pick sparse points with fps"
   ]
  },
  {
   "cell_type": "code",
   "execution_count": null,
   "metadata": {
    "hidden": true
   },
   "outputs": [],
   "source": [
    "managers_train = managers.get_subset(train_ids)\n",
    "managers_test = managers.get_subset(test_ids)"
   ]
  },
  {
   "cell_type": "code",
   "execution_count": null,
   "metadata": {
    "hidden": true
   },
   "outputs": [],
   "source": [
    "sps = []\n",
    "for frame in frames:\n",
    "    sps.extend(frame.get_atomic_numbers())\n",
    "sps_u = np.unique(sps)\n",
    "sps_n = np.bincount(sps)\n",
    "Nenv = {sp:sps_n[sp] for sp in sps_u}\n",
    "Nenv"
   ]
  },
  {
   "cell_type": "code",
   "execution_count": null,
   "metadata": {
    "hidden": true
   },
   "outputs": [],
   "source": [
    "fps_filter = FPSFilter(soap_calculator, Nenv, 'sample per species')\n",
    "fps_filter.select(managers)\n",
    "fps_filter.plot_fps_error()"
   ]
  },
  {
   "cell_type": "code",
   "execution_count": null,
   "metadata": {
    "hidden": true
   },
   "outputs": [],
   "source": [
    "managers = soap_calculator.transform(frames)\n",
    "\n",
    "fractions = [0.4,0.3,0.2,0.1,0.05, 0.01, 0.005]\n",
    "scores = []\n",
    "for fraction in tqdm(fractions):\n",
    "    sparse_points = fps_filter.filter(managers, {sp:int(n*fraction) for sp,n in Nenv.items()})\n",
    "    KNM = kernel(managers_train, sparse_points)\n",
    "    model = train_gap_model(kernel, managers_train, KNM, sparse_points, y_train, self_contributions, \n",
    "                        grad_train=None, lambdas=[7e-3, None], jitter=1e-8)\n",
    "\n",
    "    y_pred = model.predict(managers_test)\n",
    "    score = get_score(y_pred, y_test)\n",
    "    score.update(fraction=fraction)\n",
    "    scores.append(score)\n",
    "scores = pd.DataFrame(scores)\n",
    "scores"
   ]
  },
  {
   "cell_type": "markdown",
   "metadata": {
    "heading_collapsed": true,
    "hidden": true
   },
   "source": [
    "### try feature sparsification with FPS"
   ]
  },
  {
   "cell_type": "code",
   "execution_count": null,
   "metadata": {
    "hidden": true
   },
   "outputs": [],
   "source": [
    "X = managers.get_features(soap_calculator)\n",
    "n_features = int(X.shape[1]*0.3)\n",
    "n_features"
   ]
  },
  {
   "cell_type": "code",
   "execution_count": null,
   "metadata": {
    "hidden": true
   },
   "outputs": [],
   "source": [
    "sps = []\n",
    "for frame in frames:\n",
    "    sps.extend(frame.get_atomic_numbers())\n",
    "sps_u = np.unique(sps)\n",
    "sps_n = np.bincount(sps)\n",
    "Nenv = {sp:int(sps_n[sp]*0.05) for sp in sps_u}\n",
    "print(Nenv)\n",
    "fps_filter = FPSFilter(soap_calculator, Nenv, 'sample per species')\n",
    "fps_filter.select(managers)\n",
    "fps_filter.plot_fps_error()"
   ]
  },
  {
   "cell_type": "code",
   "execution_count": null,
   "metadata": {
    "hidden": true
   },
   "outputs": [],
   "source": [
    "feature_filter = FPSFilter(soap_calculator, n_features, 'feature')\n",
    "feature_filter.select(managers);\n",
    "feature_filter.plot_fps_error()"
   ]
  },
  {
   "cell_type": "code",
   "execution_count": null,
   "metadata": {
    "hidden": true
   },
   "outputs": [],
   "source": [
    "# inspect which are the most important features according to the fps selection\n",
    "aa = feature_filter.filter(managers, 30)\n",
    "df = pd.DataFrame(aa['coefficient_subselection'])\n",
    "df.sort_values('selected_features_global_ids_fps_ordering')"
   ]
  },
  {
   "cell_type": "code",
   "execution_count": null,
   "metadata": {
    "hidden": true
   },
   "outputs": [],
   "source": [
    "fractions = list(reversed([1, 0.75, 0.5, 0.25, 0.125, 0.05, 0.01]))\n",
    "scores = []\n",
    "for fraction in tqdm(fractions):\n",
    "    selected_feature = feature_filter.filter(managers, int(n_features*fraction))\n",
    "    \n",
    "    hypers_sparse = deepcopy(hypers)\n",
    "    hypers_sparse.update(**selected_feature)\n",
    "    soap_calculator_sparse = SphericalInvariants(**hypers_sparse)\n",
    "    \n",
    "    kernel_sparse = Kernel(soap_calculator_sparse,name='GAP', zeta=2, target_type='Structure', kernel_type='Sparse')\n",
    "    \n",
    "    managers_sp = soap_calculator_sparse.transform(frames)\n",
    "    managers_train_sp = managers_sp.get_subset(train_ids)\n",
    "    managers_test_sp = managers_sp.get_subset(train_ids)\n",
    "    \n",
    "    fps_filter_sp = deepcopy(fps_filter)\n",
    "    fps_filter_sp._representation = soap_calculator_sparse\n",
    "    sparse_points = fps_filter_sp.filter(managers_sp)\n",
    "    \n",
    "    KNM = kernel_sparse(managers_train_sp, sparse_points)\n",
    "    model = train_gap_model(kernel_sparse, managers_train_sp, KNM, sparse_points, y_train, self_contributions, \n",
    "                        grad_train=None, lambdas=[7e-3, None], jitter=1e-8)\n",
    "\n",
    "    y_pred = model.predict(managers_test_sp)\n",
    "    score = get_score(y_pred, y_test)\n",
    "    score.update(n_features=int(n_features*fraction))\n",
    "    scores.append(score)\n",
    "scores = pd.DataFrame(scores)\n",
    "scores"
   ]
  },
  {
   "cell_type": "markdown",
   "metadata": {
    "heading_collapsed": true,
    "hidden": true
   },
   "source": [
    "### pick sparse points with CUR decomposition"
   ]
  },
  {
   "cell_type": "code",
   "execution_count": null,
   "metadata": {
    "hidden": true
   },
   "outputs": [],
   "source": [
    "managers_train = managers.get_subset(train_ids)\n",
    "managers_test = managers.get_subset(test_ids)"
   ]
  },
  {
   "cell_type": "code",
   "execution_count": null,
   "metadata": {
    "hidden": true
   },
   "outputs": [],
   "source": [
    "sps = []\n",
    "for frame in frames:\n",
    "    sps.extend(frame.get_atomic_numbers())\n",
    "sps_u = np.unique(sps)\n",
    "sps_n = np.bincount(sps)\n",
    "Nenv = {sp:int(sps_n[sp]*0.2) for sp in sps_u}\n",
    "Nenv"
   ]
  },
  {
   "cell_type": "code",
   "execution_count": null,
   "metadata": {
    "hidden": true
   },
   "outputs": [],
   "source": [
    "cur_filter = CURFilter(soap_calculator, Nenv, 'sample per species')\n",
    "cur_filter.select(managers)"
   ]
  },
  {
   "cell_type": "code",
   "execution_count": null,
   "metadata": {
    "hidden": true
   },
   "outputs": [],
   "source": [
    "managers = soap_calculator.transform(frames)\n",
    "\n",
    "fractions = [1, 0.75, 0.5, 0.25, 0.125]\n",
    "scores = []\n",
    "for fraction in tqdm(fractions):\n",
    "    sparse_points = cur_filter.filter(managers, {sp:int(n*fraction) for sp,n in Nenv.items()})\n",
    "    KNM = kernel(managers_train, sparse_points)\n",
    "    model = train_gap_model(kernel, managers_train, KNM, sparse_points, y_train, self_contributions, \n",
    "                        grad_train=None, lambdas=[7e-3, None], jitter=1e-8)\n",
    "\n",
    "    y_pred = model.predict(managers_test)\n",
    "    score = get_score(y_pred, y_test)\n",
    "    score.update(fraction=fraction)\n",
    "    scores.append(score)\n",
    "scores = pd.DataFrame(scores)\n",
    "scores"
   ]
  },
  {
   "cell_type": "markdown",
   "metadata": {
    "heading_collapsed": true,
    "hidden": true
   },
   "source": [
    "### try feature sparsification with CUR"
   ]
  },
  {
   "cell_type": "code",
   "execution_count": null,
   "metadata": {
    "hidden": true
   },
   "outputs": [],
   "source": [
    "X = managers.get_features(soap_calculator)\n",
    "n_features = int(X.shape[1]*0.3)\n",
    "n_features"
   ]
  },
  {
   "cell_type": "code",
   "execution_count": null,
   "metadata": {
    "hidden": true
   },
   "outputs": [],
   "source": [
    "sps = []\n",
    "for frame in frames:\n",
    "    sps.extend(frame.get_atomic_numbers())\n",
    "sps_u = np.unique(sps)\n",
    "sps_n = np.bincount(sps)\n",
    "Nenv = {sp:int(sps_n[sp]*0.05) for sp in sps_u}\n",
    "print(Nenv)\n",
    "cur_filter = CURFilter(soap_calculator, Nenv, 'sample per species')\n",
    "cur_filter.select(managers);"
   ]
  },
  {
   "cell_type": "code",
   "execution_count": null,
   "metadata": {
    "hidden": true
   },
   "outputs": [],
   "source": [
    "%%time\n",
    "feature_filter = CURFilter(soap_calculator, n_features, 'feature')\n",
    "feature_filter.select(managers);"
   ]
  },
  {
   "cell_type": "code",
   "execution_count": null,
   "metadata": {
    "hidden": true
   },
   "outputs": [],
   "source": [
    "# inspect which are the most important features according to the CUR selection\n",
    "aa = feature_filter.filter(managers, 30)\n",
    "df = pd.DataFrame(aa['coefficient_subselection'])\n",
    "df.sort_values('selected_features_global_ids_fps_ordering')"
   ]
  },
  {
   "cell_type": "code",
   "execution_count": null,
   "metadata": {
    "hidden": true
   },
   "outputs": [],
   "source": [
    "fractions = list(reversed([1, 0.75, 0.5, 0.25, 0.125, 0.05, 0.01]))\n",
    "scores = []\n",
    "for fraction in tqdm(fractions):\n",
    "    selected_feature = feature_filter.filter(managers, int(n_features*fraction))\n",
    "    \n",
    "    hypers_sparse = deepcopy(hypers)\n",
    "    hypers_sparse.update(**selected_feature)\n",
    "    soap_calculator_sparse = SphericalInvariants(**hypers_sparse)\n",
    "    \n",
    "    kernel_sparse = Kernel(soap_calculator_sparse,name='GAP', zeta=2, target_type='Structure', kernel_type='Sparse')\n",
    "\n",
    "    managers_sp = soap_calculator_sparse.transform(frames)\n",
    "    managers_train_sp = managers_sp.get_subset(train_ids)\n",
    "    managers_test_sp = managers_sp.get_subset(test_ids)\n",
    "    \n",
    "    cur_filter_sp = deepcopy(cur_filter)\n",
    "    cur_filter_sp._representation = soap_calculator_sparse\n",
    "    sparse_points = cur_filter_sp.filter(managers_sp)\n",
    "    \n",
    "    KNM = kernel_sparse(managers_train_sp, sparse_points)\n",
    "    model = train_gap_model(kernel_sparse, managers_train_sp, KNM, sparse_points, y_train, self_contributions, \n",
    "                        grad_train=None, lambdas=[7e-3, None], jitter=1e-8)\n",
    "\n",
    "    y_pred = model.predict(managers_test_sp)\n",
    "    score = get_score(y_pred, y_test)\n",
    "    score.update(n_features=int(n_features*fraction))\n",
    "    scores.append(score)\n",
    "scores = pd.DataFrame(scores)\n",
    "scores"
   ]
  },
  {
   "cell_type": "code",
   "execution_count": null,
   "metadata": {
    "hidden": true
   },
   "outputs": [],
   "source": []
  },
  {
   "cell_type": "markdown",
   "metadata": {
    "heading_collapsed": true
   },
   "source": [
    "# Make a map of the dataset"
   ]
  },
  {
   "cell_type": "markdown",
   "metadata": {
    "heading_collapsed": true,
    "hidden": true
   },
   "source": [
    "## utils"
   ]
  },
  {
   "cell_type": "code",
   "execution_count": null,
   "metadata": {
    "code_folding": [],
    "hidden": true
   },
   "outputs": [],
   "source": [
    "def link_ngl_wdgt_to_ax_pos(ax, pos, ngl_widget):\n",
    "    from matplotlib.widgets import AxesWidget\n",
    "    from scipy.spatial import cKDTree\n",
    "    r\"\"\"\n",
    "    Initial idea for this function comes from @arose, the rest is @gph82 and @clonker\n",
    "    \"\"\"\n",
    "    \n",
    "    kdtree = cKDTree(pos)        \n",
    "    #assert ngl_widget.trajectory_0.n_frames == pos.shape[0]\n",
    "    x, y = pos.T\n",
    "    \n",
    "    lineh = ax.axhline(ax.get_ybound()[0], c=\"black\", ls='--')\n",
    "    linev = ax.axvline(ax.get_xbound()[0], c=\"black\", ls='--')\n",
    "    dot, = ax.plot(pos[0,0],pos[0,1], 'o', c='red', ms=7)\n",
    "\n",
    "    ngl_widget.isClick = False\n",
    "    \n",
    "    def onclick(event):\n",
    "        linev.set_xdata((event.xdata, event.xdata))\n",
    "        lineh.set_ydata((event.ydata, event.ydata))\n",
    "        data = [event.xdata, event.ydata]\n",
    "        _, index = kdtree.query(x=data, k=1)\n",
    "        dot.set_xdata((x[index]))\n",
    "        dot.set_ydata((y[index]))\n",
    "        ngl_widget.isClick = True\n",
    "        ngl_widget.frame = index\n",
    "    \n",
    "    def my_observer(change):\n",
    "        r\"\"\"Here comes the code that you want to execute\n",
    "        \"\"\"\n",
    "        ngl_widget.isClick = False\n",
    "        _idx = change[\"new\"]\n",
    "        try:\n",
    "            dot.set_xdata((x[_idx]))\n",
    "            dot.set_ydata((y[_idx]))            \n",
    "        except IndexError as e:\n",
    "            dot.set_xdata((x[0]))\n",
    "            dot.set_ydata((y[0]))\n",
    "            print(\"caught index error with index %s (new=%s, old=%s)\" % (_idx, change[\"new\"], change[\"old\"]))\n",
    "    \n",
    "    # Connect axes to widget\n",
    "    axes_widget = AxesWidget(ax)\n",
    "    axes_widget.connect_event('button_release_event', onclick)\n",
    "    \n",
    "    # Connect widget to axes\n",
    "    ngl_widget.observe(my_observer, \"frame\", \"change\")"
   ]
  },
  {
   "cell_type": "markdown",
   "metadata": {
    "hidden": true
   },
   "source": [
    "## make a map with kernel pca projection"
   ]
  },
  {
   "cell_type": "code",
   "execution_count": null,
   "metadata": {
    "hidden": true
   },
   "outputs": [],
   "source": [
    "# Load the small molecules \n",
    "frames = read('../reference_data/inputs/small_molecules-1000.xyz',':600')"
   ]
  },
  {
   "cell_type": "code",
   "execution_count": null,
   "metadata": {
    "hidden": true
   },
   "outputs": [],
   "source": [
    "hypers = dict(soap_type=\"PowerSpectrum\",\n",
    "              interaction_cutoff=3.5, \n",
    "              max_radial=6, \n",
    "              max_angular=6, \n",
    "              gaussian_sigma_constant=0.4,\n",
    "              gaussian_sigma_type=\"Constant\",\n",
    "              cutoff_smooth_width=0.5,\n",
    "              )\n",
    "soap = SphericalInvariants(**hypers)\n",
    "kernel = Kernel(soap,name='Cosine', zeta=2, target_type='Structure', kernel_type='Full')"
   ]
  },
  {
   "cell_type": "code",
   "execution_count": null,
   "metadata": {
    "hidden": true
   },
   "outputs": [],
   "source": [
    "managers = soap.transform(frames)\n",
    "\n",
    "Kmat = kernel(managers)"
   ]
  },
  {
   "cell_type": "code",
   "execution_count": null,
   "metadata": {
    "hidden": true
   },
   "outputs": [],
   "source": [
    "from sklearn.decomposition import KernelPCA"
   ]
  },
  {
   "cell_type": "code",
   "execution_count": null,
   "metadata": {
    "hidden": true
   },
   "outputs": [],
   "source": [
    "kpca = KernelPCA(n_components=2,kernel='precomputed')\n",
    "kpca.select(Kmat)"
   ]
  },
  {
   "cell_type": "code",
   "execution_count": null,
   "metadata": {
    "hidden": true
   },
   "outputs": [],
   "source": [
    "X = kpca.transform(Kmat)"
   ]
  },
  {
   "cell_type": "code",
   "execution_count": null,
   "metadata": {
    "hidden": true
   },
   "outputs": [],
   "source": [
    "plt.scatter(X[:,0],X[:,1],s=3)"
   ]
  },
  {
   "cell_type": "markdown",
   "metadata": {
    "hidden": true
   },
   "source": [
    "## make an interactive map"
   ]
  },
  {
   "cell_type": "code",
   "execution_count": null,
   "metadata": {
    "hidden": true
   },
   "outputs": [],
   "source": [
    "# package to visualize the structures in the notebook\n",
    "# https://github.com/arose/nglview#released-version\n",
    "import nglview"
   ]
  },
  {
   "cell_type": "code",
   "execution_count": null,
   "metadata": {
    "hidden": true
   },
   "outputs": [],
   "source": [
    "iwdg = nglview.show_asetraj(frames)\n",
    "# set up the visualization\n",
    "iwdg.add_unitcell()\n",
    "iwdg.add_spacefill()\n",
    "iwdg.remove_ball_and_stick()\n",
    "iwdg.camera = 'orthographic'\n",
    "iwdg.parameters = { \"clipDist\": 0 }\n",
    "iwdg.center()\n",
    "iwdg.update_spacefill(radiusType='covalent',\n",
    "                                   scale=0.6,\n",
    "                                   color_scheme='element')\n",
    "iwdg._remote_call('setSize', target='Widget',\n",
    "                               args=['%dpx' % (600,), '%dpx' % (400,)])\n",
    "iwdg.player.delay = 200.0"
   ]
  },
  {
   "cell_type": "code",
   "execution_count": null,
   "metadata": {
    "hidden": true
   },
   "outputs": [],
   "source": [
    "link_ngl_wdgt_to_ax_pos(plt.gca(), X, iwdg)\n",
    "plt.scatter(X[:,0],X[:,1],s=3)\n",
    "iwdg"
   ]
  },
  {
   "cell_type": "code",
   "execution_count": null,
   "metadata": {
    "hidden": true
   },
   "outputs": [],
   "source": []
  }
 ],
 "metadata": {
  "celltoolbar": "Initialization Cell",
  "kernelspec": {
   "display_name": "Python 3",
   "language": "python",
   "name": "python3"
  },
  "language_info": {
   "codemirror_mode": {
    "name": "ipython",
    "version": 3
   },
   "file_extension": ".py",
   "mimetype": "text/x-python",
   "name": "python",
   "nbconvert_exporter": "python",
   "pygments_lexer": "ipython3",
   "version": "3.7.10"
  },
  "toc": {
   "base_numbering": 1,
   "nav_menu": {
    "height": "12px",
    "width": "252px"
   },
   "number_sections": true,
   "sideBar": true,
   "skip_h1_title": false,
   "title_cell": "Table of Contents",
   "title_sidebar": "Contents",
   "toc_cell": false,
   "toc_position": {},
   "toc_section_display": "block",
   "toc_window_display": false
  }
 },
 "nbformat": 4,
 "nbformat_minor": 2
}
