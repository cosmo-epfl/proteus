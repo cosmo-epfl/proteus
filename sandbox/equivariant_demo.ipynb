{
 "cells": [
  {
   "cell_type": "code",
   "execution_count": null,
   "metadata": {},
   "outputs": [],
   "source": [
    "%load_ext autoreload\n",
    "%autoreload 2\n",
    "import sys\n",
    "sys.path.insert(0,'/home/michele/lavoro/code/librascal/build/')"
   ]
  },
  {
   "cell_type": "markdown",
   "metadata": {},
   "source": [
    "# Spherical expansion coefficients"
   ]
  },
  {
   "cell_type": "markdown",
   "metadata": {},
   "source": [
    "This notebook provides examples of the kind of manipulations that need to be applied to rotate structures and spherical expansion coefficients. First, using traditional complex-spherical-harmonics tools, then, converting those to a fully real-valued pipeline based on a couple of handy utility functions."
   ]
  },
  {
   "cell_type": "code",
   "execution_count": null,
   "metadata": {},
   "outputs": [],
   "source": [
    "from ase.io import read\n",
    "import ase\n",
    "from copy import deepcopy\n",
    "import numpy as np\n",
    "import matplotlib.pyplot as plt\n",
    "\n",
    "from rascal.representations import SphericalExpansion, SphericalInvariants\n",
    "from rascal.utils import (get_radial_basis_covariance, get_radial_basis_pca, \n",
    "                          get_radial_basis_projections, get_optimal_radial_basis_hypers )\n",
    "from rascal.utils import radial_basis\n",
    "from rascal.utils import WignerDReal, ClebschGordanReal, spherical_expansion_reshape, lm_slice, real2complex_matrix"
   ]
  },
  {
   "cell_type": "code",
   "execution_count": null,
   "metadata": {},
   "outputs": [],
   "source": [
    "# imports also some internals to demonstrate manually some CG manipulations\n",
    "from rascal.utils.cg_utils import _r2c as r2c\n",
    "from rascal.utils.cg_utils import _c2r as c2r\n",
    "from rascal.utils.cg_utils import _cg as clebsch_gordan\n",
    "from rascal.utils.cg_utils import _rotation as rotation\n",
    "from rascal.utils.cg_utils import _wigner_d as wigner_d"
   ]
  },
  {
   "cell_type": "markdown",
   "metadata": {},
   "source": [
    "## Loads the structures"
   ]
  },
  {
   "cell_type": "code",
   "execution_count": null,
   "metadata": {},
   "outputs": [],
   "source": [
    "import urllib.request\n",
    "# a collection of distorted ethanol molecules from the ANI-1 dataset \n",
    "# (see https://github.com/isayev/ANI1_dataset) with energies and forces computed using DFTB+ \n",
    "# (see https://www.dftbplus.org/)\n",
    "url = 'https://raw.githubusercontent.com/cosmo-epfl/librascal-example-data/833b4336a7daf471e16993158322b3ea807b9d3f/inputs/molecule_conformers_dftb.xyz'\n",
    "# Download the file from `url`, save it in a temporary directory and get the\n",
    "# path to it (e.g. '/tmp/tmpb48zma.txt') in the `structures_fn` variable:\n",
    "structures_fn, headers = urllib.request.urlretrieve(url)\n",
    "structures_fn"
   ]
  },
  {
   "cell_type": "code",
   "execution_count": null,
   "metadata": {},
   "outputs": [],
   "source": [
    "# Total number of structure to load\n",
    "N = 100\n",
    "\n",
    "# load the structures\n",
    "frames = read(structures_fn,':{}'.format(N))"
   ]
  },
  {
   "cell_type": "markdown",
   "metadata": {},
   "source": [
    "## Utility functions"
   ]
  },
  {
   "cell_type": "markdown",
   "metadata": {},
   "source": [
    "Numerical evaluation of rotations and CG coefficients from sympy"
   ]
  },
  {
   "cell_type": "code",
   "execution_count": null,
   "metadata": {},
   "outputs": [],
   "source": [
    "ml1, ml2, mL = 2,3,1"
   ]
  },
  {
   "cell_type": "code",
   "execution_count": null,
   "metadata": {},
   "outputs": [],
   "source": [
    "mcg = clebsch_gordan(ml1, ml2, mL)"
   ]
  },
  {
   "cell_type": "code",
   "execution_count": null,
   "metadata": {},
   "outputs": [],
   "source": [
    "mcg[:,:,2]"
   ]
  },
  {
   "cell_type": "markdown",
   "metadata": {},
   "source": [
    "## Demonstrate the equivariance of spherical expansion coefficients"
   ]
  },
  {
   "cell_type": "markdown",
   "metadata": {},
   "source": [
    "first, we compute the density expansion coefficients on a representative dataset"
   ]
  },
  {
   "cell_type": "code",
   "execution_count": null,
   "metadata": {},
   "outputs": [],
   "source": [
    "spherical_expansion_hypers = {\n",
    "    \"interaction_cutoff\": 3,\n",
    "    \"max_radial\": 8,\n",
    "    \"max_angular\": 6,\n",
    "    \"gaussian_sigma_constant\": 0.3,\n",
    "    \"gaussian_sigma_type\": \"Constant\",\n",
    "    \"cutoff_smooth_width\": 0.5,\n",
    "    \"radial_basis\": \"GTO\",\n",
    "}\n",
    "\n",
    "spex = SphericalExpansion(**spherical_expansion_hypers)"
   ]
  },
  {
   "cell_type": "code",
   "execution_count": null,
   "metadata": {},
   "outputs": [],
   "source": [
    "selframe = frames[8]\n",
    "sell = 3\n",
    "feats = spex.transform(selframe).get_features(spex)\n",
    "feats *= 1e6\n",
    "rfeats = spherical_expansion_reshape(feats, **spherical_expansion_hypers)"
   ]
  },
  {
   "cell_type": "code",
   "execution_count": null,
   "metadata": {},
   "outputs": [],
   "source": [
    "# random rotation in terms of Euler angles\n",
    "abc = np.random.uniform(size=(3))*np.pi"
   ]
  },
  {
   "cell_type": "code",
   "execution_count": null,
   "metadata": {},
   "outputs": [],
   "source": [
    "# this is the Cartesian rotation matrix (helper function, ZYZ convention)\n",
    "mrot = rotation(*abc)"
   ]
  },
  {
   "cell_type": "code",
   "execution_count": null,
   "metadata": {},
   "outputs": [],
   "source": [
    "# rotated structure and associated features\n",
    "rotframe = selframe.copy()\n",
    "rotframe.positions = rotframe.positions @ mrot.T\n",
    "rotframe.cell = rotframe.cell @ mrot.T   # rotate also the cell\n",
    "rotfeats = spex.transform(rotframe).get_features(spex)\n",
    "rotfeats *= 1e6\n",
    "rfeats_rot = spherical_expansion_reshape(rotfeats, **spherical_expansion_hypers)"
   ]
  },
  {
   "cell_type": "code",
   "execution_count": null,
   "metadata": {},
   "outputs": [],
   "source": [
    "print(rfeats[0,0,0,lm_slice(sell)])\n",
    "np.linalg.norm(rfeats[0,0,0,lm_slice(sell)])"
   ]
  },
  {
   "cell_type": "code",
   "execution_count": null,
   "metadata": {},
   "outputs": [],
   "source": [
    "print(rfeats_rot[0,0,0,lm_slice(sell)])\n",
    "np.linalg.norm(rfeats_rot[0,0,0,lm_slice(sell)])"
   ]
  },
  {
   "cell_type": "markdown",
   "metadata": {
    "heading_collapsed": true
   },
   "source": [
    "## Rotate the spherical expansion features using Wigner matrices"
   ]
  },
  {
   "cell_type": "code",
   "execution_count": null,
   "metadata": {
    "hidden": true
   },
   "outputs": [],
   "source": [
    "# computing the wigner matrix takes some time for L>4\n",
    "mwd = wigner_d(sell, *abc)"
   ]
  },
  {
   "cell_type": "code",
   "execution_count": null,
   "metadata": {
    "hidden": true
   },
   "outputs": [],
   "source": [
    "# orthogonality\n",
    "plt.matshow(np.real(np.conjugate(mwd.T)@mwd))"
   ]
  },
  {
   "cell_type": "code",
   "execution_count": null,
   "metadata": {
    "hidden": true
   },
   "outputs": [],
   "source": [
    "#  back and forth to check transformation from real to complex SPH\n",
    "c2r(r2c(rfeats[0,0,0,lm_slice(sell)])) - rfeats[0,0,0,lm_slice(sell)]"
   ]
  },
  {
   "cell_type": "code",
   "execution_count": null,
   "metadata": {
    "hidden": true
   },
   "outputs": [],
   "source": [
    "rfeats[0,0,0,lm_slice(sell)]"
   ]
  },
  {
   "cell_type": "code",
   "execution_count": null,
   "metadata": {
    "hidden": true
   },
   "outputs": [],
   "source": [
    "rfeats_rot[0,0,0,lm_slice(sell)]"
   ]
  },
  {
   "cell_type": "code",
   "execution_count": null,
   "metadata": {
    "hidden": true
   },
   "outputs": [],
   "source": [
    "c2r(np.conjugate(mwd)@r2c(rfeats[0,0,0,lm_slice(sell)]))"
   ]
  },
  {
   "cell_type": "markdown",
   "metadata": {},
   "source": [
    "## Compute CG iteration and show that it transforms properly"
   ]
  },
  {
   "cell_type": "markdown",
   "metadata": {},
   "source": [
    "basically, here we compute covariant, lambda-SOAP features by combining spherical expansion coefficients,\n",
    "following the idea behind NICE [[original paper](doi.org/10.1063/5.0021116)]"
   ]
  },
  {
   "cell_type": "code",
   "execution_count": null,
   "metadata": {},
   "outputs": [],
   "source": [
    "# these are the indices of the features \n",
    "ml1, ml2, mL = 3,2,3\n",
    "mcg = clebsch_gordan(ml1, ml2, mL)\n",
    "mwd = wigner_d(mL, *abc)"
   ]
  },
  {
   "cell_type": "code",
   "execution_count": null,
   "metadata": {},
   "outputs": [],
   "source": [
    "cg1 = c2r(np.einsum(\"abc,a,b->c\",mcg,\n",
    "                    r2c(rfeats[0,0,0,lm_slice(ml1)]), \n",
    "                    r2c(rfeats[0,0,0,lm_slice(ml2)])))"
   ]
  },
  {
   "cell_type": "code",
   "execution_count": null,
   "metadata": {},
   "outputs": [],
   "source": [
    "rotcg1 = c2r(np.einsum(\"abc,a,b->c\",mcg,\n",
    "                    r2c(rfeats_rot[0,0,0,lm_slice(ml1)]), \n",
    "                    r2c(rfeats_rot[0,0,0,lm_slice(ml2)])) )"
   ]
  },
  {
   "cell_type": "code",
   "execution_count": null,
   "metadata": {},
   "outputs": [],
   "source": [
    "cg1"
   ]
  },
  {
   "cell_type": "code",
   "execution_count": null,
   "metadata": {},
   "outputs": [],
   "source": [
    "rotcg1"
   ]
  },
  {
   "cell_type": "code",
   "execution_count": null,
   "metadata": {},
   "outputs": [],
   "source": [
    "c2r(np.conjugate(mwd)@r2c(cg1))"
   ]
  },
  {
   "cell_type": "markdown",
   "metadata": {},
   "source": [
    "## Direct real transformations"
   ]
  },
  {
   "cell_type": "markdown",
   "metadata": {},
   "source": [
    "There's no \"real\" reason to go through the complex algebra for rotations - we can transform once and for all the coefficients and be done with that!"
   ]
  },
  {
   "cell_type": "code",
   "execution_count": null,
   "metadata": {},
   "outputs": [],
   "source": [
    "# matrix version of the real-2-complex and complex-2-real transformations\n",
    "r2c_mat = np.hstack([r2c(np.eye(2*mL+1)[i])[:,np.newaxis] for i in range(2*mL+1)])\n",
    "c2r_mat = np.conjugate(r2c_mat.T)"
   ]
  },
  {
   "cell_type": "code",
   "execution_count": null,
   "metadata": {},
   "outputs": [],
   "source": [
    "# we can use this to transform features\n",
    "r2c_mat@cg1 - r2c(cg1)"
   ]
  },
  {
   "cell_type": "code",
   "execution_count": null,
   "metadata": {},
   "outputs": [],
   "source": [
    "# and Wigner D matrix as well\n",
    "real_mwd = np.real(c2r_mat @ np.conjugate(mwd) @ r2c_mat)"
   ]
  },
  {
   "cell_type": "markdown",
   "metadata": {},
   "source": [
    "The direct real rotation is equal (modulo noise) to going back and forth from complex sph"
   ]
  },
  {
   "cell_type": "code",
   "execution_count": null,
   "metadata": {},
   "outputs": [],
   "source": [
    "real_mwd @ cg1 - rotcg1"
   ]
  },
  {
   "cell_type": "markdown",
   "metadata": {},
   "source": [
    "this also applies to the CG iteration!"
   ]
  },
  {
   "cell_type": "code",
   "execution_count": null,
   "metadata": {},
   "outputs": [],
   "source": [
    "r2c_mat_l1 = np.hstack([r2c(np.eye(2*ml1+1)[i])[:,np.newaxis] for i in range(2*ml1+1)])\n",
    "r2c_mat_l2 = np.hstack([r2c(np.eye(2*ml2+1)[i])[:,np.newaxis] for i in range(2*ml2+1)])\n",
    "r2c_mat_L = np.hstack([r2c(np.eye(2*mL+1)[i])[:,np.newaxis] for i in range(2*mL+1)])"
   ]
  },
  {
   "cell_type": "code",
   "execution_count": null,
   "metadata": {},
   "outputs": [],
   "source": [
    "real_mcg = np.real(np.einsum(\"abc, ax, by, zc -> xyz\", mcg, r2c_mat_l1, r2c_mat_l2, np.conjugate(r2c_mat_L.T)))"
   ]
  },
  {
   "cell_type": "code",
   "execution_count": null,
   "metadata": {},
   "outputs": [],
   "source": [
    "real_cg1 = np.einsum(\"abc,a,b->c\",real_mcg,\n",
    "                    rfeats[0,0,0,lm_slice(ml1)],\n",
    "                    rfeats[0,0,0,lm_slice(ml2)])"
   ]
  },
  {
   "cell_type": "code",
   "execution_count": null,
   "metadata": {},
   "outputs": [],
   "source": [
    "real_cg1 - cg1"
   ]
  },
  {
   "cell_type": "markdown",
   "metadata": {},
   "source": [
    "# Streamlined real-only CG iter (and transformation)"
   ]
  },
  {
   "cell_type": "markdown",
   "metadata": {},
   "source": [
    "Uses the utility classes defined in rascal.utils to do all of the above (and more!)\n",
    "WignerDReal is a Wigner D matrix implementation to rotate Y^m_l - like coefficients\n",
    "ClebschGordanReal precomputes Clebsch-Gordan operations using real-only storage of the spherical expansion coefficients"
   ]
  },
  {
   "cell_type": "code",
   "execution_count": null,
   "metadata": {},
   "outputs": [],
   "source": [
    "WD   = WignerDReal(spherical_expansion_hypers[\"max_angular\"], *abc)\n",
    "CGIR = ClebschGordanReal(spherical_expansion_hypers[\"max_angular\"])"
   ]
  },
  {
   "cell_type": "code",
   "execution_count": null,
   "metadata": {},
   "outputs": [],
   "source": [
    "scale = 1\n",
    "test_feats = [ rfeats[0,0,0,l**2:(l+1)**2] *scale  for l in range(0,5) ]\n",
    "test_feats_rot = [ rfeats_rot[0,0,0,l**2:(l+1)**2]*scale  for l in range(0,5) ]"
   ]
  },
  {
   "cell_type": "code",
   "execution_count": null,
   "metadata": {},
   "outputs": [],
   "source": [
    "t1 = CGIR.combine(test_feats[3], test_feats[4], 3)\n",
    "t1_r = CGIR.combine(test_feats_rot[3], test_feats_rot[4], 3)"
   ]
  },
  {
   "cell_type": "code",
   "execution_count": null,
   "metadata": {},
   "outputs": [],
   "source": [
    "t1"
   ]
  },
  {
   "cell_type": "code",
   "execution_count": null,
   "metadata": {},
   "outputs": [],
   "source": [
    "WD.rotate(t1)"
   ]
  },
  {
   "cell_type": "code",
   "execution_count": null,
   "metadata": {},
   "outputs": [],
   "source": [
    "t1_r"
   ]
  },
  {
   "cell_type": "code",
   "execution_count": null,
   "metadata": {},
   "outputs": [],
   "source": [
    "t2 = CGIR.combine(t1, test_feats[3], 2)\n",
    "t2_r = CGIR.combine(t1_r, test_feats_rot[3], 2)"
   ]
  },
  {
   "cell_type": "code",
   "execution_count": null,
   "metadata": {},
   "outputs": [],
   "source": [
    "WD.rotate(t2)"
   ]
  },
  {
   "cell_type": "code",
   "execution_count": null,
   "metadata": {},
   "outputs": [],
   "source": [
    "t2_r"
   ]
  },
  {
   "cell_type": "code",
   "execution_count": null,
   "metadata": {},
   "outputs": [],
   "source": [
    "t3 = CGIR.combine(t2, test_feats[3], 1)\n",
    "t3_r = CGIR.combine(t2_r, test_feats_rot[3], 1)"
   ]
  },
  {
   "cell_type": "code",
   "execution_count": null,
   "metadata": {},
   "outputs": [],
   "source": [
    "WD.rotate(t3)"
   ]
  },
  {
   "cell_type": "code",
   "execution_count": null,
   "metadata": {},
   "outputs": [],
   "source": [
    "t3_r"
   ]
  },
  {
   "cell_type": "code",
   "execution_count": null,
   "metadata": {},
   "outputs": [],
   "source": [
    "t4 = CGIR.combine(t3, t2, 3)\n",
    "t4_r = CGIR.combine(t3_r, t2_r, 3)"
   ]
  },
  {
   "cell_type": "code",
   "execution_count": null,
   "metadata": {},
   "outputs": [],
   "source": [
    "WD.rotate(t4)"
   ]
  },
  {
   "cell_type": "code",
   "execution_count": null,
   "metadata": {},
   "outputs": [],
   "source": [
    "t4_r"
   ]
  },
  {
   "cell_type": "markdown",
   "metadata": {},
   "source": [
    "# Bulk calculation of features"
   ]
  },
  {
   "cell_type": "markdown",
   "metadata": {},
   "source": [
    "the combination can also be done in bulk! This does it combining elementwise (basically computing the diagonal squares of the features)"
   ]
  },
  {
   "cell_type": "code",
   "execution_count": null,
   "metadata": {},
   "outputs": [],
   "source": [
    "t1_bulk = CGIR.combine(rfeats[:,:,:,lm_slice(3)], rfeats[:,:,:,lm_slice(2)], 3)"
   ]
  },
  {
   "cell_type": "code",
   "execution_count": null,
   "metadata": {},
   "outputs": [],
   "source": [
    "t1_bulk.shape"
   ]
  },
  {
   "cell_type": "markdown",
   "metadata": {},
   "source": [
    "## Manually compute SOAP and check they match librascal's"
   ]
  },
  {
   "cell_type": "code",
   "execution_count": null,
   "metadata": {},
   "outputs": [],
   "source": [
    "soap_hypers = deepcopy(spherical_expansion_hypers)\n",
    "\n",
    "soap_hypers[\"soap_type\"] = \"PowerSpectrum\"\n",
    "soap_hypers[\"normalize\"] = False\n",
    "\n",
    "soap = SphericalInvariants(**soap_hypers)\n",
    "soap_feats = soap.transform(selframe).get_features(soap)*1e12  # scale"
   ]
  },
  {
   "cell_type": "code",
   "execution_count": null,
   "metadata": {},
   "outputs": [],
   "source": [
    "nel = len(set(selframe.symbols))\n",
    "elidx = np.triu_indices(nel)\n",
    "tsoap = np.moveaxis(np.asarray([\n",
    " CGIR.combine_einsum(rfeats[:,:,:,lm_slice(l)], rfeats[:,:,:,lm_slice(l)], 0, \n",
    "                     \"ian,iAN->ianAN\")\n",
    " for l in range(soap_hypers[\"max_angular\"]+1)  \n",
    "]),(1,2,4,3,5,0,6),(0,1,2,3,4,5,6))[:,elidx[0],elidx[1],...].reshape((len(selframe), -1))"
   ]
  },
  {
   "cell_type": "code",
   "execution_count": null,
   "metadata": {},
   "outputs": [],
   "source": [
    "tsoap.shape"
   ]
  },
  {
   "cell_type": "code",
   "execution_count": null,
   "metadata": {},
   "outputs": [],
   "source": [
    "soap_feats[0,:20]"
   ]
  },
  {
   "cell_type": "code",
   "execution_count": null,
   "metadata": {},
   "outputs": [],
   "source": [
    "tsoap[0,:20]"
   ]
  },
  {
   "cell_type": "code",
   "execution_count": null,
   "metadata": {},
   "outputs": [],
   "source": [
    "r2c_mats = {}\n",
    "c2r_mats = {}\n",
    "for L in range(0, soap_hypers[\"max_angular\"]+1 + 1):\n",
    "    r2c_mats[L] = real2complex_matrix(L)\n",
    "    c2r_mats[L] = np.conjugate(r2c_mats[L]).T"
   ]
  },
  {
   "cell_type": "code",
   "execution_count": null,
   "metadata": {},
   "outputs": [],
   "source": [
    "soap_manual_full =  np.moveaxis(np.asarray([\n",
    "    np.real(np.einsum(\"ianm,iANm->ianAN\",\n",
    "              rfeats[...,lm_slice(l)]@r2c_mats[l], \n",
    "              np.conjugate(rfeats[...,lm_slice(l)]@r2c_mats[l])\n",
    "             ))/np.sqrt(2*l+1)\n",
    "    for l in range(soap_hypers[\"max_angular\"]+1)]),\n",
    "    (1,2,4,3,5,0),(0,1,2,3,4,5))"
   ]
  },
  {
   "cell_type": "code",
   "execution_count": null,
   "metadata": {},
   "outputs": [],
   "source": [
    "soap_manual_complex_2013 =  np.moveaxis(np.asarray([\n",
    "    np.real(np.einsum(\"ianm,iANm->ianAN\",\n",
    "              rfeats[...,lm_slice(l)]@r2c_mats[l].T, \n",
    "              np.conjugate(rfeats[...,lm_slice(l)]@r2c_mats[l])\n",
    "             ))/np.sqrt(2*l+1)\n",
    "    for l in range(soap_hypers[\"max_angular\"]+1)]),\n",
    "    (1,2,4,3,5,0),(0,1,2,3,4,5))[:,elidx[0],elidx[1],...].reshape((len(selframe), -1))    "
   ]
  },
  {
   "cell_type": "markdown",
   "metadata": {},
   "source": [
    "## $\\lambda$-SOAP"
   ]
  },
  {
   "cell_type": "markdown",
   "metadata": {},
   "source": [
    "this instead uses a more general core iteration based on einsum. This below is basically lambda-SOAP"
   ]
  },
  {
   "cell_type": "markdown",
   "metadata": {},
   "source": [
    "Want $\\lambda$-SOAP? You've got it! This computes the full set of features (many will be zeros but oh well) using CG iteration. Input spherical harmonics should be already \"unrolled\" into a n_env, n_el, n_max, (lmax+1)^2 form.\n",
    "Result is also returned fully unrolled, the first index being the environment, and the last the lambda-SOAP mu index.\n",
    "\n",
    "*Note this may differ from existing definitions because of the scaling of coefficients*"
   ]
  },
  {
   "cell_type": "code",
   "execution_count": null,
   "metadata": {},
   "outputs": [],
   "source": [
    "cc = rfeats[...,lm_slice(3)]@r2c_mats[3].T"
   ]
  },
  {
   "cell_type": "code",
   "execution_count": null,
   "metadata": {},
   "outputs": [],
   "source": [
    "cc[0,1,1,]"
   ]
  },
  {
   "cell_type": "code",
   "execution_count": null,
   "metadata": {},
   "outputs": [],
   "source": [
    "rfeats[0,1,1,lm_slice(3)]@r2c_mats[3].T"
   ]
  },
  {
   "cell_type": "code",
   "execution_count": null,
   "metadata": {},
   "outputs": [],
   "source": [
    "r2c(rfeats[0,1,1,lm_slice(3)])"
   ]
  },
  {
   "cell_type": "code",
   "execution_count": null,
   "metadata": {},
   "outputs": [],
   "source": [
    "def lambda_soap_manual(spx, lam, mycg):\n",
    "    lmax = int(np.sqrt(spx.shape[-1]))-1\n",
    "    nid, nel, nmax = spx.shape[:-1]\n",
    "    lsoap = np.zeros((nid, nel, nmax, lmax+1, nel, nmax, lmax+1, 2*lam+1), dtype = complex )\n",
    "    for l1 in range(lmax+1):\n",
    "        cspx1 = spx[..., lm_slice(l1)]@r2c_mats[l1].T\n",
    "        for l2 in range(lmax+1):            \n",
    "            if (l1,l2,lam) in mycg._cgraw:\n",
    "                cg = mycg._cgraw[(l1,l2,lam)]   \n",
    "                #cspx2 = np.conjugate(spx[..., lm_slice(l2)]@r2c_mats[l2])                \n",
    "                cspx2 = spx[..., lm_slice(l2)]@r2c_mats[l2].T\n",
    "                lsoap[:,:,:,l1,:,:,l2] += np.einsum(\"ianm,iANp,mpM->ianANM\",\n",
    "                                                   cspx1, cspx2, cg)@c2r_mats[lam].T\n",
    "    return lsoap"
   ]
  },
  {
   "cell_type": "code",
   "execution_count": null,
   "metadata": {},
   "outputs": [],
   "source": [
    "def lambda_soap_indirect(spx, lam, mycg):\n",
    "    lmax = int(np.sqrt(spx.shape[-1]))-1\n",
    "    nid, nel, nmax = spx.shape[:-1]\n",
    "    lsoap = np.zeros((nid, nel, nmax, lmax+1, nel, nmax, lmax+1, 2*lam+1), dtype = complex )\n",
    "    for l1 in range(lmax+1):\n",
    "        cspx1 = spx[..., lm_slice(l1)]\n",
    "        for l2 in range(lmax+1):            \n",
    "            if (l1,l2,lam) in mycg._cgraw:\n",
    "                cg = np.einsum(\"abc, ax, by, zc -> xyz\", mycg._cgraw[(l1,l2,lam)],\n",
    "                               r2c_mats[l1],r2c_mats[l2], c2r_mats[lam] )\n",
    "                #cspx2 = np.conjugate(spx[..., lm_slice(l2)]@r2c_mats[l2])                \n",
    "                cspx2 = spx[..., lm_slice(l2)]\n",
    "                lsoap[:,:,:,l1,:,:,l2] += np.einsum(\"ianm,iANp,mpM->ianANM\",\n",
    "                                                   cspx1, cspx2, cg)\n",
    "    return lsoap"
   ]
  },
  {
   "cell_type": "code",
   "execution_count": null,
   "metadata": {},
   "outputs": [],
   "source": [
    "def lambda_soap(spx, lam, cg):\n",
    "    lmax = int(np.sqrt(spx.shape[-1]))-1\n",
    "    nid, nel, nmax = spx.shape[:-1]\n",
    "    lsoap = np.zeros((nid, nel, nmax, lmax+1, nel, nmax, lmax+1, 2*lam+1))\n",
    "    for l1 in range(lmax+1):\n",
    "        for l2 in range(lmax+1):            \n",
    "            lsoap[:,:,:,l1,:,:,l2] = cg.combine_einsum(spx[..., lm_slice(l1)],\n",
    "                                        spx[..., lm_slice(l2)], \n",
    "                                        lam, combination_string=\"ian,iAN->ianAN\")\n",
    "    return lsoap"
   ]
  },
  {
   "cell_type": "code",
   "execution_count": null,
   "metadata": {},
   "outputs": [],
   "source": [
    "ss = lambda_soap_manual(rfeats, 0, CGIR)\n",
    "s2 = lambda_soap_indirect(rfeats, 0, CGIR)"
   ]
  },
  {
   "cell_type": "code",
   "execution_count": null,
   "metadata": {},
   "outputs": [],
   "source": [
    "lsoap = lambda_soap(rfeats, 0, CGIR)"
   ]
  },
  {
   "cell_type": "code",
   "execution_count": null,
   "metadata": {},
   "outputs": [],
   "source": [
    "ss.shape"
   ]
  },
  {
   "cell_type": "code",
   "execution_count": null,
   "metadata": {},
   "outputs": [],
   "source": [
    "lsoap.shape"
   ]
  },
  {
   "cell_type": "code",
   "execution_count": null,
   "metadata": {},
   "outputs": [],
   "source": [
    "lsoap[0,0,1,1,1,1,1]"
   ]
  },
  {
   "cell_type": "code",
   "execution_count": null,
   "metadata": {},
   "outputs": [],
   "source": [
    "ss[0,0,1,1,1,1,1]"
   ]
  },
  {
   "cell_type": "code",
   "execution_count": null,
   "metadata": {},
   "outputs": [],
   "source": [
    "s2[0,0,1,1,1,1,1]"
   ]
  },
  {
   "cell_type": "code",
   "execution_count": null,
   "metadata": {},
   "outputs": [],
   "source": [
    "soap_manual_full[0,0,1,1,1,1]"
   ]
  },
  {
   "cell_type": "markdown",
   "metadata": {},
   "source": [
    "### sum rules"
   ]
  },
  {
   "cell_type": "code",
   "execution_count": null,
   "metadata": {},
   "outputs": [],
   "source": [
    "lsoap = {L:lambda_soap(rfeats, L, CGIR) for L in range(6)}"
   ]
  },
  {
   "cell_type": "code",
   "execution_count": null,
   "metadata": {},
   "outputs": [],
   "source": [
    "rfeats.shape"
   ]
  },
  {
   "cell_type": "code",
   "execution_count": null,
   "metadata": {},
   "outputs": [],
   "source": [
    "normrho = np.sum(rfeats[0,1,2,lm_slice(2)]**2)\n",
    "print(normrho**2)"
   ]
  },
  {
   "cell_type": "markdown",
   "metadata": {},
   "source": [
    "WIP"
   ]
  },
  {
   "cell_type": "code",
   "execution_count": null,
   "metadata": {},
   "outputs": [],
   "source": [
    "WIP"
   ]
  },
  {
   "cell_type": "code",
   "execution_count": null,
   "metadata": {},
   "outputs": [],
   "source": [
    "normlsoap = np.sum([\n",
    "    (lsoap[L][0,1,2,2,1,2,2]**2).sum()\n",
    "    for L in range(6)\n",
    "] )\n",
    "print(normlsoap)\n",
    "print(normlsoap - normrho**2)"
   ]
  },
  {
   "cell_type": "code",
   "execution_count": null,
   "metadata": {},
   "outputs": [],
   "source": [
    "lsoap[0].shape"
   ]
  },
  {
   "cell_type": "code",
   "execution_count": null,
   "metadata": {},
   "outputs": [],
   "source": [
    "%%time\n",
    "lsoap = lambda_soap(rfeats, 3, CGIR)\n",
    "lsoap.shape = (lsoap.shape[0], -1, lsoap.shape[-1])\n",
    "lsoap_rot = lambda_soap(rfeats_rot, 3, CGIR)\n",
    "lsoap_rot.shape = (lsoap_rot.shape[0], -1, lsoap_rot.shape[-1])"
   ]
  },
  {
   "cell_type": "code",
   "execution_count": null,
   "metadata": {},
   "outputs": [],
   "source": [
    "lsoap[0,101]"
   ]
  },
  {
   "cell_type": "code",
   "execution_count": null,
   "metadata": {},
   "outputs": [],
   "source": [
    "WD.rotate(lsoap[0,101])"
   ]
  },
  {
   "cell_type": "code",
   "execution_count": null,
   "metadata": {},
   "outputs": [],
   "source": [
    "lsoap_rot[0,101]"
   ]
  },
  {
   "cell_type": "markdown",
   "metadata": {},
   "source": [
    "## Bispectrum"
   ]
  },
  {
   "cell_type": "code",
   "execution_count": null,
   "metadata": {},
   "outputs": [],
   "source": [
    "bspect_hypers = deepcopy(spherical_expansion_hypers)\n",
    "\n",
    "bspect_hypers[\"soap_type\"] = \"BiSpectrum\"\n",
    "bspect_hypers[\"normalize\"] = False\n",
    "bspect_hypers[\"inversion_symmetry\"] = False\n",
    "\n",
    "bspect = SphericalInvariants(**bspect_hypers)\n",
    "bspect_feats = bspect.transform(selframe).get_features(bspect)*1e18  # scale"
   ]
  },
  {
   "cell_type": "code",
   "execution_count": null,
   "metadata": {},
   "outputs": [],
   "source": [
    "def bispectrum_manual_real(spx, cg_dict):\n",
    "    combination_string=\"ian,iAN,iBM-> iaABnNM\"\n",
    "    lmax = int(np.sqrt(spx.shape[-1]))-1\n",
    "    rho_shape = np.einsum(combination_string,spx[...,0], spx[...,0], spx[...,0] ).shape\n",
    "    bispectrum = []\n",
    "    nid, nel, nmax = rfeats.shape[:-1]\n",
    "    relevant_l=[]\n",
    "    for l1 in range(lmax+1):\n",
    "        for l2 in range(lmax+1):\n",
    "            for l3 in range(lmax+1):\n",
    "                bispl1l2l3 =  np.zeros(rho_shape)\n",
    "                rho1 = spx[..., lm_slice(l1)]\n",
    "                rho2 = spx[..., lm_slice(l2)]\n",
    "                rho3 = spx[...,lm_slice(l3)]\n",
    "                rho = np.zeros(rho_shape)\n",
    "                if (l1, l2, l3) in cg_dict:\n",
    "                    relevant_l.append([l1,l2,l3])\n",
    "                    for m3 in range(2 * l3 + 1):\n",
    "                        for m1, m2, cg in cg_dict[(l1, l2, l3)][m3]:\n",
    "                            rho[...] += np.einsum(\n",
    "                                combination_string,  rho1[...,m1], rho2[..., m2], rho3[..., m3])* cg\n",
    "                    bispl1l2l3 =rho[...]/np.sqrt(2*l3+1)*(-1)**l3\n",
    "                    bispectrum.append(bispl1l2l3)\n",
    "    #bispectrum = np.moveaxis(np.asarray(bispectrum),(3,7,4,8,5,6),(4,3,5,6,7,8))\n",
    "    return np.asarray(bispectrum)#,relevant_l"
   ]
  },
  {
   "cell_type": "code",
   "execution_count": null,
   "metadata": {},
   "outputs": [],
   "source": [
    "cg_dict=CGIR._cgdict\n",
    "bispectrum1_real=bispectrum_manual_real(rfeats, cg_dict)"
   ]
  },
  {
   "cell_type": "code",
   "execution_count": null,
   "metadata": {},
   "outputs": [],
   "source": [
    "np.sort(bispectrum1_real[0].flatten())[-100:]"
   ]
  },
  {
   "cell_type": "code",
   "execution_count": null,
   "metadata": {},
   "outputs": [],
   "source": [
    "np.sort(np.abs(bspect_feats))[0,-100:]"
   ]
  },
  {
   "cell_type": "markdown",
   "metadata": {},
   "source": [
    "# Products of features"
   ]
  },
  {
   "cell_type": "markdown",
   "metadata": {},
   "source": [
    "This is useful to transform quantities that can be construed as products of spherical harmonics to a coupled form, and back. That is, if you have Y^m1_l1 Y^m2_l2 you can cast it into a series of coefficients that transform like a single Y^M_L, and back. Note that the transformation depends on the initial values of l1,l2"
   ]
  },
  {
   "cell_type": "code",
   "execution_count": null,
   "metadata": {},
   "outputs": [],
   "source": [
    "scale = 1e0\n",
    "test_feats = [ rfeats[0,0,0,lm_slice(l)] *scale  for l in range(0,5) ]\n",
    "test_feats_rot = [ rfeats_rot[0,0,0,lm_slice(l)]*scale  for l in range(0,5) ]\n",
    "\n",
    "test_prod = test_feats[2][:,np.newaxis]@test_feats[3][np.newaxis,:]\n",
    "test_prod_rot = test_feats_rot[2][:,np.newaxis]@test_feats_rot[3][np.newaxis,:]"
   ]
  },
  {
   "cell_type": "code",
   "execution_count": null,
   "metadata": {},
   "outputs": [],
   "source": [
    "test_coupled = CGIR.couple(test_prod)"
   ]
  },
  {
   "cell_type": "code",
   "execution_count": null,
   "metadata": {},
   "outputs": [],
   "source": [
    "test_coupled[1]"
   ]
  },
  {
   "cell_type": "code",
   "execution_count": null,
   "metadata": {},
   "outputs": [],
   "source": [
    "test_coupled_rot = CGIR.couple(test_prod_rot)"
   ]
  },
  {
   "cell_type": "code",
   "execution_count": null,
   "metadata": {},
   "outputs": [],
   "source": [
    "test_coupled_rot[1][3]"
   ]
  },
  {
   "cell_type": "code",
   "execution_count": null,
   "metadata": {},
   "outputs": [],
   "source": [
    "WD.rotate(test_coupled[1][3])"
   ]
  },
  {
   "cell_type": "code",
   "execution_count": null,
   "metadata": {},
   "outputs": [],
   "source": [
    "test_decoupled = CGIR.decouple(test_coupled)"
   ]
  },
  {
   "cell_type": "code",
   "execution_count": null,
   "metadata": {},
   "outputs": [],
   "source": [
    "test_prod - test_decoupled"
   ]
  },
  {
   "cell_type": "code",
   "execution_count": null,
   "metadata": {},
   "outputs": [],
   "source": [
    "l1, l2 = 2, 3"
   ]
  },
  {
   "cell_type": "markdown",
   "metadata": {},
   "source": [
    "this can be shown by seeing that the real CG are orthogonal"
   ]
  },
  {
   "cell_type": "code",
   "execution_count": null,
   "metadata": {},
   "outputs": [],
   "source": [
    "prod = np.zeros((2*l1+1,2*l2+1,2*l1+1,2*l2+1))\n",
    "for L in range(abs(l1-l2), abs(l1+l2)+1):\n",
    "    for M in range(0, 2*L+1):\n",
    "        for m1, m2, mcg in CGIR._cgdict[(l1, l2, L)][M]:\n",
    "            for m1p, m2p, mcgp in CGIR._cgdict[(l1, l2, L)][M]:\n",
    "                prod[m1,m2,m1p,m2p] += mcg*mcgp"
   ]
  },
  {
   "cell_type": "code",
   "execution_count": null,
   "metadata": {},
   "outputs": [],
   "source": [
    "pr = prod.reshape((2*l1+1)*(2*l2+1),(2*l1+1)*(2*l2+1))\n",
    "plt.matshow(pr)"
   ]
  },
  {
   "cell_type": "code",
   "execution_count": null,
   "metadata": {},
   "outputs": [],
   "source": []
  }
 ],
 "metadata": {
  "kernelspec": {
   "display_name": "Python 3",
   "language": "python",
   "name": "python3"
  },
  "language_info": {
   "codemirror_mode": {
    "name": "ipython",
    "version": 3
   },
   "file_extension": ".py",
   "mimetype": "text/x-python",
   "name": "python",
   "nbconvert_exporter": "python",
   "pygments_lexer": "ipython3",
   "version": "3.8.10"
  },
  "toc": {
   "base_numbering": 1,
   "nav_menu": {},
   "number_sections": true,
   "sideBar": true,
   "skip_h1_title": false,
   "title_cell": "Table of Contents",
   "title_sidebar": "Contents",
   "toc_cell": false,
   "toc_position": {},
   "toc_section_display": true,
   "toc_window_display": false
  }
 },
 "nbformat": 4,
 "nbformat_minor": 4
}
