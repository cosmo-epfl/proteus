{
 "cells": [
  {
   "cell_type": "code",
   "execution_count": null,
   "metadata": {},
   "outputs": [],
   "source": [
    "# %load_ext autoreload\n",
    "# %autoreload 2\n",
    "import sys\n",
    "sys.path.insert(0,'/home/michele/lavoro/code/librascal/build/')\n",
    "#sys.path.insert(0,'/home/nigam/git/librascal_cs/librascal/build/')"
   ]
  },
  {
   "cell_type": "markdown",
   "metadata": {},
   "source": [
    "# Spherical expansion coefficients"
   ]
  },
  {
   "cell_type": "markdown",
   "metadata": {},
   "source": [
    "This notebook provides examples of the kind of manipulations that need to be applied to rotate structures and spherical expansion coefficients. First, using traditional complex-spherical-harmonics tools, then, converting those to a fully real-valued pipeline based on a couple of handy utility functions."
   ]
  },
  {
   "cell_type": "code",
   "execution_count": null,
   "metadata": {},
   "outputs": [],
   "source": [
    "from ase.io import read\n",
    "import ase\n",
    "from copy import deepcopy\n",
    "import numpy as np\n",
    "import matplotlib.pyplot as plt\n",
    "\n",
    "from rascal.representations import SphericalExpansion, SphericalInvariants\n",
    "from rascal.utils import (get_radial_basis_covariance, get_radial_basis_pca, \n",
    "                          get_radial_basis_projections, get_optimal_radial_basis_hypers )\n",
    "from rascal.utils import radial_basis\n",
    "from rascal.utils import WignerDReal, ClebschGordanReal, spherical_expansion_reshape, lm_slice, real2complex_matrix"
   ]
  },
  {
   "cell_type": "code",
   "execution_count": null,
   "metadata": {},
   "outputs": [],
   "source": [
    "# imports also some internals to demonstrate manually some CG manipulations\n",
    "from rascal.utils.cg_utils import _r2c as r2c\n",
    "from rascal.utils.cg_utils import _c2r as c2r\n",
    "from rascal.utils.cg_utils import _cg as clebsch_gordan\n",
    "from rascal.utils.cg_utils import _rotation as rotation\n",
    "from rascal.utils.cg_utils import _wigner_d as wigner_d"
   ]
  },
  {
   "cell_type": "markdown",
   "metadata": {},
   "source": [
    "## Loads the structures"
   ]
  },
  {
   "cell_type": "code",
   "execution_count": null,
   "metadata": {},
   "outputs": [],
   "source": [
    "import urllib.request\n",
    "# a collection of distorted ethanol molecules from the ANI-1 dataset \n",
    "# (see https://github.com/isayev/ANI1_dataset) with energies and forces computed using DFTB+ \n",
    "# (see https://www.dftbplus.org/)\n",
    "url = 'https://raw.githubusercontent.com/cosmo-epfl/librascal-example-data/833b4336a7daf471e16993158322b3ea807b9d3f/inputs/molecule_conformers_dftb.xyz'\n",
    "# Download the file from `url`, save it in a temporary directory and get the\n",
    "# path to it (e.g. '/tmp/tmpb48zma.txt') in the `structures_fn` variable:\n",
    "structures_fn, headers = urllib.request.urlretrieve(url)\n",
    "structures_fn"
   ]
  },
  {
   "cell_type": "code",
   "execution_count": null,
   "metadata": {},
   "outputs": [],
   "source": [
    "# Total number of structure to load\n",
    "N = 100\n",
    "\n",
    "# load the structures\n",
    "frames = read(structures_fn,':{}'.format(N))"
   ]
  },
  {
   "cell_type": "markdown",
   "metadata": {},
   "source": [
    "## Utility functions"
   ]
  },
  {
   "cell_type": "markdown",
   "metadata": {},
   "source": [
    "Numerical evaluation of rotations and CG coefficients from sympy"
   ]
  },
  {
   "cell_type": "code",
   "execution_count": null,
   "metadata": {},
   "outputs": [],
   "source": [
    "ml1, ml2, mL = 2,3,1"
   ]
  },
  {
   "cell_type": "code",
   "execution_count": null,
   "metadata": {},
   "outputs": [],
   "source": [
    "mcg = clebsch_gordan(ml1, ml2, mL)"
   ]
  },
  {
   "cell_type": "code",
   "execution_count": null,
   "metadata": {},
   "outputs": [],
   "source": [
    "mcg[:,:,2]"
   ]
  },
  {
   "cell_type": "markdown",
   "metadata": {},
   "source": [
    "## Demonstrate the equivariance of spherical expansion coefficients"
   ]
  },
  {
   "cell_type": "markdown",
   "metadata": {},
   "source": [
    "first, we compute the density expansion coefficients on a representative dataset"
   ]
  },
  {
   "cell_type": "code",
   "execution_count": null,
   "metadata": {},
   "outputs": [],
   "source": [
    "spherical_expansion_hypers = {\n",
    "    \"interaction_cutoff\": 3,\n",
    "    \"max_radial\": 8,\n",
    "    \"max_angular\": 6,\n",
    "    \"gaussian_sigma_constant\": 0.3,\n",
    "    \"gaussian_sigma_type\": \"Constant\",\n",
    "    \"cutoff_smooth_width\": 0.5,\n",
    "    \"radial_basis\": \"GTO\",\n",
    "}\n",
    "\n",
    "spex = SphericalExpansion(**spherical_expansion_hypers)"
   ]
  },
  {
   "cell_type": "code",
   "execution_count": null,
   "metadata": {},
   "outputs": [],
   "source": [
    "selframe = frames[8]\n",
    "sell = 3\n",
    "feats = spex.transform(selframe).get_features(spex)\n",
    "feats *= 1e6\n",
    "rfeats = spherical_expansion_reshape(feats, **spherical_expansion_hypers)"
   ]
  },
  {
   "cell_type": "code",
   "execution_count": null,
   "metadata": {},
   "outputs": [],
   "source": [
    "# random rotation in terms of Euler angles\n",
    "abc = np.random.uniform(size=(3))*np.pi"
   ]
  },
  {
   "cell_type": "code",
   "execution_count": null,
   "metadata": {},
   "outputs": [],
   "source": [
    "# this is the Cartesian rotation matrix (helper function, ZYZ convention)\n",
    "mrot = rotation(*abc)"
   ]
  },
  {
   "cell_type": "code",
   "execution_count": null,
   "metadata": {},
   "outputs": [],
   "source": [
    "# rotated structure and associated features\n",
    "rotframe = selframe.copy()\n",
    "rotframe.positions = rotframe.positions @ mrot.T\n",
    "rotframe.cell = rotframe.cell @ mrot.T   # rotate also the cell\n",
    "rotfeats = spex.transform(rotframe).get_features(spex)\n",
    "rotfeats *= 1e6\n",
    "rfeats_rot = spherical_expansion_reshape(rotfeats, **spherical_expansion_hypers)"
   ]
  },
  {
   "cell_type": "code",
   "execution_count": null,
   "metadata": {},
   "outputs": [],
   "source": [
    "print(rfeats[0,0,0,lm_slice(sell)])\n",
    "np.linalg.norm(rfeats[0,0,0,lm_slice(sell)])"
   ]
  },
  {
   "cell_type": "code",
   "execution_count": null,
   "metadata": {},
   "outputs": [],
   "source": [
    "print(rfeats_rot[0,0,0,lm_slice(sell)])\n",
    "np.linalg.norm(rfeats_rot[0,0,0,lm_slice(sell)])"
   ]
  },
  {
   "cell_type": "markdown",
   "metadata": {},
   "source": [
    "## Rotate the spherical expansion features using Wigner matrices"
   ]
  },
  {
   "cell_type": "code",
   "execution_count": null,
   "metadata": {},
   "outputs": [],
   "source": [
    "# computing the wigner matrix takes some time for L>4\n",
    "mwd = wigner_d(sell, *abc)"
   ]
  },
  {
   "cell_type": "code",
   "execution_count": null,
   "metadata": {},
   "outputs": [],
   "source": [
    "# orthogonality\n",
    "plt.matshow(np.real(np.conjugate(mwd.T)@mwd))"
   ]
  },
  {
   "cell_type": "code",
   "execution_count": null,
   "metadata": {},
   "outputs": [],
   "source": [
    "#  back and forth to check transformation from real to complex SPH\n",
    "c2r(r2c(rfeats[0,0,0,lm_slice(sell)])) - rfeats[0,0,0,lm_slice(sell)]"
   ]
  },
  {
   "cell_type": "code",
   "execution_count": null,
   "metadata": {},
   "outputs": [],
   "source": [
    "rfeats[0,0,0,lm_slice(sell)]"
   ]
  },
  {
   "cell_type": "code",
   "execution_count": null,
   "metadata": {},
   "outputs": [],
   "source": [
    "rfeats_rot[0,0,0,lm_slice(sell)]"
   ]
  },
  {
   "cell_type": "code",
   "execution_count": null,
   "metadata": {},
   "outputs": [],
   "source": [
    "c2r(np.conjugate(mwd)@r2c(rfeats[0,0,0,lm_slice(sell)]))"
   ]
  },
  {
   "cell_type": "markdown",
   "metadata": {},
   "source": [
    "## Compute CG iteration and show that it transforms properly"
   ]
  },
  {
   "cell_type": "markdown",
   "metadata": {},
   "source": [
    "basically, here we compute covariant, lambda-SOAP features by combining spherical expansion coefficients,\n",
    "following the idea behind NICE [[original paper](doi.org/10.1063/5.0021116)]"
   ]
  },
  {
   "cell_type": "code",
   "execution_count": null,
   "metadata": {},
   "outputs": [],
   "source": [
    "# these are the indices of the features \n",
    "ml1, ml2, mL = 3,2,3\n",
    "mcg = clebsch_gordan(ml1, ml2, mL)\n",
    "mwd = wigner_d(mL, *abc)"
   ]
  },
  {
   "cell_type": "code",
   "execution_count": null,
   "metadata": {},
   "outputs": [],
   "source": [
    "cg1 = c2r(np.einsum(\"abc,a,b->c\",mcg,\n",
    "                    r2c(rfeats[0,0,0,lm_slice(ml1)]), \n",
    "                    r2c(rfeats[0,0,0,lm_slice(ml2)])))"
   ]
  },
  {
   "cell_type": "code",
   "execution_count": null,
   "metadata": {},
   "outputs": [],
   "source": [
    "rotcg1 = c2r(np.einsum(\"abc,a,b->c\",mcg,\n",
    "                    r2c(rfeats_rot[0,0,0,lm_slice(ml1)]), \n",
    "                    r2c(rfeats_rot[0,0,0,lm_slice(ml2)])) )"
   ]
  },
  {
   "cell_type": "code",
   "execution_count": null,
   "metadata": {},
   "outputs": [],
   "source": [
    "cg1"
   ]
  },
  {
   "cell_type": "code",
   "execution_count": null,
   "metadata": {},
   "outputs": [],
   "source": [
    "rotcg1"
   ]
  },
  {
   "cell_type": "code",
   "execution_count": null,
   "metadata": {},
   "outputs": [],
   "source": [
    "c2r(np.conjugate(mwd)@r2c(cg1))"
   ]
  },
  {
   "cell_type": "markdown",
   "metadata": {},
   "source": [
    "## Direct real transformations"
   ]
  },
  {
   "cell_type": "markdown",
   "metadata": {},
   "source": [
    "There's no \"real\" reason to go through the complex algebra for rotations - we can transform once and for all the coefficients and be done with that!"
   ]
  },
  {
   "cell_type": "code",
   "execution_count": null,
   "metadata": {},
   "outputs": [],
   "source": [
    "# matrix version of the real-2-complex and complex-2-real transformations\n",
    "r2c_mat = np.hstack([r2c(np.eye(2*mL+1)[i])[:,np.newaxis] for i in range(2*mL+1)])\n",
    "c2r_mat = np.conjugate(r2c_mat.T)"
   ]
  },
  {
   "cell_type": "code",
   "execution_count": null,
   "metadata": {},
   "outputs": [],
   "source": [
    "# we can use this to transform features\n",
    "r2c_mat@cg1 - r2c(cg1)"
   ]
  },
  {
   "cell_type": "code",
   "execution_count": null,
   "metadata": {},
   "outputs": [],
   "source": [
    "# and Wigner D matrix as well\n",
    "real_mwd = np.real(c2r_mat @ np.conjugate(mwd) @ r2c_mat)"
   ]
  },
  {
   "cell_type": "markdown",
   "metadata": {},
   "source": [
    "The direct real rotation is equal (modulo noise) to going back and forth from complex sph"
   ]
  },
  {
   "cell_type": "code",
   "execution_count": null,
   "metadata": {},
   "outputs": [],
   "source": [
    "real_mwd @ cg1 - rotcg1"
   ]
  },
  {
   "cell_type": "markdown",
   "metadata": {},
   "source": [
    "this also applies to the CG iteration!"
   ]
  },
  {
   "cell_type": "code",
   "execution_count": null,
   "metadata": {},
   "outputs": [],
   "source": [
    "r2c_mat_l1 = np.hstack([r2c(np.eye(2*ml1+1)[i])[:,np.newaxis] for i in range(2*ml1+1)])\n",
    "r2c_mat_l2 = np.hstack([r2c(np.eye(2*ml2+1)[i])[:,np.newaxis] for i in range(2*ml2+1)])\n",
    "r2c_mat_L = np.hstack([r2c(np.eye(2*mL+1)[i])[:,np.newaxis] for i in range(2*mL+1)])"
   ]
  },
  {
   "cell_type": "code",
   "execution_count": null,
   "metadata": {},
   "outputs": [],
   "source": [
    "real_mcg = np.real(np.einsum(\"abc, ax, by, zc -> xyz\", mcg, r2c_mat_l1, r2c_mat_l2, np.conjugate(r2c_mat_L.T)))"
   ]
  },
  {
   "cell_type": "code",
   "execution_count": null,
   "metadata": {},
   "outputs": [],
   "source": [
    "real_cg1 = np.einsum(\"abc,a,b->c\",real_mcg,\n",
    "                    rfeats[0,0,0,lm_slice(ml1)],\n",
    "                    rfeats[0,0,0,lm_slice(ml2)])"
   ]
  },
  {
   "cell_type": "code",
   "execution_count": null,
   "metadata": {},
   "outputs": [],
   "source": [
    "real_cg1 - cg1"
   ]
  },
  {
   "cell_type": "markdown",
   "metadata": {},
   "source": [
    "# Streamlined real-only CG iter (and transformation)"
   ]
  },
  {
   "cell_type": "markdown",
   "metadata": {},
   "source": [
    "Uses the utility classes defined in rascal.utils to do all of the above (and more!)\n",
    "WignerDReal is a Wigner D matrix implementation to rotate Y^m_l - like coefficients\n",
    "ClebschGordanReal precomputes Clebsch-Gordan operations using real-only storage of the spherical expansion coefficients"
   ]
  },
  {
   "cell_type": "code",
   "execution_count": null,
   "metadata": {},
   "outputs": [],
   "source": [
    "WD   = WignerDReal(spherical_expansion_hypers[\"max_angular\"], *abc)\n",
    "CGIR = ClebschGordanReal(spherical_expansion_hypers[\"max_angular\"])"
   ]
  },
  {
   "cell_type": "code",
   "execution_count": null,
   "metadata": {},
   "outputs": [],
   "source": [
    "scale = 1\n",
    "test_feats = [ rfeats[0,0,0,l**2:(l+1)**2] *scale  for l in range(0,5) ]\n",
    "test_feats_rot = [ rfeats_rot[0,0,0,l**2:(l+1)**2]*scale  for l in range(0,5) ]"
   ]
  },
  {
   "cell_type": "code",
   "execution_count": null,
   "metadata": {},
   "outputs": [],
   "source": [
    "t1 = CGIR.combine(test_feats[3], test_feats[4], 3)\n",
    "t1_r = CGIR.combine(test_feats_rot[3], test_feats_rot[4], 3)"
   ]
  },
  {
   "cell_type": "code",
   "execution_count": null,
   "metadata": {},
   "outputs": [],
   "source": [
    "t1"
   ]
  },
  {
   "cell_type": "code",
   "execution_count": null,
   "metadata": {},
   "outputs": [],
   "source": [
    "WD.rotate(t1)"
   ]
  },
  {
   "cell_type": "code",
   "execution_count": null,
   "metadata": {},
   "outputs": [],
   "source": [
    "t1_r"
   ]
  },
  {
   "cell_type": "code",
   "execution_count": null,
   "metadata": {},
   "outputs": [],
   "source": [
    "t2 = CGIR.combine(t1, test_feats[3], 2)\n",
    "t2_r = CGIR.combine(t1_r, test_feats_rot[3], 2)"
   ]
  },
  {
   "cell_type": "code",
   "execution_count": null,
   "metadata": {},
   "outputs": [],
   "source": [
    "WD.rotate(t2)"
   ]
  },
  {
   "cell_type": "code",
   "execution_count": null,
   "metadata": {},
   "outputs": [],
   "source": [
    "t2_r"
   ]
  },
  {
   "cell_type": "code",
   "execution_count": null,
   "metadata": {},
   "outputs": [],
   "source": [
    "t3 = CGIR.combine(t2, test_feats[3], 1)\n",
    "t3_r = CGIR.combine(t2_r, test_feats_rot[3], 1)"
   ]
  },
  {
   "cell_type": "code",
   "execution_count": null,
   "metadata": {},
   "outputs": [],
   "source": [
    "WD.rotate(t3)"
   ]
  },
  {
   "cell_type": "code",
   "execution_count": null,
   "metadata": {},
   "outputs": [],
   "source": [
    "t3_r"
   ]
  },
  {
   "cell_type": "code",
   "execution_count": null,
   "metadata": {},
   "outputs": [],
   "source": [
    "t4 = CGIR.combine(t3, t2, 3)\n",
    "t4_r = CGIR.combine(t3_r, t2_r, 3)"
   ]
  },
  {
   "cell_type": "code",
   "execution_count": null,
   "metadata": {},
   "outputs": [],
   "source": [
    "WD.rotate(t4)"
   ]
  },
  {
   "cell_type": "code",
   "execution_count": null,
   "metadata": {},
   "outputs": [],
   "source": [
    "t4_r"
   ]
  },
  {
   "cell_type": "markdown",
   "metadata": {},
   "source": [
    "# Bulk calculation of features"
   ]
  },
  {
   "cell_type": "markdown",
   "metadata": {},
   "source": [
    "the combination can also be done in bulk! This does it combining elementwise (basically computing the diagonal squares of the features)"
   ]
  },
  {
   "cell_type": "code",
   "execution_count": null,
   "metadata": {},
   "outputs": [],
   "source": [
    "t1_bulk = CGIR.combine(rfeats[:,:,:,lm_slice(3)], rfeats[:,:,:,lm_slice(2)], 3)"
   ]
  },
  {
   "cell_type": "code",
   "execution_count": null,
   "metadata": {},
   "outputs": [],
   "source": [
    "t1_bulk.shape"
   ]
  },
  {
   "cell_type": "markdown",
   "metadata": {},
   "source": [
    "## Manually compute SOAP and check they match librascal's"
   ]
  },
  {
   "cell_type": "code",
   "execution_count": null,
   "metadata": {},
   "outputs": [],
   "source": [
    "soap_hypers = deepcopy(spherical_expansion_hypers)\n",
    "\n",
    "soap_hypers[\"soap_type\"] = \"PowerSpectrum\"\n",
    "soap_hypers[\"normalize\"] = False\n",
    "\n",
    "soap = SphericalInvariants(**soap_hypers)\n",
    "soap_feats = soap.transform(selframe).get_features(soap)*1e12  # scale"
   ]
  },
  {
   "cell_type": "code",
   "execution_count": null,
   "metadata": {},
   "outputs": [],
   "source": [
    "nel = len(set(selframe.symbols))\n",
    "elidx = np.triu_indices(nel)\n",
    "tsoap = np.moveaxis(np.asarray([\n",
    " CGIR.combine_einsum(rfeats[:,:,:,lm_slice(l)], rfeats[:,:,:,lm_slice(l)], 0, \n",
    "                     \"ian,iAN->ianAN\")\n",
    " for l in range(soap_hypers[\"max_angular\"]+1)  \n",
    "]),(1,2,4,3,5,0,6),(0,1,2,3,4,5,6))[:,elidx[0],elidx[1],...].reshape((len(selframe), -1))"
   ]
  },
  {
   "cell_type": "code",
   "execution_count": null,
   "metadata": {},
   "outputs": [],
   "source": [
    "tsoap.shape"
   ]
  },
  {
   "cell_type": "code",
   "execution_count": null,
   "metadata": {},
   "outputs": [],
   "source": [
    "soap_feats[0,:20]"
   ]
  },
  {
   "cell_type": "code",
   "execution_count": null,
   "metadata": {},
   "outputs": [],
   "source": [
    "tsoap[0,:20]"
   ]
  },
  {
   "cell_type": "code",
   "execution_count": null,
   "metadata": {},
   "outputs": [],
   "source": [
    "r2c_mats = {}\n",
    "c2r_mats = {}\n",
    "for L in range(0, soap_hypers[\"max_angular\"]+1 + 1):\n",
    "    r2c_mats[L] = real2complex_matrix(L)\n",
    "    c2r_mats[L] = np.conjugate(r2c_mats[L]).T"
   ]
  },
  {
   "cell_type": "code",
   "execution_count": null,
   "metadata": {},
   "outputs": [],
   "source": [
    "soap_manual_full =  np.moveaxis(np.asarray([\n",
    "    np.real(np.einsum(\"ianm,iANm->ianAN\",\n",
    "              rfeats[...,lm_slice(l)]@r2c_mats[l], \n",
    "              np.conjugate(rfeats[...,lm_slice(l)]@r2c_mats[l])\n",
    "             ))/np.sqrt(2*l+1)\n",
    "    for l in range(soap_hypers[\"max_angular\"]+1)]),\n",
    "    (1,2,4,3,5,0),(0,1,2,3,4,5))"
   ]
  },
  {
   "cell_type": "code",
   "execution_count": null,
   "metadata": {},
   "outputs": [],
   "source": [
    "soap_manual_complex_2013 =  np.moveaxis(np.asarray([\n",
    "    np.real(np.einsum(\"ianm,iANm->ianAN\",\n",
    "              rfeats[...,lm_slice(l)]@r2c_mats[l].T, \n",
    "              np.conjugate(rfeats[...,lm_slice(l)]@r2c_mats[l])\n",
    "             ))/np.sqrt(2*l+1)\n",
    "    for l in range(soap_hypers[\"max_angular\"]+1)]),\n",
    "    (1,2,4,3,5,0),(0,1,2,3,4,5))[:,elidx[0],elidx[1],...].reshape((len(selframe), -1))    "
   ]
  },
  {
   "cell_type": "code",
   "execution_count": null,
   "metadata": {},
   "outputs": [],
   "source": [
    "rfeats[0,0,0,lm_slice(1)].mean()"
   ]
  },
  {
   "cell_type": "markdown",
   "metadata": {},
   "source": [
    "## $\\lambda$-SOAP"
   ]
  },
  {
   "cell_type": "markdown",
   "metadata": {},
   "source": [
    "#### Tests on SPH"
   ]
  },
  {
   "cell_type": "markdown",
   "metadata": {},
   "source": [
    "It's important to know how the r2c, c2r should be used with $Y_l^m$ and $Y_l^{m*}$ to go from complex to real and vice versa. \n",
    "\n",
    "From the following, since $\\langle{a nl -m}|\\rho_i\\rangle{} \\propto Y_l^{m}$, we use forward multiplication with c2r_mats[l] to go from complex to real "
   ]
  },
  {
   "cell_type": "code",
   "execution_count": null,
   "metadata": {},
   "outputs": [],
   "source": [
    "import scipy\n",
    "def sph(l, theta, phi):\n",
    "    ylm=np.zeros((2*l+1), complex)\n",
    "    for m in range(-l, l+1):\n",
    "        ylm[m+l] = scipy.special.sph_harm(m,l,phi,theta)\n",
    "    return ylm"
   ]
  },
  {
   "cell_type": "code",
   "execution_count": null,
   "metadata": {},
   "outputs": [],
   "source": [
    "lam=1"
   ]
  },
  {
   "cell_type": "code",
   "execution_count": null,
   "metadata": {},
   "outputs": [],
   "source": [
    "ylm= sph(lam, np.pi/4, np.pi/3)\n",
    "ylm_conj = np.conjugate(ylm)"
   ]
  },
  {
   "cell_type": "code",
   "execution_count": null,
   "metadata": {},
   "outputs": [],
   "source": [
    "ylm"
   ]
  },
  {
   "cell_type": "code",
   "execution_count": null,
   "metadata": {},
   "outputs": [],
   "source": [
    "r2c_mats[lam]@(c2r_mats[lam]@ylm) #== ylm"
   ]
  },
  {
   "cell_type": "code",
   "execution_count": null,
   "metadata": {},
   "outputs": [],
   "source": [
    "(ylm_conj@r2c_mats[lam])@c2r_mats[lam] #== ylm_conj"
   ]
  },
  {
   "cell_type": "code",
   "execution_count": null,
   "metadata": {},
   "outputs": [],
   "source": [
    "def combine_SPH(yl1,yl2, lam, mycg):\n",
    "    cl = np.zeros((2*lam+1), dtype = complex )\n",
    "    if (l1,l2,lam) in mycg._cgraw:\n",
    "        cg = mycg._cgraw[(l1,l2,lam)]   \n",
    "        cl = np.einsum(\"m,p,mpM->M\",yl1, yl2, cg)\n",
    "    return cl"
   ]
  },
  {
   "cell_type": "code",
   "execution_count": null,
   "metadata": {},
   "outputs": [],
   "source": [
    "l1=2\n",
    "l2=4\n",
    "lam=2\n",
    "yl1= sph(l1, np.pi/4, np.pi/3)\n",
    "yl2= sph(l2, np.pi/5, np.pi/6)\n",
    "combine_SPH(yl1,yl2, lam, CGIR)@c2r_mats[lam].T #combination of SPH"
   ]
  },
  {
   "cell_type": "code",
   "execution_count": null,
   "metadata": {},
   "outputs": [],
   "source": [
    "combine_SPH(yl1.conj(),yl2.conj(), lam, CGIR)@r2c_mats[lam] #combination of SPH conjugates(should be conjugate of above)"
   ]
  },
  {
   "cell_type": "code",
   "execution_count": null,
   "metadata": {},
   "outputs": [],
   "source": [
    "np.real(yl1@c2r_mats[l1].T)"
   ]
  },
  {
   "cell_type": "code",
   "execution_count": null,
   "metadata": {},
   "outputs": [],
   "source": [
    "np.real(c2r_mats[l1]@yl1)"
   ]
  },
  {
   "cell_type": "code",
   "execution_count": null,
   "metadata": {},
   "outputs": [],
   "source": [
    "np.real(yl1.conj()@c2r_mats[l1].T)## this is wrong, because in real space Y_l^(m*) = Y_l^m"
   ]
  },
  {
   "cell_type": "code",
   "execution_count": null,
   "metadata": {},
   "outputs": [],
   "source": [
    "np.real(yl1.conj()@np.conjugate(c2r_mats[l1].T))#the correct transformation for sph conjugate"
   ]
  },
  {
   "cell_type": "markdown",
   "metadata": {},
   "source": [
    " We can also more explicitly compare the SPH and the coefficients"
   ]
  },
  {
   "cell_type": "code",
   "execution_count": null,
   "metadata": {},
   "outputs": [],
   "source": [
    "at = ase.Atoms(\"CH\")\n",
    "at.cell=[100,100,100]\n",
    "rh = np.ones(3)\n",
    "at.positions[1] = rh\n",
    "rfat = spherical_expansion_reshape(spex.transform(at).get_features(spex), **spherical_expansion_hypers)"
   ]
  },
  {
   "cell_type": "code",
   "execution_count": null,
   "metadata": {},
   "outputs": [],
   "source": [
    "at.positions"
   ]
  },
  {
   "cell_type": "code",
   "execution_count": null,
   "metadata": {},
   "outputs": [],
   "source": [
    "r2c_mat[1].shape"
   ]
  },
  {
   "cell_type": "code",
   "execution_count": null,
   "metadata": {},
   "outputs": [],
   "source": [
    "ycmp = r2c_mats[3]@rfat[0,0,3,lm_slice(3)]*2.87271275e-01/8.94257507e-04"
   ]
  },
  {
   "cell_type": "code",
   "execution_count": null,
   "metadata": {},
   "outputs": [],
   "source": [
    "ysph = sph(3,np.arccos(rh[2]/np.sqrt(rh@rh)),np.arctan2(rh[1]/np.sqrt(rh@rh),rh[0]/np.sqrt(rh@rh)))"
   ]
  },
  {
   "cell_type": "code",
   "execution_count": null,
   "metadata": {},
   "outputs": [],
   "source": [
    "ycmp"
   ]
  },
  {
   "cell_type": "code",
   "execution_count": null,
   "metadata": {},
   "outputs": [],
   "source": [
    "ysph"
   ]
  },
  {
   "cell_type": "code",
   "execution_count": null,
   "metadata": {},
   "outputs": [],
   "source": [
    "np.conjugate(ysph)"
   ]
  },
  {
   "cell_type": "code",
   "execution_count": null,
   "metadata": {},
   "outputs": [],
   "source": [
    "ysph - ycmp*[-1,1,-1,1,-1,1,-1]"
   ]
  },
  {
   "cell_type": "markdown",
   "metadata": {},
   "source": [
    "### Rotation of SPH vs density coefficients"
   ]
  },
  {
   "cell_type": "code",
   "execution_count": null,
   "metadata": {},
   "outputs": [],
   "source": [
    "# Cartesian rotation matrix \n",
    "abc = np.random.uniform(size=(3))*np.pi\n",
    "mrot = rotation(*abc)\n",
    "WD   = WignerDReal(spherical_expansion_hypers[\"max_angular\"], *abc) #Real Wigner-D class \n",
    "mwd = wigner_d(1, *abc) #Wigner-D for complex SPH"
   ]
  },
  {
   "cell_type": "code",
   "execution_count": null,
   "metadata": {},
   "outputs": [],
   "source": [
    "theta= np.pi/4\n",
    "phi=np.pi/3\n",
    "l1=2\n",
    "yl1= sph(l1, np.pi/4, np.pi/3)\n",
    "yl1_conj = np.conjugate(yl1)\n",
    "yl1_real = yl1@c2r_mats[l1].T"
   ]
  },
  {
   "cell_type": "code",
   "execution_count": null,
   "metadata": {},
   "outputs": [],
   "source": [
    "#explicit rotation of unit vector\n",
    "#determine angles of rotated unit vector\n",
    "x,y,z = np.sin(theta)*np.cos(phi), np.sin(theta)*np.sin(phi), np.cos(theta)\n",
    "r=np.dot(mrot, [x,y,z])\n",
    "phi_rot = np.arctan2(r[1],r[0])\n",
    "theta_rot = np.arctan2(np.sqrt(r[0]**2+r[1]**2),r[2])"
   ]
  },
  {
   "cell_type": "code",
   "execution_count": null,
   "metadata": {},
   "outputs": [],
   "source": [
    "# jj=np.dot(mrot,[(yl1_real)[-1], (yl1_real.T)[0], (yl1_real.T)[1]]) #cartesian rotation acting on [x,y,z]\n",
    "# yl1_explicit_rotate= np.array([jj[1], jj[2], jj[0]]) #retrieve ylm in m=-l1...l1 format\n",
    "# print(yl1_explicit_rotate)"
   ]
  },
  {
   "cell_type": "code",
   "execution_count": null,
   "metadata": {},
   "outputs": [],
   "source": [
    "y1_rot= sph(l1, theta_rot, phi_rot)\n",
    "y1_conj_rot= np.conjugate(y1_rot)\n",
    "print((y1_rot@c2r_mats[l1].T).real)"
   ]
  },
  {
   "cell_type": "code",
   "execution_count": null,
   "metadata": {},
   "outputs": [],
   "source": [
    "#WD.rotate rotates REAL ylm \n",
    "print(WD.rotate(yl1@c2r_mats[l1].T).real)\n",
    "#that should be also equal to rotating the REAL ylm* --- hence WD.rotate rotates REAL(ylm conjugate)\n",
    "print(WD.rotate(yl1_conj@r2c_mats[l1]).real)"
   ]
  },
  {
   "cell_type": "code",
   "execution_count": null,
   "metadata": {},
   "outputs": [],
   "source": [
    "#Check in complex space \n",
    "mwd = wigner_d(l1, *abc)"
   ]
  },
  {
   "cell_type": "code",
   "execution_count": null,
   "metadata": {},
   "outputs": [],
   "source": [
    "#So wigner_d rotates yl1_conj\n",
    "((mwd@yl1_conj)@r2c_mats[l1]).real"
   ]
  },
  {
   "cell_type": "code",
   "execution_count": null,
   "metadata": {},
   "outputs": [],
   "source": [
    "# to apply it to yl1, we have to use the Hermitian adjoint (given here by the complex conjugate-transpose)\n",
    "((yl1@np.conjugate(mwd).T)@c2r_mats[l1].T).real"
   ]
  },
  {
   "cell_type": "markdown",
   "metadata": {},
   "source": [
    "#### Check on density coefficients"
   ]
  },
  {
   "cell_type": "code",
   "execution_count": null,
   "metadata": {},
   "outputs": [],
   "source": [
    "rotframe = selframe.copy()\n",
    "rotframe.positions = rotframe.positions @ mrot.T\n",
    "rotframe.cell = rotframe.cell @ mrot.T   # rotate also the cell\n",
    "rotfeats = spex.transform(rotframe).get_features(spex)\n",
    "rotfeats *= 1e6\n",
    "rfeats_rot = spherical_expansion_reshape(rotfeats, **spherical_expansion_hypers)"
   ]
  },
  {
   "cell_type": "code",
   "execution_count": null,
   "metadata": {},
   "outputs": [],
   "source": [
    "WD.rotate(rfeats[0,0,0,lm_slice(1)])"
   ]
  },
  {
   "cell_type": "code",
   "execution_count": null,
   "metadata": {},
   "outputs": [],
   "source": [
    "mwd = wigner_d(1, *abc)\n",
    "c2r(r2c(rfeats[0,0,0,lm_slice(1)])@np.conjugate(mwd).T)"
   ]
  },
  {
   "cell_type": "markdown",
   "metadata": {},
   "source": [
    "So this shows that the complex spherical harmonics created from rfeats transform like spherical harmonics (which makes sense because we are constructing complex SPH from three real numbers) which means that - **what we are creating in the r2c transformation is <n|$\\rho_i^{\\otimes 1}$; lm> and not <nlm|$\\rho_i$>**\n",
    "Therefore it makes sense in the lambda_soap_manual function to not have conjugates or (-m) because what we just have to straightforwardly implement the recursion \n",
    "<n1 l1; n2 l2 | $\\rho_i^{\\otimes 2}; \\lambda \\mu$> = $\\sum <n_1|\\rho_i^{\\otimes 1}; l_1 m_1> <n_2|\\rho_i^{\\otimes 1}; l_2 m_2> <l_2 m_2; l_1 m_1|\\lambda \\mu> $ \n",
    "\n",
    "(NOTE: Although one thing is that we implementing the product with $<l_1 m_1; l_2 m_2|\\lambda \\mu> $ whereas theoretically the recursion has $<l_2 m_2; l_1 m_1|\\lambda \\mu> $. The two differ by a phase of $(-1)^{l1+l2+\\lambda}$ so we should observe this phase difference from the theoretical)"
   ]
  },
  {
   "cell_type": "code",
   "execution_count": null,
   "metadata": {},
   "outputs": [],
   "source": [
    "def lambda_soap_manual(spx, lam, mycg):\n",
    "    lmax = int(np.sqrt(spx.shape[-1]))-1\n",
    "    nid, nel, nmax = spx.shape[:-1]\n",
    "    lsoap = np.zeros((nid, nel, nmax, lmax+1, nel, nmax, lmax+1, 2*lam+1), dtype = complex )\n",
    "    for l1 in range(lmax+1):\n",
    "        cspx1 = spx[..., lm_slice(l1)]@r2c_mats[l1].T\n",
    "        for l2 in range(lmax+1):            \n",
    "            if (l1,l2,lam) in mycg._cgraw:\n",
    "                cg = mycg._cgraw[(l1,l2,lam)]   \n",
    "                #cspx2 = np.conjugate(spx[..., lm_slice(l2)]@r2c_mats[l2])                \n",
    "                cspx2 = spx[..., lm_slice(l2)]@r2c_mats[l2].T\n",
    "                lsoap[:,:,:,l1,:,:,l2] += np.einsum(\"ianm,iANp,mpM->ianANM\",\n",
    "                                                   cspx1, cspx2, cg)@c2r_mats[lam].T\n",
    "    return lsoap"
   ]
  },
  {
   "cell_type": "code",
   "execution_count": null,
   "metadata": {},
   "outputs": [],
   "source": [
    "lam=2\n",
    "ss = lambda_soap_manual(rfeats, lam, CGIR) #already returns after applying c2r transformation\n",
    "ss_rot = lambda_soap_manual(rfeats_rot, lam, CGIR)"
   ]
  },
  {
   "cell_type": "code",
   "execution_count": null,
   "metadata": {},
   "outputs": [],
   "source": [
    "l1=1\n",
    "l2=1\n",
    "a1=0\n",
    "n1=1\n",
    "a2=0\n",
    "n2=0\n",
    "atom_idx=0"
   ]
  },
  {
   "cell_type": "code",
   "execution_count": null,
   "metadata": {},
   "outputs": [],
   "source": [
    "WD.rotate(ss[atom_idx,a1,n1,l1,a2,n2,l2])"
   ]
  },
  {
   "cell_type": "code",
   "execution_count": null,
   "metadata": {},
   "outputs": [],
   "source": [
    "ss_rot[atom_idx,a1,n1,l1,a2,n2,l2]"
   ]
  },
  {
   "cell_type": "code",
   "execution_count": null,
   "metadata": {},
   "outputs": [],
   "source": [
    "#lambda-SOAP# rotates as expected "
   ]
  },
  {
   "cell_type": "markdown",
   "metadata": {},
   "source": [
    "this instead uses a more general core iteration based on einsum. This below is basically lambda-SOAP"
   ]
  },
  {
   "cell_type": "markdown",
   "metadata": {},
   "source": [
    "Want $\\lambda$-SOAP? You've got it! This computes the full set of features (many will be zeros but oh well) using CG iteration. Input spherical harmonics should be already \"unrolled\" into a n_env, n_el, n_max, (lmax+1)^2 form.\n",
    "Result is also returned fully unrolled, the first index being the environment, and the last the lambda-SOAP mu index.\n",
    "\n",
    "*Note this may differ from existing definitions because of the scaling of coefficients*"
   ]
  },
  {
   "cell_type": "code",
   "execution_count": null,
   "metadata": {},
   "outputs": [],
   "source": [
    "cc = rfeats[...,lm_slice(3)]@r2c_mats[3].T"
   ]
  },
  {
   "cell_type": "code",
   "execution_count": null,
   "metadata": {},
   "outputs": [],
   "source": [
    "cc[0,1,1,]"
   ]
  },
  {
   "cell_type": "code",
   "execution_count": null,
   "metadata": {},
   "outputs": [],
   "source": [
    "rfeats[0,1,1,lm_slice(3)]@r2c_mats[3].T"
   ]
  },
  {
   "cell_type": "code",
   "execution_count": null,
   "metadata": {},
   "outputs": [],
   "source": [
    "r2c(rfeats[0,1,1,lm_slice(3)])"
   ]
  },
  {
   "cell_type": "code",
   "execution_count": null,
   "metadata": {},
   "outputs": [],
   "source": [
    "def lambda_soap_indirect(spx, lam, mycg):\n",
    "    lmax = int(np.sqrt(spx.shape[-1]))-1\n",
    "    nid, nel, nmax = spx.shape[:-1]\n",
    "    lsoap = np.zeros((nid, nel, nmax, lmax+1, nel, nmax, lmax+1, 2*lam+1), dtype = complex )\n",
    "    for l1 in range(lmax+1):\n",
    "        cspx1 = spx[..., lm_slice(l1)]\n",
    "        for l2 in range(lmax+1):            \n",
    "            if (l1,l2,lam) in mycg._cgraw:\n",
    "                cg = np.einsum(\"abc, ax, by, zc -> xyz\", mycg._cgraw[(l1,l2,lam)],\n",
    "                               r2c_mats[l1],r2c_mats[l2], c2r_mats[lam] )\n",
    "                #cspx2 = np.conjugate(spx[..., lm_slice(l2)]@r2c_mats[l2])                \n",
    "                cspx2 = spx[..., lm_slice(l2)]\n",
    "                lsoap[:,:,:,l1,:,:,l2] += np.einsum(\"ianm,iANp,mpM->ianANM\",\n",
    "                                                   cspx1, cspx2, cg)\n",
    "    return lsoap"
   ]
  },
  {
   "cell_type": "code",
   "execution_count": null,
   "metadata": {},
   "outputs": [],
   "source": [
    "def lambda_soap(spx, lam, cg):\n",
    "    lmax = int(np.sqrt(spx.shape[-1]))-1\n",
    "    nid, nel, nmax = spx.shape[:-1]\n",
    "    lsoap = np.zeros((nid, nel, nmax, lmax+1, nel, nmax, lmax+1, 2*lam+1))\n",
    "    for l1 in range(lmax+1):\n",
    "        for l2 in range(lmax+1):            \n",
    "            lsoap[:,:,:,l1,:,:,l2] = cg.combine_einsum(spx[..., lm_slice(l1)],\n",
    "                                        spx[..., lm_slice(l2)], \n",
    "                                        lam, combination_string=\"ian,iAN->ianAN\")\n",
    "    return lsoap"
   ]
  },
  {
   "cell_type": "code",
   "execution_count": null,
   "metadata": {},
   "outputs": [],
   "source": [
    "lam=1"
   ]
  },
  {
   "cell_type": "code",
   "execution_count": null,
   "metadata": {},
   "outputs": [],
   "source": [
    "ss = lambda_soap_manual(rfeats, lam, CGIR)\n",
    "s2 = lambda_soap_indirect(rfeats, lam, CGIR)"
   ]
  },
  {
   "cell_type": "code",
   "execution_count": null,
   "metadata": {},
   "outputs": [],
   "source": [
    "lsoap = lambda_soap(rfeats, lam, CGIR)"
   ]
  },
  {
   "cell_type": "code",
   "execution_count": null,
   "metadata": {},
   "outputs": [],
   "source": [
    "l1=1\n",
    "l2=1\n",
    "a1=0\n",
    "n1=1\n",
    "a2=0\n",
    "n2=0\n",
    "atom_idx=0"
   ]
  },
  {
   "cell_type": "code",
   "execution_count": null,
   "metadata": {},
   "outputs": [],
   "source": [
    "ss[atom_idx,a1,n1,l1,a2,n2,l2]"
   ]
  },
  {
   "cell_type": "code",
   "execution_count": null,
   "metadata": {},
   "outputs": [],
   "source": [
    "s2[atom_idx,a1,n1,l1,a2,n2,l2]"
   ]
  },
  {
   "cell_type": "code",
   "execution_count": null,
   "metadata": {},
   "outputs": [],
   "source": [
    "lsoap[atom_idx,a1,n1,l1,a2,n2,l2]"
   ]
  },
  {
   "cell_type": "code",
   "execution_count": null,
   "metadata": {},
   "outputs": [],
   "source": [
    "ss.shape"
   ]
  },
  {
   "cell_type": "code",
   "execution_count": null,
   "metadata": {},
   "outputs": [],
   "source": [
    "lsoap.shape"
   ]
  },
  {
   "cell_type": "code",
   "execution_count": null,
   "metadata": {},
   "outputs": [],
   "source": [
    "lsoap[0,0,1,1,1,1,1]"
   ]
  },
  {
   "cell_type": "code",
   "execution_count": null,
   "metadata": {},
   "outputs": [],
   "source": [
    "ss[0,0,1,1,1,1,1]"
   ]
  },
  {
   "cell_type": "code",
   "execution_count": null,
   "metadata": {},
   "outputs": [],
   "source": [
    "s2[0,0,1,1,1,1,1]"
   ]
  },
  {
   "cell_type": "code",
   "execution_count": null,
   "metadata": {},
   "outputs": [],
   "source": [
    "soap_manual_full[0,0,1,1,1,1]"
   ]
  },
  {
   "cell_type": "markdown",
   "metadata": {},
   "source": [
    "### Check that we can recover invariant SOAP from $\\lambda$ SOAP"
   ]
  },
  {
   "cell_type": "code",
   "execution_count": null,
   "metadata": {},
   "outputs": [],
   "source": [
    "inv=np.zeros((10, 3, 8, 3, 8,7), complex)\n",
    "nel = len(set(selframe.symbols))\n",
    "elidx = np.triu_indices(nel)\n",
    "for l in range(7):\n",
    "    inv[:,:,:,:,:,l] = ss[:,:,:,l,:,:,l,0] \n",
    "inv=np.moveaxis(inv, (0,1,2,3,4,5),(0,1,4,2,3,5))[:,elidx[0],elidx[1],...].reshape((len(selframe), -1))"
   ]
  },
  {
   "cell_type": "code",
   "execution_count": null,
   "metadata": {},
   "outputs": [],
   "source": [
    "inv[0, :20]"
   ]
  },
  {
   "cell_type": "code",
   "execution_count": null,
   "metadata": {},
   "outputs": [],
   "source": [
    "tsoap[0,:20]"
   ]
  },
  {
   "cell_type": "markdown",
   "metadata": {},
   "source": [
    "### sum rules $\\lambda$-SOAP"
   ]
  },
  {
   "cell_type": "code",
   "execution_count": null,
   "metadata": {},
   "outputs": [],
   "source": [
    "def sum_rule_lsoap(spx, l1,l2, atom_idx,a1,n1,a2,n2,mycg):\n",
    "    lmax = int(np.sqrt(spx.shape[-1]))-1\n",
    "    lsoap = {L:lambda_soap(spx, L, mycg) for L in range(lmax+1)}\n",
    "    normlsoap = np.sum([(lsoap[L][atom_idx,a1,n1,l1,a2,n2,l2]**2).sum() for L in range(np.abs(l1-l2),l1+l2+1)] )\n",
    "    normrho = np.sum(spx[atom_idx,a1,n1,lm_slice(l1)]**2) * np.sum(spx[atom_idx,a2,n2,lm_slice(l2)]**2)\n",
    "    print(r\"norm lambda-SOAP: \", normlsoap)\n",
    "    print(r\"norm rho^2: \", normrho)\n",
    "    return normlsoap-normrho"
   ]
  },
  {
   "cell_type": "code",
   "execution_count": null,
   "metadata": {},
   "outputs": [],
   "source": [
    "sum_rule_lsoap(rfeats, l1,l2, atom_idx,a1,n1,a2,n2,CGIR)"
   ]
  },
  {
   "cell_type": "markdown",
   "metadata": {},
   "source": [
    "### NICE -like iteration with scaling coefficients and scaled SUM rules\n",
    "\n",
    "#### Although note that the sum rules (both scaled and unscaled ) rely on the completness relation, so in essence if lmax<(l1+l2), we miss $\\lambda$ terms and the sum rule wont hold. \n"
   ]
  },
  {
   "cell_type": "code",
   "execution_count": null,
   "metadata": {},
   "outputs": [],
   "source": [
    "lmax = int(np.sqrt(rfeats.shape[-1]))-1\n",
    "scaled_rfeats=np.zeros(rfeats.shape)\n",
    "for l in range(lmax+1):\n",
    "    scaled_rfeats[...,lm_slice(l)] = rfeats[...,lm_slice(l)]/np.sqrt(2*l+1) "
   ]
  },
  {
   "cell_type": "code",
   "execution_count": null,
   "metadata": {},
   "outputs": [],
   "source": [
    "def lambda_soap_scaled(spx, lam, cg):\n",
    "    lmax = int(np.sqrt(spx.shape[-1]))-1\n",
    "    nid, nel, nmax = spx.shape[:-1]\n",
    "    lsoap = np.zeros((nid, nel, nmax, lmax+1, nel, nmax, lmax+1, 2*lam+1))\n",
    "    for l1 in range(lmax+1):\n",
    "        for l2 in range(lmax+1):            \n",
    "            lsoap[:,:,:,l1,:,:,l2] =np.sqrt(2*l2+1)*np.sqrt(2*l1+1)*cg.combine_einsum(spx[..., lm_slice(l1)],\n",
    "                                        spx[..., lm_slice(l2)], \n",
    "                                        lam, combination_string=\"ian,iAN->ianAN\")\n",
    "    return lsoap/np.sqrt(2*lam+1)"
   ]
  },
  {
   "cell_type": "code",
   "execution_count": null,
   "metadata": {},
   "outputs": [],
   "source": [
    "# check if lsoap is scaled properly\n",
    "np.where(np.isclose(lambda_soap_scaled(scaled_rfeats, 2, CGIR)[:].real*np.sqrt(5), lambda_soap(rfeats, 2, CGIR)[:].real)==False)"
   ]
  },
  {
   "cell_type": "code",
   "execution_count": null,
   "metadata": {},
   "outputs": [],
   "source": [
    "def sum_rule_lsoap_scaled(spx, l1,l2, atom_idx,a1,n1,a2,n2,mycg):\n",
    "    lmax = int(np.sqrt(spx.shape[-1]))-1\n",
    "    scaled_lsoap = {L:lambda_soap_scaled(spx, L, mycg) for L in range(lmax+1)}\n",
    "    normlsoap = np.sum([(2*L+1)*(scaled_lsoap[L][atom_idx,a1,n1,l1,a2,n2,l2]**2).sum() for L in range(np.abs(l1-l2),min(l1+l2+1,lmax))] )\n",
    "    normrho = np.sum(spx[atom_idx,a1,n1,lm_slice(l1)]**2) * np.sum(spx[atom_idx,a2,n2,lm_slice(l2)]**2)*(2*l1+1)*(2*l2+1)\n",
    "    print(r\"norm lambda-SOAP: \", normlsoap)\n",
    "    print(r\"norm rho^2: \", normrho)\n",
    "    return normlsoap-normrho\n"
   ]
  },
  {
   "cell_type": "code",
   "execution_count": null,
   "metadata": {},
   "outputs": [],
   "source": [
    "l1=1\n",
    "l2=1\n",
    "n1=1\n",
    "n2=4\n",
    "a1=0\n",
    "a2=1"
   ]
  },
  {
   "cell_type": "code",
   "execution_count": null,
   "metadata": {},
   "outputs": [],
   "source": [
    "sum_rule_lsoap_scaled(scaled_rfeats, l1,l2, atom_idx,a1,n1,a2,n2,CGIR)"
   ]
  },
  {
   "cell_type": "code",
   "execution_count": null,
   "metadata": {},
   "outputs": [],
   "source": []
  },
  {
   "cell_type": "markdown",
   "metadata": {},
   "source": [
    "WIP"
   ]
  },
  {
   "cell_type": "code",
   "execution_count": null,
   "metadata": {},
   "outputs": [],
   "source": [
    "# normlsoap = np.sum([\n",
    "#     (lsoap[L][0,1,2,2,1,2,2]**2).sum()\n",
    "#     for L in range(6)\n",
    "# ] )\n",
    "# print(normlsoap)\n",
    "# print(normlsoap - normrho**2)"
   ]
  },
  {
   "cell_type": "code",
   "execution_count": null,
   "metadata": {},
   "outputs": [],
   "source": [
    "%%time\n",
    "lsoap = lambda_soap(rfeats, 3, CGIR)\n",
    "lsoap.shape = (lsoap.shape[0], -1, lsoap.shape[-1])\n",
    "lsoap_rot = lambda_soap(rfeats_rot, 3, CGIR)\n",
    "lsoap_rot.shape = (lsoap_rot.shape[0], -1, lsoap_rot.shape[-1])"
   ]
  },
  {
   "cell_type": "code",
   "execution_count": null,
   "metadata": {},
   "outputs": [],
   "source": [
    "lsoap[0,101]"
   ]
  },
  {
   "cell_type": "code",
   "execution_count": null,
   "metadata": {},
   "outputs": [],
   "source": [
    "WD.rotate(lsoap[0,101])"
   ]
  },
  {
   "cell_type": "code",
   "execution_count": null,
   "metadata": {},
   "outputs": [],
   "source": [
    "lsoap_rot[0,101]"
   ]
  },
  {
   "cell_type": "markdown",
   "metadata": {},
   "source": [
    "## Bispectrum"
   ]
  },
  {
   "cell_type": "code",
   "execution_count": null,
   "metadata": {},
   "outputs": [],
   "source": [
    "bspect_hypers = deepcopy(spherical_expansion_hypers)\n",
    "\n",
    "bspect_hypers[\"soap_type\"] = \"BiSpectrum\"\n",
    "bspect_hypers[\"normalize\"] = False\n",
    "bspect_hypers[\"inversion_symmetry\"] = False\n",
    "\n",
    "bspect = SphericalInvariants(**bspect_hypers)\n",
    "bspect_feats = bspect.transform(selframe).get_features(bspect)*1e18  # scale"
   ]
  },
  {
   "cell_type": "code",
   "execution_count": null,
   "metadata": {},
   "outputs": [],
   "source": [
    "def bispectrum_manual_real(spx, cg_dict):\n",
    "    combination_string=\"ian,iAN,iBM-> iaABnNM\"\n",
    "    lmax = int(np.sqrt(spx.shape[-1]))-1\n",
    "    rho_shape = np.einsum(combination_string,spx[...,0], spx[...,0], spx[...,0] ).shape\n",
    "    bispectrum = []\n",
    "    nid, nel, nmax = rfeats.shape[:-1]\n",
    "    relevant_l=[]\n",
    "    for l1 in range(lmax+1):\n",
    "        for l2 in range(lmax+1):\n",
    "            for l3 in range(lmax+1):\n",
    "                bispl1l2l3 =  np.zeros(rho_shape)\n",
    "                rho1 = spx[..., lm_slice(l1)]\n",
    "                rho2 = spx[..., lm_slice(l2)]\n",
    "                rho3 = spx[...,lm_slice(l3)]\n",
    "                rho = np.zeros(rho_shape)\n",
    "                if (l1, l2, l3) in cg_dict:\n",
    "                    relevant_l.append([l1,l2,l3])\n",
    "                    for m3 in range(2 * l3 + 1):\n",
    "                        for m1, m2, cg in cg_dict[(l1, l2, l3)][m3]:\n",
    "                            rho[...] += np.einsum(\n",
    "                                combination_string,  rho1[...,m1], rho2[..., m2], rho3[..., m3])* cg\n",
    "                    bispl1l2l3 =rho[...]/np.sqrt(2*l3+1)*(-1)**l3\n",
    "                    bispectrum.append(bispl1l2l3)\n",
    "    #bispectrum = np.moveaxis(np.asarray(bispectrum),(3,7,4,8,5,6),(4,3,5,6,7,8))\n",
    "    return np.asarray(bispectrum)#,relevant_l"
   ]
  },
  {
   "cell_type": "code",
   "execution_count": null,
   "metadata": {},
   "outputs": [],
   "source": [
    "cg_dict=CGIR._cgdict\n",
    "bispectrum1_real=bispectrum_manual_real(rfeats, cg_dict)"
   ]
  },
  {
   "cell_type": "code",
   "execution_count": null,
   "metadata": {},
   "outputs": [],
   "source": [
    "def bispectrum_from_lsoap_real(spx,cg):\n",
    "    lmax = int(np.sqrt(spx.shape[-1]))-1\n",
    "    combination_string=\"ian,iAN,iBM-> ianANBM\"\n",
    "    rho_shape = np.einsum(combination_string,spx[...,0], spx[...,0], spx[...,0]).shape\n",
    "    bispectrum = []\n",
    "    bispl1l2l3 = np.moveaxis(np.zeros(rho_shape+(lmax+1,lmax+1,lmax+1)),(3,7,4,8,5,6),(4,3,5,6,7,8))\n",
    "    cg_dict = cg._cgdict\n",
    "    for l3 in range(lmax+1):\n",
    "        lsoap = lambda_soap(spx, l3, cg)\n",
    "        bispl1l2l3[...,l3] = np.einsum(\"ianlANLM, iBKM->ianlANLBK\", lsoap[...,:], spx[...,lm_slice(l3)])*(-1)**l3/np.sqrt(2*l3+1)\n",
    "        for l1 in range(lsoap.shape[3]):\n",
    "            for l2 in range(lsoap.shape[-2]):\n",
    "                if (l1,l2,l3) in cg_dict: \n",
    "                    bispectrum.append(np.moveaxis(bispl1l2l3[:,:,:,l1,:,:,l2,:,:,l3], (2,3,4,5),(4,2,5,3)))\n",
    "    return np.asarray(bispectrum)"
   ]
  },
  {
   "cell_type": "code",
   "execution_count": null,
   "metadata": {},
   "outputs": [],
   "source": [
    "bispectrum2_real= bispectrum_from_lsoap_real(rfeats,CGIR)"
   ]
  },
  {
   "cell_type": "code",
   "execution_count": null,
   "metadata": {},
   "outputs": [],
   "source": [
    "bispectrum2_real.shape"
   ]
  },
  {
   "cell_type": "code",
   "execution_count": null,
   "metadata": {},
   "outputs": [],
   "source": [
    "bispectrum1_real.shape"
   ]
  },
  {
   "cell_type": "code",
   "execution_count": null,
   "metadata": {},
   "outputs": [],
   "source": [
    "np.sort(bispectrum2_real[0].flatten())[-1000:]\n",
    "# bispectrum2_real[0].flatten()[-100:]"
   ]
  },
  {
   "cell_type": "code",
   "execution_count": null,
   "metadata": {},
   "outputs": [],
   "source": [
    "np.sort(bispectrum1_real[0].flatten())[-1000:]\n",
    "# bispectrum1_real[0].flatten()[:100]"
   ]
  },
  {
   "cell_type": "code",
   "execution_count": null,
   "metadata": {},
   "outputs": [],
   "source": [
    "np.where(np.isclose(np.sort(bispectrum2_real[0].flatten())[-1000:],np.sort(bispectrum1_real[0].flatten())[-1000:])==False)"
   ]
  },
  {
   "cell_type": "code",
   "execution_count": null,
   "metadata": {},
   "outputs": [],
   "source": [
    "np.sort(np.abs(bspect_feats))[0,-100:]"
   ]
  },
  {
   "cell_type": "markdown",
   "metadata": {},
   "source": [
    "# Products of features"
   ]
  },
  {
   "cell_type": "markdown",
   "metadata": {},
   "source": [
    "This is useful to transform quantities that can be construed as products of spherical harmonics to a coupled form, and back. That is, if you have Y^m1_l1 Y^m2_l2 you can cast it into a series of coefficients that transform like a single Y^M_L, and back. Note that the transformation depends on the initial values of l1,l2"
   ]
  },
  {
   "cell_type": "code",
   "execution_count": null,
   "metadata": {},
   "outputs": [],
   "source": [
    "scale = 1e0\n",
    "test_feats = [ rfeats[0,0,0,lm_slice(l)] *scale  for l in range(0,5) ]\n",
    "test_feats_rot = [ rfeats_rot[0,0,0,lm_slice(l)]*scale  for l in range(0,5) ]\n",
    "\n",
    "test_prod = test_feats[2][:,np.newaxis]@test_feats[3][np.newaxis,:]\n",
    "test_prod_rot = test_feats_rot[2][:,np.newaxis]@test_feats_rot[3][np.newaxis,:]"
   ]
  },
  {
   "cell_type": "code",
   "execution_count": null,
   "metadata": {},
   "outputs": [],
   "source": [
    "test_coupled = CGIR.couple(test_prod)"
   ]
  },
  {
   "cell_type": "code",
   "execution_count": null,
   "metadata": {},
   "outputs": [],
   "source": [
    "test_coupled[1]"
   ]
  },
  {
   "cell_type": "code",
   "execution_count": null,
   "metadata": {},
   "outputs": [],
   "source": [
    "test_coupled_rot = CGIR.couple(test_prod_rot)"
   ]
  },
  {
   "cell_type": "code",
   "execution_count": null,
   "metadata": {},
   "outputs": [],
   "source": [
    "test_coupled_rot[1][3]"
   ]
  },
  {
   "cell_type": "code",
   "execution_count": null,
   "metadata": {},
   "outputs": [],
   "source": [
    "WD.rotate(test_coupled[1][3])"
   ]
  },
  {
   "cell_type": "code",
   "execution_count": null,
   "metadata": {},
   "outputs": [],
   "source": [
    "test_decoupled = CGIR.decouple(test_coupled)"
   ]
  },
  {
   "cell_type": "code",
   "execution_count": null,
   "metadata": {},
   "outputs": [],
   "source": [
    "test_prod - test_decoupled"
   ]
  },
  {
   "cell_type": "code",
   "execution_count": null,
   "metadata": {},
   "outputs": [],
   "source": [
    "l1, l2 = 2, 3"
   ]
  },
  {
   "cell_type": "markdown",
   "metadata": {},
   "source": [
    "this can be shown by seeing that the real CG are orthogonal"
   ]
  },
  {
   "cell_type": "code",
   "execution_count": null,
   "metadata": {},
   "outputs": [],
   "source": [
    "prod = np.zeros((2*l1+1,2*l2+1,2*l1+1,2*l2+1))\n",
    "for L in range(abs(l1-l2), abs(l1+l2)+1):\n",
    "    for M in range(0, 2*L+1):\n",
    "        for m1, m2, mcg in CGIR._cgdict[(l1, l2, L)][M]:\n",
    "            for m1p, m2p, mcgp in CGIR._cgdict[(l1, l2, L)][M]:\n",
    "                prod[m1,m2,m1p,m2p] += mcg*mcgp"
   ]
  },
  {
   "cell_type": "code",
   "execution_count": null,
   "metadata": {},
   "outputs": [],
   "source": [
    "pr = prod.reshape((2*l1+1)*(2*l2+1),(2*l1+1)*(2*l2+1))\n",
    "plt.matshow(pr)"
   ]
  },
  {
   "cell_type": "code",
   "execution_count": null,
   "metadata": {},
   "outputs": [],
   "source": []
  },
  {
   "cell_type": "code",
   "execution_count": null,
   "metadata": {},
   "outputs": [],
   "source": []
  },
  {
   "cell_type": "code",
   "execution_count": null,
   "metadata": {},
   "outputs": [],
   "source": []
  }
 ],
 "metadata": {
  "kernelspec": {
   "display_name": "Python 3",
   "language": "python",
   "name": "python3"
  },
  "language_info": {
   "codemirror_mode": {
    "name": "ipython",
    "version": 3
   },
   "file_extension": ".py",
   "mimetype": "text/x-python",
   "name": "python",
   "nbconvert_exporter": "python",
   "pygments_lexer": "ipython3",
   "version": "3.8.10"
  },
  "toc": {
   "base_numbering": 1,
   "nav_menu": {},
   "number_sections": true,
   "sideBar": true,
   "skip_h1_title": false,
   "title_cell": "Table of Contents",
   "title_sidebar": "Contents",
   "toc_cell": false,
   "toc_position": {},
   "toc_section_display": true,
   "toc_window_display": true
  }
 },
 "nbformat": 4,
 "nbformat_minor": 4
}
