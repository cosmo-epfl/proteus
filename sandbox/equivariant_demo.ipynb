{
 "cells": [
  {
   "cell_type": "code",
   "execution_count": 1,
   "metadata": {},
   "outputs": [],
   "source": [
    "# %load_ext autoreload\n",
    "# %autoreload 2\n",
    "import sys\n",
    "# sys.path.insert(0,'/home/michele/lavoro/code/librascal/build/')\n",
    "sys.path.insert(0,'/home/nigam/git/librascal_cs/librascal/build/')"
   ]
  },
  {
   "cell_type": "markdown",
   "metadata": {},
   "source": [
    "# Spherical expansion coefficients"
   ]
  },
  {
   "cell_type": "markdown",
   "metadata": {},
   "source": [
    "This notebook provides examples of the kind of manipulations that need to be applied to rotate structures and spherical expansion coefficients. First, using traditional complex-spherical-harmonics tools, then, converting those to a fully real-valued pipeline based on a couple of handy utility functions."
   ]
  },
  {
   "cell_type": "code",
   "execution_count": 2,
   "metadata": {},
   "outputs": [
    {
     "name": "stderr",
     "output_type": "stream",
     "text": [
      "In /home/nigam/.local/lib/python3.6/site-packages/matplotlib/mpl-data/stylelib/_classic_test.mplstyle: \n",
      "The text.latex.preview rcparam was deprecated in Matplotlib 3.3 and will be removed two minor releases later.\n",
      "In /home/nigam/.local/lib/python3.6/site-packages/matplotlib/mpl-data/stylelib/_classic_test.mplstyle: \n",
      "The mathtext.fallback_to_cm rcparam was deprecated in Matplotlib 3.3 and will be removed two minor releases later.\n",
      "In /home/nigam/.local/lib/python3.6/site-packages/matplotlib/mpl-data/stylelib/_classic_test.mplstyle: Support for setting the 'mathtext.fallback_to_cm' rcParam is deprecated since 3.3 and will be removed two minor releases later; use 'mathtext.fallback : 'cm' instead.\n",
      "In /home/nigam/.local/lib/python3.6/site-packages/matplotlib/mpl-data/stylelib/_classic_test.mplstyle: \n",
      "The validate_bool_maybe_none function was deprecated in Matplotlib 3.3 and will be removed two minor releases later.\n",
      "In /home/nigam/.local/lib/python3.6/site-packages/matplotlib/mpl-data/stylelib/_classic_test.mplstyle: \n",
      "The savefig.jpeg_quality rcparam was deprecated in Matplotlib 3.3 and will be removed two minor releases later.\n",
      "In /home/nigam/.local/lib/python3.6/site-packages/matplotlib/mpl-data/stylelib/_classic_test.mplstyle: \n",
      "The keymap.all_axes rcparam was deprecated in Matplotlib 3.3 and will be removed two minor releases later.\n",
      "In /home/nigam/.local/lib/python3.6/site-packages/matplotlib/mpl-data/stylelib/_classic_test.mplstyle: \n",
      "The animation.avconv_path rcparam was deprecated in Matplotlib 3.3 and will be removed two minor releases later.\n",
      "In /home/nigam/.local/lib/python3.6/site-packages/matplotlib/mpl-data/stylelib/_classic_test.mplstyle: \n",
      "The animation.avconv_args rcparam was deprecated in Matplotlib 3.3 and will be removed two minor releases later.\n"
     ]
    }
   ],
   "source": [
    "from ase.io import read\n",
    "import ase\n",
    "from copy import deepcopy\n",
    "import numpy as np\n",
    "import matplotlib.pyplot as plt\n",
    "\n",
    "from rascal.representations import SphericalExpansion, SphericalInvariants\n",
    "from rascal.utils import (get_radial_basis_covariance, get_radial_basis_pca, \n",
    "                          get_radial_basis_projections, get_optimal_radial_basis_hypers )\n",
    "from rascal.utils import radial_basis\n",
    "from rascal.utils import WignerDReal, ClebschGordanReal, spherical_expansion_reshape, lm_slice, real2complex_matrix"
   ]
  },
  {
   "cell_type": "code",
   "execution_count": 3,
   "metadata": {},
   "outputs": [],
   "source": [
    "# imports also some internals to demonstrate manually some CG manipulations\n",
    "from rascal.utils.cg_utils import _r2c as r2c\n",
    "from rascal.utils.cg_utils import _c2r as c2r\n",
    "from rascal.utils.cg_utils import _cg as clebsch_gordan\n",
    "from rascal.utils.cg_utils import _rotation as rotation\n",
    "from rascal.utils.cg_utils import _wigner_d as wigner_d"
   ]
  },
  {
   "cell_type": "markdown",
   "metadata": {},
   "source": [
    "## Loads the structures"
   ]
  },
  {
   "cell_type": "code",
   "execution_count": 4,
   "metadata": {},
   "outputs": [
    {
     "data": {
      "text/plain": [
       "'/tmp/tmpv5k_lx8e'"
      ]
     },
     "execution_count": 4,
     "metadata": {},
     "output_type": "execute_result"
    }
   ],
   "source": [
    "import urllib.request\n",
    "# a collection of distorted ethanol molecules from the ANI-1 dataset \n",
    "# (see https://github.com/isayev/ANI1_dataset) with energies and forces computed using DFTB+ \n",
    "# (see https://www.dftbplus.org/)\n",
    "url = 'https://raw.githubusercontent.com/cosmo-epfl/librascal-example-data/833b4336a7daf471e16993158322b3ea807b9d3f/inputs/molecule_conformers_dftb.xyz'\n",
    "# Download the file from `url`, save it in a temporary directory and get the\n",
    "# path to it (e.g. '/tmp/tmpb48zma.txt') in the `structures_fn` variable:\n",
    "structures_fn, headers = urllib.request.urlretrieve(url)\n",
    "structures_fn"
   ]
  },
  {
   "cell_type": "code",
   "execution_count": 5,
   "metadata": {},
   "outputs": [],
   "source": [
    "# Total number of structure to load\n",
    "N = 100\n",
    "\n",
    "# load the structures\n",
    "frames = read(structures_fn,':{}'.format(N))"
   ]
  },
  {
   "cell_type": "markdown",
   "metadata": {},
   "source": [
    "## Utility functions"
   ]
  },
  {
   "cell_type": "markdown",
   "metadata": {},
   "source": [
    "Numerical evaluation of rotations and CG coefficients from sympy"
   ]
  },
  {
   "cell_type": "code",
   "execution_count": 6,
   "metadata": {},
   "outputs": [],
   "source": [
    "ml1, ml2, mL = 2,3,1"
   ]
  },
  {
   "cell_type": "code",
   "execution_count": 7,
   "metadata": {},
   "outputs": [],
   "source": [
    "mcg = clebsch_gordan(ml1, ml2, mL)"
   ]
  },
  {
   "cell_type": "code",
   "execution_count": 8,
   "metadata": {},
   "outputs": [
    {
     "data": {
      "text/plain": [
       "array([[ 0.        ,  0.        ,  0.        ,  0.        ,  0.        ,\n",
       "         0.        ,  0.65465367],\n",
       "       [ 0.        ,  0.        ,  0.        ,  0.        ,  0.        ,\n",
       "        -0.53452248,  0.        ],\n",
       "       [ 0.        ,  0.        ,  0.        ,  0.        ,  0.41403934,\n",
       "         0.        ,  0.        ],\n",
       "       [ 0.        ,  0.        ,  0.        , -0.29277002,  0.        ,\n",
       "         0.        ,  0.        ],\n",
       "       [ 0.        ,  0.        ,  0.16903085,  0.        ,  0.        ,\n",
       "         0.        ,  0.        ]])"
      ]
     },
     "execution_count": 8,
     "metadata": {},
     "output_type": "execute_result"
    }
   ],
   "source": [
    "mcg[:,:,2]"
   ]
  },
  {
   "cell_type": "markdown",
   "metadata": {},
   "source": [
    "## Demonstrate the equivariance of spherical expansion coefficients"
   ]
  },
  {
   "cell_type": "markdown",
   "metadata": {},
   "source": [
    "first, we compute the density expansion coefficients on a representative dataset"
   ]
  },
  {
   "cell_type": "code",
   "execution_count": 9,
   "metadata": {},
   "outputs": [],
   "source": [
    "spherical_expansion_hypers = {\n",
    "    \"interaction_cutoff\": 3,\n",
    "    \"max_radial\": 8,\n",
    "    \"max_angular\": 6,\n",
    "    \"gaussian_sigma_constant\": 0.3,\n",
    "    \"gaussian_sigma_type\": \"Constant\",\n",
    "    \"cutoff_smooth_width\": 0.5,\n",
    "    \"radial_basis\": \"GTO\",\n",
    "}\n",
    "\n",
    "spex = SphericalExpansion(**spherical_expansion_hypers)"
   ]
  },
  {
   "cell_type": "code",
   "execution_count": 10,
   "metadata": {},
   "outputs": [],
   "source": [
    "selframe = frames[8]\n",
    "sell = 3\n",
    "feats = spex.transform(selframe).get_features(spex)\n",
    "feats *= 1e6\n",
    "rfeats = spherical_expansion_reshape(feats, **spherical_expansion_hypers)"
   ]
  },
  {
   "cell_type": "code",
   "execution_count": 11,
   "metadata": {},
   "outputs": [],
   "source": [
    "# random rotation in terms of Euler angles\n",
    "abc = np.random.uniform(size=(3))*np.pi"
   ]
  },
  {
   "cell_type": "code",
   "execution_count": 12,
   "metadata": {},
   "outputs": [],
   "source": [
    "# this is the Cartesian rotation matrix (helper function, ZYZ convention)\n",
    "mrot = rotation(*abc)"
   ]
  },
  {
   "cell_type": "code",
   "execution_count": 13,
   "metadata": {},
   "outputs": [],
   "source": [
    "# rotated structure and associated features\n",
    "rotframe = selframe.copy()\n",
    "rotframe.positions = rotframe.positions @ mrot.T\n",
    "rotframe.cell = rotframe.cell @ mrot.T   # rotate also the cell\n",
    "rotfeats = spex.transform(rotframe).get_features(spex)\n",
    "rotfeats *= 1e6\n",
    "rfeats_rot = spherical_expansion_reshape(rotfeats, **spherical_expansion_hypers)"
   ]
  },
  {
   "cell_type": "code",
   "execution_count": 14,
   "metadata": {},
   "outputs": [
    {
     "name": "stdout",
     "output_type": "stream",
     "text": [
      "[  49.95020279    3.36703957  -14.28548994  -32.00290346 -349.96433675\n",
      "   38.64396967  463.2326373 ]\n"
     ]
    },
    {
     "data": {
      "text/plain": [
       "585.0534081728395"
      ]
     },
     "execution_count": 14,
     "metadata": {},
     "output_type": "execute_result"
    }
   ],
   "source": [
    "print(rfeats[0,0,0,lm_slice(sell)])\n",
    "np.linalg.norm(rfeats[0,0,0,lm_slice(sell)])"
   ]
  },
  {
   "cell_type": "code",
   "execution_count": 15,
   "metadata": {},
   "outputs": [
    {
     "name": "stdout",
     "output_type": "stream",
     "text": [
      "[  68.55691222  175.79580883  140.54759028  -94.97238342 -464.69499335\n",
      " -243.87115309  -49.95316707]\n"
     ]
    },
    {
     "data": {
      "text/plain": [
       "585.0534081728388"
      ]
     },
     "execution_count": 15,
     "metadata": {},
     "output_type": "execute_result"
    }
   ],
   "source": [
    "print(rfeats_rot[0,0,0,lm_slice(sell)])\n",
    "np.linalg.norm(rfeats_rot[0,0,0,lm_slice(sell)])"
   ]
  },
  {
   "cell_type": "markdown",
   "metadata": {
    "heading_collapsed": true
   },
   "source": [
    "## Rotate the spherical expansion features using Wigner matrices"
   ]
  },
  {
   "cell_type": "code",
   "execution_count": 16,
   "metadata": {
    "hidden": true
   },
   "outputs": [],
   "source": [
    "# computing the wigner matrix takes some time for L>4\n",
    "mwd = wigner_d(sell, *abc)"
   ]
  },
  {
   "cell_type": "code",
   "execution_count": 17,
   "metadata": {
    "hidden": true
   },
   "outputs": [
    {
     "data": {
      "text/plain": [
       "<matplotlib.image.AxesImage at 0x7f41d1a03c50>"
      ]
     },
     "execution_count": 17,
     "metadata": {},
     "output_type": "execute_result"
    },
    {
     "data": {
      "image/png": "[encoded data removed]",
      "text/plain": [
       "<Figure size 288x288 with 1 Axes>"
      ]
     },
     "metadata": {
      "needs_background": "light"
     },
     "output_type": "display_data"
    }
   ],
   "source": [
    "# orthogonality\n",
    "plt.matshow(np.real(np.conjugate(mwd.T)@mwd))"
   ]
  },
  {
   "cell_type": "code",
   "execution_count": 18,
   "metadata": {
    "hidden": true
   },
   "outputs": [
    {
     "data": {
      "text/plain": [
       "array([0., 0., 0., 0., 0., 0., 0.])"
      ]
     },
     "execution_count": 18,
     "metadata": {},
     "output_type": "execute_result"
    }
   ],
   "source": [
    "#  back and forth to check transformation from real to complex SPH\n",
    "c2r(r2c(rfeats[0,0,0,lm_slice(sell)])) - rfeats[0,0,0,lm_slice(sell)]"
   ]
  },
  {
   "cell_type": "code",
   "execution_count": 19,
   "metadata": {
    "hidden": true
   },
   "outputs": [
    {
     "data": {
      "text/plain": [
       "array([  49.95020279,    3.36703957,  -14.28548994,  -32.00290346,\n",
       "       -349.96433675,   38.64396967,  463.2326373 ])"
      ]
     },
     "execution_count": 19,
     "metadata": {},
     "output_type": "execute_result"
    }
   ],
   "source": [
    "rfeats[0,0,0,lm_slice(sell)]"
   ]
  },
  {
   "cell_type": "code",
   "execution_count": 20,
   "metadata": {
    "hidden": true
   },
   "outputs": [
    {
     "data": {
      "text/plain": [
       "array([  68.55691222,  175.79580883,  140.54759028,  -94.97238342,\n",
       "       -464.69499335, -243.87115309,  -49.95316707])"
      ]
     },
     "execution_count": 20,
     "metadata": {},
     "output_type": "execute_result"
    }
   ],
   "source": [
    "rfeats_rot[0,0,0,lm_slice(sell)]"
   ]
  },
  {
   "cell_type": "code",
   "execution_count": 21,
   "metadata": {
    "hidden": true
   },
   "outputs": [
    {
     "data": {
      "text/plain": [
       "array([  68.55691222,  175.79580883,  140.54759028,  -94.97238342,\n",
       "       -464.69499335, -243.87115309,  -49.95316707])"
      ]
     },
     "execution_count": 21,
     "metadata": {},
     "output_type": "execute_result"
    }
   ],
   "source": [
    "c2r(np.conjugate(mwd)@r2c(rfeats[0,0,0,lm_slice(sell)]))"
   ]
  },
  {
   "cell_type": "markdown",
   "metadata": {},
   "source": [
    "## Compute CG iteration and show that it transforms properly"
   ]
  },
  {
   "cell_type": "markdown",
   "metadata": {},
   "source": [
    "basically, here we compute covariant, lambda-SOAP features by combining spherical expansion coefficients,\n",
    "following the idea behind NICE [[original paper](doi.org/10.1063/5.0021116)]"
   ]
  },
  {
   "cell_type": "code",
   "execution_count": 22,
   "metadata": {},
   "outputs": [],
   "source": [
    "# these are the indices of the features \n",
    "ml1, ml2, mL = 3,2,3\n",
    "mcg = clebsch_gordan(ml1, ml2, mL)\n",
    "mwd = wigner_d(mL, *abc)"
   ]
  },
  {
   "cell_type": "code",
   "execution_count": 23,
   "metadata": {},
   "outputs": [],
   "source": [
    "cg1 = c2r(np.einsum(\"abc,a,b->c\",mcg,\n",
    "                    r2c(rfeats[0,0,0,lm_slice(ml1)]), \n",
    "                    r2c(rfeats[0,0,0,lm_slice(ml2)])))"
   ]
  },
  {
   "cell_type": "code",
   "execution_count": 24,
   "metadata": {},
   "outputs": [],
   "source": [
    "rotcg1 = c2r(np.einsum(\"abc,a,b->c\",mcg,\n",
    "                    r2c(rfeats_rot[0,0,0,lm_slice(ml1)]), \n",
    "                    r2c(rfeats_rot[0,0,0,lm_slice(ml2)])) )"
   ]
  },
  {
   "cell_type": "code",
   "execution_count": 25,
   "metadata": {},
   "outputs": [
    {
     "data": {
      "text/plain": [
       "array([ -27558.89898463,   -1200.96265403,    5846.63967851,\n",
       "         12867.0974336 ,  157208.67054923,  -18469.14931726,\n",
       "       -206676.68144291])"
      ]
     },
     "execution_count": 25,
     "metadata": {},
     "output_type": "execute_result"
    }
   ],
   "source": [
    "cg1"
   ]
  },
  {
   "cell_type": "code",
   "execution_count": 26,
   "metadata": {},
   "outputs": [
    {
     "data": {
      "text/plain": [
       "array([-31688.90500193, -75867.59901128, -61891.50360385,  39438.13939809,\n",
       "       208326.28347923, 112645.7494379 ,  22286.70565312])"
      ]
     },
     "execution_count": 26,
     "metadata": {},
     "output_type": "execute_result"
    }
   ],
   "source": [
    "rotcg1"
   ]
  },
  {
   "cell_type": "code",
   "execution_count": 27,
   "metadata": {},
   "outputs": [
    {
     "data": {
      "text/plain": [
       "array([-31688.90500193, -75867.59901128, -61891.50360385,  39438.1393981 ,\n",
       "       208326.28347923, 112645.7494379 ,  22286.70565312])"
      ]
     },
     "execution_count": 27,
     "metadata": {},
     "output_type": "execute_result"
    }
   ],
   "source": [
    "c2r(np.conjugate(mwd)@r2c(cg1))"
   ]
  },
  {
   "cell_type": "markdown",
   "metadata": {},
   "source": [
    "## Direct real transformations"
   ]
  },
  {
   "cell_type": "markdown",
   "metadata": {},
   "source": [
    "There's no \"real\" reason to go through the complex algebra for rotations - we can transform once and for all the coefficients and be done with that!"
   ]
  },
  {
   "cell_type": "code",
   "execution_count": 28,
   "metadata": {},
   "outputs": [],
   "source": [
    "# matrix version of the real-2-complex and complex-2-real transformations\n",
    "r2c_mat = np.hstack([r2c(np.eye(2*mL+1)[i])[:,np.newaxis] for i in range(2*mL+1)])\n",
    "c2r_mat = np.conjugate(r2c_mat.T)"
   ]
  },
  {
   "cell_type": "code",
   "execution_count": 29,
   "metadata": {},
   "outputs": [
    {
     "data": {
      "text/plain": [
       "array([0.+0.j, 0.+0.j, 0.+0.j, 0.+0.j, 0.+0.j, 0.+0.j, 0.+0.j])"
      ]
     },
     "execution_count": 29,
     "metadata": {},
     "output_type": "execute_result"
    }
   ],
   "source": [
    "# we can use this to transform features\n",
    "r2c_mat@cg1 - r2c(cg1)"
   ]
  },
  {
   "cell_type": "code",
   "execution_count": 30,
   "metadata": {},
   "outputs": [],
   "source": [
    "# and Wigner D matrix as well\n",
    "real_mwd = np.real(c2r_mat @ np.conjugate(mwd) @ r2c_mat)"
   ]
  },
  {
   "cell_type": "markdown",
   "metadata": {},
   "source": [
    "The direct real rotation is equal (modulo noise) to going back and forth from complex sph"
   ]
  },
  {
   "cell_type": "code",
   "execution_count": 31,
   "metadata": {},
   "outputs": [
    {
     "data": {
      "text/plain": [
       "array([-5.45696821e-11, -1.74622983e-10, -1.89174898e-10,  4.14729584e-10,\n",
       "        5.23868948e-10,  2.03726813e-10,  2.54658516e-11])"
      ]
     },
     "execution_count": 31,
     "metadata": {},
     "output_type": "execute_result"
    }
   ],
   "source": [
    "real_mwd @ cg1 - rotcg1"
   ]
  },
  {
   "cell_type": "markdown",
   "metadata": {},
   "source": [
    "this also applies to the CG iteration!"
   ]
  },
  {
   "cell_type": "code",
   "execution_count": 32,
   "metadata": {},
   "outputs": [],
   "source": [
    "r2c_mat_l1 = np.hstack([r2c(np.eye(2*ml1+1)[i])[:,np.newaxis] for i in range(2*ml1+1)])\n",
    "r2c_mat_l2 = np.hstack([r2c(np.eye(2*ml2+1)[i])[:,np.newaxis] for i in range(2*ml2+1)])\n",
    "r2c_mat_L = np.hstack([r2c(np.eye(2*mL+1)[i])[:,np.newaxis] for i in range(2*mL+1)])"
   ]
  },
  {
   "cell_type": "code",
   "execution_count": 33,
   "metadata": {},
   "outputs": [],
   "source": [
    "real_mcg = np.real(np.einsum(\"abc, ax, by, zc -> xyz\", mcg, r2c_mat_l1, r2c_mat_l2, np.conjugate(r2c_mat_L.T)))"
   ]
  },
  {
   "cell_type": "code",
   "execution_count": 34,
   "metadata": {},
   "outputs": [],
   "source": [
    "real_cg1 = np.einsum(\"abc,a,b->c\",real_mcg,\n",
    "                    rfeats[0,0,0,lm_slice(ml1)],\n",
    "                    rfeats[0,0,0,lm_slice(ml2)])"
   ]
  },
  {
   "cell_type": "code",
   "execution_count": 35,
   "metadata": {},
   "outputs": [
    {
     "data": {
      "text/plain": [
       "array([ 3.63797881e-12,  4.54747351e-13, -2.72848411e-12,  0.00000000e+00,\n",
       "       -5.82076609e-11,  3.63797881e-12,  5.82076609e-11])"
      ]
     },
     "execution_count": 35,
     "metadata": {},
     "output_type": "execute_result"
    }
   ],
   "source": [
    "real_cg1 - cg1"
   ]
  },
  {
   "cell_type": "markdown",
   "metadata": {},
   "source": [
    "# Streamlined real-only CG iter (and transformation)"
   ]
  },
  {
   "cell_type": "markdown",
   "metadata": {},
   "source": [
    "Uses the utility classes defined in rascal.utils to do all of the above (and more!)\n",
    "WignerDReal is a Wigner D matrix implementation to rotate Y^m_l - like coefficients\n",
    "ClebschGordanReal precomputes Clebsch-Gordan operations using real-only storage of the spherical expansion coefficients"
   ]
  },
  {
   "cell_type": "code",
   "execution_count": 36,
   "metadata": {},
   "outputs": [],
   "source": [
    "WD   = WignerDReal(spherical_expansion_hypers[\"max_angular\"], *abc)\n",
    "CGIR = ClebschGordanReal(spherical_expansion_hypers[\"max_angular\"])"
   ]
  },
  {
   "cell_type": "code",
   "execution_count": 37,
   "metadata": {},
   "outputs": [],
   "source": [
    "scale = 1\n",
    "test_feats = [ rfeats[0,0,0,l**2:(l+1)**2] *scale  for l in range(0,5) ]\n",
    "test_feats_rot = [ rfeats_rot[0,0,0,l**2:(l+1)**2]*scale  for l in range(0,5) ]"
   ]
  },
  {
   "cell_type": "code",
   "execution_count": 38,
   "metadata": {},
   "outputs": [],
   "source": [
    "t1 = CGIR.combine(test_feats[3], test_feats[4], 3)\n",
    "t1_r = CGIR.combine(test_feats_rot[3], test_feats_rot[4], 3)"
   ]
  },
  {
   "cell_type": "code",
   "execution_count": 39,
   "metadata": {},
   "outputs": [
    {
     "data": {
      "text/plain": [
       "array([ 18281.34900888,    999.41629989,  -4430.72718297,  -5687.44611687,\n",
       "       -65424.57645254,   7093.39913746,  81940.0786862 ])"
      ]
     },
     "execution_count": 39,
     "metadata": {},
     "output_type": "execute_result"
    }
   ],
   "source": [
    "t1"
   ]
  },
  {
   "cell_type": "code",
   "execution_count": 40,
   "metadata": {},
   "outputs": [
    {
     "data": {
      "text/plain": [
       "array([ 12008.54023124,  28309.94429868,  23027.09351422, -11780.34416301,\n",
       "       -84486.23061345, -50220.97843956, -12541.99282247])"
      ]
     },
     "execution_count": 40,
     "metadata": {},
     "output_type": "execute_result"
    }
   ],
   "source": [
    "WD.rotate(t1)"
   ]
  },
  {
   "cell_type": "code",
   "execution_count": 41,
   "metadata": {},
   "outputs": [
    {
     "data": {
      "text/plain": [
       "array([ 12008.54023124,  28309.94429868,  23027.09351422, -11780.34416301,\n",
       "       -84486.23061345, -50220.97843956, -12541.99282247])"
      ]
     },
     "execution_count": 41,
     "metadata": {},
     "output_type": "execute_result"
    }
   ],
   "source": [
    "t1_r"
   ]
  },
  {
   "cell_type": "code",
   "execution_count": 42,
   "metadata": {},
   "outputs": [],
   "source": [
    "t2 = CGIR.combine(t1, test_feats[3], 2)\n",
    "t2_r = CGIR.combine(t1_r, test_feats_rot[3], 2)"
   ]
  },
  {
   "cell_type": "code",
   "execution_count": 43,
   "metadata": {},
   "outputs": [
    {
     "data": {
      "text/plain": [
       "array([-4146185.99559896, -6236572.66312225, 13607687.78067045,\n",
       "       21321956.62734299,  6638083.96454762])"
      ]
     },
     "execution_count": 43,
     "metadata": {},
     "output_type": "execute_result"
    }
   ],
   "source": [
    "WD.rotate(t2)"
   ]
  },
  {
   "cell_type": "code",
   "execution_count": 44,
   "metadata": {},
   "outputs": [
    {
     "data": {
      "text/plain": [
       "array([-4146185.99559896, -6236572.66312223, 13607687.7806704 ,\n",
       "       21321956.62734293,  6638083.96454761])"
      ]
     },
     "execution_count": 44,
     "metadata": {},
     "output_type": "execute_result"
    }
   ],
   "source": [
    "t2_r"
   ]
  },
  {
   "cell_type": "code",
   "execution_count": 45,
   "metadata": {},
   "outputs": [],
   "source": [
    "t3 = CGIR.combine(t2, test_feats[3], 1)\n",
    "t3_r = CGIR.combine(t2_r, test_feats_rot[3], 1)"
   ]
  },
  {
   "cell_type": "code",
   "execution_count": 46,
   "metadata": {},
   "outputs": [
    {
     "data": {
      "text/plain": [
       "array([ 1.45634104e+09, -6.69879061e+09, -4.25175719e+09])"
      ]
     },
     "execution_count": 46,
     "metadata": {},
     "output_type": "execute_result"
    }
   ],
   "source": [
    "WD.rotate(t3)"
   ]
  },
  {
   "cell_type": "code",
   "execution_count": 47,
   "metadata": {},
   "outputs": [
    {
     "data": {
      "text/plain": [
       "array([ 1.45634104e+09, -6.69879061e+09, -4.25175719e+09])"
      ]
     },
     "execution_count": 47,
     "metadata": {},
     "output_type": "execute_result"
    }
   ],
   "source": [
    "t3_r"
   ]
  },
  {
   "cell_type": "code",
   "execution_count": 48,
   "metadata": {},
   "outputs": [],
   "source": [
    "t4 = CGIR.combine(t3, t2, 3)\n",
    "t4_r = CGIR.combine(t3_r, t2_r, 3)"
   ]
  },
  {
   "cell_type": "code",
   "execution_count": 49,
   "metadata": {},
   "outputs": [
    {
     "data": {
      "text/plain": [
       "array([ 1.93011091e+16,  4.92727261e+16,  4.15900931e+16, -2.60040488e+16,\n",
       "       -1.34645650e+17, -7.27694244e+16, -1.56873481e+16])"
      ]
     },
     "execution_count": 49,
     "metadata": {},
     "output_type": "execute_result"
    }
   ],
   "source": [
    "WD.rotate(t4)"
   ]
  },
  {
   "cell_type": "code",
   "execution_count": 50,
   "metadata": {},
   "outputs": [
    {
     "data": {
      "text/plain": [
       "array([ 1.93011091e+16,  4.92727261e+16,  4.15900931e+16, -2.60040488e+16,\n",
       "       -1.34645650e+17, -7.27694244e+16, -1.56873481e+16])"
      ]
     },
     "execution_count": 50,
     "metadata": {},
     "output_type": "execute_result"
    }
   ],
   "source": [
    "t4_r"
   ]
  },
  {
   "cell_type": "markdown",
   "metadata": {},
   "source": [
    "# Bulk calculation of features"
   ]
  },
  {
   "cell_type": "markdown",
   "metadata": {},
   "source": [
    "the combination can also be done in bulk! This does it combining elementwise (basically computing the diagonal squares of the features)"
   ]
  },
  {
   "cell_type": "code",
   "execution_count": 51,
   "metadata": {},
   "outputs": [],
   "source": [
    "t1_bulk = CGIR.combine(rfeats[:,:,:,lm_slice(3)], rfeats[:,:,:,lm_slice(2)], 3)"
   ]
  },
  {
   "cell_type": "code",
   "execution_count": 52,
   "metadata": {},
   "outputs": [
    {
     "data": {
      "text/plain": [
       "(10, 3, 8, 7)"
      ]
     },
     "execution_count": 52,
     "metadata": {},
     "output_type": "execute_result"
    }
   ],
   "source": [
    "t1_bulk.shape"
   ]
  },
  {
   "cell_type": "markdown",
   "metadata": {},
   "source": [
    "## Manually compute SOAP and check they match librascal's"
   ]
  },
  {
   "cell_type": "code",
   "execution_count": 53,
   "metadata": {},
   "outputs": [],
   "source": [
    "soap_hypers = deepcopy(spherical_expansion_hypers)\n",
    "\n",
    "soap_hypers[\"soap_type\"] = \"PowerSpectrum\"\n",
    "soap_hypers[\"normalize\"] = False\n",
    "\n",
    "soap = SphericalInvariants(**soap_hypers)\n",
    "soap_feats = soap.transform(selframe).get_features(soap)*1e12  # scale"
   ]
  },
  {
   "cell_type": "code",
   "execution_count": 54,
   "metadata": {},
   "outputs": [],
   "source": [
    "nel = len(set(selframe.symbols))\n",
    "elidx = np.triu_indices(nel)\n",
    "tsoap = np.moveaxis(np.asarray([\n",
    " CGIR.combine_einsum(rfeats[:,:,:,lm_slice(l)], rfeats[:,:,:,lm_slice(l)], 0, \n",
    "                     \"ian,iAN->ianAN\")\n",
    " for l in range(soap_hypers[\"max_angular\"]+1)  \n",
    "]),(1,2,4,3,5,0,6),(0,1,2,3,4,5,6))[:,elidx[0],elidx[1],...].reshape((len(selframe), -1))"
   ]
  },
  {
   "cell_type": "code",
   "execution_count": 55,
   "metadata": {},
   "outputs": [
    {
     "data": {
      "text/plain": [
       "(10, 2688)"
      ]
     },
     "execution_count": 55,
     "metadata": {},
     "output_type": "execute_result"
    }
   ],
   "source": [
    "tsoap.shape"
   ]
  },
  {
   "cell_type": "code",
   "execution_count": 56,
   "metadata": {},
   "outputs": [
    {
     "data": {
      "text/plain": [
       "array([ 5.14297164e+05,  5.02747640e+05,  3.37580007e+05,  1.29372511e+05,\n",
       "        6.19621600e+04,  1.49085546e+04,  6.20592789e+03,  9.65090901e+05,\n",
       "        1.07108648e+06,  6.37862770e+05,  2.55285918e+05,  7.15559213e+04,\n",
       "        1.24025282e+04, -2.10003182e+03,  3.30111098e+06,  3.77011554e+06,\n",
       "        2.91060831e+06,  1.40933352e+06,  7.17054445e+05,  2.15820164e+05])"
      ]
     },
     "execution_count": 56,
     "metadata": {},
     "output_type": "execute_result"
    }
   ],
   "source": [
    "soap_feats[0,:20]"
   ]
  },
  {
   "cell_type": "code",
   "execution_count": 57,
   "metadata": {},
   "outputs": [
    {
     "data": {
      "text/plain": [
       "array([ 5.14297164e+05, -5.02747640e+05,  3.37580007e+05, -1.29372511e+05,\n",
       "        6.19621600e+04, -1.49085546e+04,  6.20592789e+03,  9.65090901e+05,\n",
       "       -1.07108648e+06,  6.37862770e+05, -2.55285918e+05,  7.15559213e+04,\n",
       "       -1.24025282e+04, -2.10003182e+03,  3.30111098e+06, -3.77011554e+06,\n",
       "        2.91060831e+06, -1.40933352e+06,  7.17054445e+05, -2.15820164e+05])"
      ]
     },
     "execution_count": 57,
     "metadata": {},
     "output_type": "execute_result"
    }
   ],
   "source": [
    "tsoap[0,:20]"
   ]
  },
  {
   "cell_type": "code",
   "execution_count": 58,
   "metadata": {},
   "outputs": [],
   "source": [
    "r2c_mats = {}\n",
    "c2r_mats = {}\n",
    "for L in range(0, soap_hypers[\"max_angular\"]+1 + 1):\n",
    "    r2c_mats[L] = real2complex_matrix(L)\n",
    "    c2r_mats[L] = np.conjugate(r2c_mats[L]).T"
   ]
  },
  {
   "cell_type": "code",
   "execution_count": 59,
   "metadata": {},
   "outputs": [],
   "source": [
    "soap_manual_full =  np.moveaxis(np.asarray([\n",
    "    np.real(np.einsum(\"ianm,iANm->ianAN\",\n",
    "              rfeats[...,lm_slice(l)]@r2c_mats[l], \n",
    "              np.conjugate(rfeats[...,lm_slice(l)]@r2c_mats[l])\n",
    "             ))/np.sqrt(2*l+1)\n",
    "    for l in range(soap_hypers[\"max_angular\"]+1)]),\n",
    "    (1,2,4,3,5,0),(0,1,2,3,4,5))"
   ]
  },
  {
   "cell_type": "code",
   "execution_count": 60,
   "metadata": {},
   "outputs": [],
   "source": [
    "soap_manual_complex_2013 =  np.moveaxis(np.asarray([\n",
    "    np.real(np.einsum(\"ianm,iANm->ianAN\",\n",
    "              rfeats[...,lm_slice(l)]@r2c_mats[l].T, \n",
    "              np.conjugate(rfeats[...,lm_slice(l)]@r2c_mats[l])\n",
    "             ))/np.sqrt(2*l+1)\n",
    "    for l in range(soap_hypers[\"max_angular\"]+1)]),\n",
    "    (1,2,4,3,5,0),(0,1,2,3,4,5))[:,elidx[0],elidx[1],...].reshape((len(selframe), -1))    "
   ]
  },
  {
   "cell_type": "code",
   "execution_count": 61,
   "metadata": {},
   "outputs": [
    {
     "data": {
      "text/plain": [
       "338.7864874642926"
      ]
     },
     "execution_count": 61,
     "metadata": {},
     "output_type": "execute_result"
    }
   ],
   "source": [
    "rfeats[0,0,0,lm_slice(1)].mean()"
   ]
  },
  {
   "cell_type": "markdown",
   "metadata": {},
   "source": [
    "## $\\lambda$-SOAP"
   ]
  },
  {
   "cell_type": "markdown",
   "metadata": {},
   "source": [
    "#### Tests on SPH"
   ]
  },
  {
   "cell_type": "markdown",
   "metadata": {},
   "source": [
    "It's important to know how the r2c, c2r should be used with $Y_l^m$ and $Y_l^{m*}$ to go from complex to real and vice versa. \n",
    "\n",
    "From the following, since $\\langle{a nl -m}|\\rho_i\\rangle{} \\propto Y_l^{m}$, we use forward multiplication with c2r_mats[l] to go from complex to real "
   ]
  },
  {
   "cell_type": "code",
   "execution_count": 62,
   "metadata": {},
   "outputs": [],
   "source": [
    "import scipy\n",
    "def sph(l, theta, phi):\n",
    "    ylm=np.zeros((2*l+1), complex)\n",
    "    for m in range(-l, l+1):\n",
    "        ylm[m+l] = scipy.special.sph_harm(m,l,phi,theta)\n",
    "    return ylm"
   ]
  },
  {
   "cell_type": "code",
   "execution_count": 63,
   "metadata": {},
   "outputs": [],
   "source": [
    "lam=1"
   ]
  },
  {
   "cell_type": "code",
   "execution_count": 64,
   "metadata": {},
   "outputs": [],
   "source": [
    "ylm= sph(lam, np.pi/4, np.pi/3)\n",
    "ylm_conj = np.conjugate(ylm)"
   ]
  },
  {
   "cell_type": "code",
   "execution_count": 65,
   "metadata": {},
   "outputs": [
    {
     "data": {
      "text/plain": [
       "array([ 0.12215063-0.21157109j,  0.34549415+0.j        ,\n",
       "       -0.12215063-0.21157109j])"
      ]
     },
     "execution_count": 65,
     "metadata": {},
     "output_type": "execute_result"
    }
   ],
   "source": [
    "ylm"
   ]
  },
  {
   "cell_type": "code",
   "execution_count": 66,
   "metadata": {},
   "outputs": [
    {
     "data": {
      "text/plain": [
       "array([ 0.12215063-0.21157109j,  0.34549415+0.j        ,\n",
       "       -0.12215063-0.21157109j])"
      ]
     },
     "execution_count": 66,
     "metadata": {},
     "output_type": "execute_result"
    }
   ],
   "source": [
    "r2c_mats[lam]@(c2r_mats[lam]@ylm) #== ylm"
   ]
  },
  {
   "cell_type": "code",
   "execution_count": 67,
   "metadata": {
    "scrolled": true
   },
   "outputs": [
    {
     "data": {
      "text/plain": [
       "array([ 0.12215063+0.21157109j,  0.34549415+0.j        ,\n",
       "       -0.12215063+0.21157109j])"
      ]
     },
     "execution_count": 67,
     "metadata": {},
     "output_type": "execute_result"
    }
   ],
   "source": [
    "(ylm_conj@r2c_mats[lam])@c2r_mats[lam] #== ylm_conj"
   ]
  },
  {
   "cell_type": "code",
   "execution_count": 68,
   "metadata": {
    "scrolled": true
   },
   "outputs": [],
   "source": [
    "def combine_SPH(yl1,yl2, lam, mycg):\n",
    "    cl = np.zeros((2*lam+1), dtype = complex )\n",
    "    if (l1,l2,lam) in mycg._cgraw:\n",
    "        cg = mycg._cgraw[(l1,l2,lam)]   \n",
    "        cl = np.einsum(\"m,p,mpM->M\",yl1, yl2, cg)\n",
    "    return cl"
   ]
  },
  {
   "cell_type": "code",
   "execution_count": 69,
   "metadata": {},
   "outputs": [
    {
     "data": {
      "text/plain": [
       "array([0.01480892+0.00000000e+00j, 0.01447991+3.77027992e-18j,\n",
       "       0.12909782+1.73472348e-17j, 0.20347965-3.74376998e-18j,\n",
       "       0.0800665 -8.67361738e-19j])"
      ]
     },
     "execution_count": 69,
     "metadata": {},
     "output_type": "execute_result"
    }
   ],
   "source": [
    "l1=2\n",
    "l2=4\n",
    "lam=2\n",
    "yl1= sph(l1, np.pi/4, np.pi/3)\n",
    "yl2= sph(l2, np.pi/5, np.pi/6)\n",
    "combine_SPH(yl1,yl2, lam, CGIR)@c2r_mats[lam].T #combination of SPH"
   ]
  },
  {
   "cell_type": "code",
   "execution_count": 70,
   "metadata": {},
   "outputs": [
    {
     "data": {
      "text/plain": [
       "array([0.01480892+0.00000000e+00j, 0.01447991-3.77027992e-18j,\n",
       "       0.12909782-1.73472348e-17j, 0.20347965+3.74376998e-18j,\n",
       "       0.0800665 +8.67361738e-19j])"
      ]
     },
     "execution_count": 70,
     "metadata": {},
     "output_type": "execute_result"
    }
   ],
   "source": [
    "combine_SPH(yl1.conj(),yl2.conj(), lam, CGIR)@r2c_mats[lam] #combination of SPH conjugates(should be conjugate of above)"
   ]
  },
  {
   "cell_type": "markdown",
   "metadata": {},
   "source": [
    "this instead uses a more general core iteration based on einsum. This below is basically lambda-SOAP"
   ]
  },
  {
   "cell_type": "markdown",
   "metadata": {},
   "source": [
    "Want $\\lambda$-SOAP? You've got it! This computes the full set of features (many will be zeros but oh well) using CG iteration. Input spherical harmonics should be already \"unrolled\" into a n_env, n_el, n_max, (lmax+1)^2 form.\n",
    "Result is also returned fully unrolled, the first index being the environment, and the last the lambda-SOAP mu index.\n",
    "\n",
    "*Note this may differ from existing definitions because of the scaling of coefficients*"
   ]
  },
  {
   "cell_type": "code",
   "execution_count": 71,
   "metadata": {},
   "outputs": [],
   "source": [
    "cc = rfeats[...,lm_slice(3)]@r2c_mats[3].T"
   ]
  },
  {
   "cell_type": "code",
   "execution_count": 72,
   "metadata": {},
   "outputs": [
    {
     "data": {
      "text/plain": [
       "array([-131.58630556 -18.17952726j,   -3.73066751  +3.21706873j,\n",
       "        -62.58577776-112.6311509j ,   -5.08103771  +0.j        ,\n",
       "         62.58577776-112.6311509j ,   -3.73066751  -3.21706873j,\n",
       "        131.58630556 -18.17952726j])"
      ]
     },
     "execution_count": 72,
     "metadata": {},
     "output_type": "execute_result"
    }
   ],
   "source": [
    "cc[0,1,1,]"
   ]
  },
  {
   "cell_type": "code",
   "execution_count": 73,
   "metadata": {},
   "outputs": [
    {
     "data": {
      "text/plain": [
       "array([-131.58630556 -18.17952726j,   -3.73066751  +3.21706873j,\n",
       "        -62.58577776-112.6311509j ,   -5.08103771  +0.j        ,\n",
       "         62.58577776-112.6311509j ,   -3.73066751  -3.21706873j,\n",
       "        131.58630556 -18.17952726j])"
      ]
     },
     "execution_count": 73,
     "metadata": {},
     "output_type": "execute_result"
    }
   ],
   "source": [
    "rfeats[0,1,1,lm_slice(3)]@r2c_mats[3].T"
   ]
  },
  {
   "cell_type": "code",
   "execution_count": 74,
   "metadata": {},
   "outputs": [
    {
     "data": {
      "text/plain": [
       "array([-131.58630556 -18.17952726j,   -3.73066751  +3.21706873j,\n",
       "        -62.58577776-112.6311509j ,   -5.08103771  +0.j        ,\n",
       "         62.58577776-112.6311509j ,   -3.73066751  -3.21706873j,\n",
       "        131.58630556 -18.17952726j])"
      ]
     },
     "execution_count": 74,
     "metadata": {},
     "output_type": "execute_result"
    }
   ],
   "source": [
    "r2c(rfeats[0,1,1,lm_slice(3)])"
   ]
  },
  {
   "cell_type": "code",
   "execution_count": 75,
   "metadata": {},
   "outputs": [],
   "source": [
    "def lambda_soap_manual(spx, lam, mycg):\n",
    "    lmax = int(np.sqrt(spx.shape[-1]))-1\n",
    "    nid, nel, nmax = spx.shape[:-1]\n",
    "    lsoap = np.zeros((nid, nel, nmax, lmax+1, nel, nmax, lmax+1, 2*lam+1), dtype = complex )\n",
    "    for l1 in range(lmax+1):\n",
    "        cspx1 = spx[..., lm_slice(l1)]@r2c_mats[l1].T\n",
    "        for l2 in range(lmax+1):            \n",
    "            if (l1,l2,lam) in mycg._cgraw:\n",
    "                cg = mycg._cgraw[(l1,l2,lam)]   \n",
    "                #cspx2 = np.conjugate(spx[..., lm_slice(l2)]@r2c_mats[l2])                \n",
    "                cspx2 = spx[..., lm_slice(l2)]@r2c_mats[l2].T\n",
    "                lsoap[:,:,:,l1,:,:,l2] += np.einsum(\"ianm,iANp,mpM->ianANM\",\n",
    "                                                   cspx1, cspx2, cg)@c2r_mats[lam].T\n",
    "    return lsoap"
   ]
  },
  {
   "cell_type": "code",
   "execution_count": 76,
   "metadata": {},
   "outputs": [],
   "source": [
    "def lambda_soap_indirect(spx, lam, mycg):\n",
    "    lmax = int(np.sqrt(spx.shape[-1]))-1\n",
    "    nid, nel, nmax = spx.shape[:-1]\n",
    "    lsoap = np.zeros((nid, nel, nmax, lmax+1, nel, nmax, lmax+1, 2*lam+1), dtype = complex )\n",
    "    for l1 in range(lmax+1):\n",
    "        cspx1 = spx[..., lm_slice(l1)]\n",
    "        for l2 in range(lmax+1):            \n",
    "            if (l1,l2,lam) in mycg._cgraw:\n",
    "                cg = np.einsum(\"abc, ax, by, zc -> xyz\", mycg._cgraw[(l1,l2,lam)],\n",
    "                               r2c_mats[l1],r2c_mats[l2], c2r_mats[lam] )\n",
    "                #cspx2 = np.conjugate(spx[..., lm_slice(l2)]@r2c_mats[l2])                \n",
    "                cspx2 = spx[..., lm_slice(l2)]\n",
    "                lsoap[:,:,:,l1,:,:,l2] += np.einsum(\"ianm,iANp,mpM->ianANM\",\n",
    "                                                   cspx1, cspx2, cg)\n",
    "    return lsoap"
   ]
  },
  {
   "cell_type": "code",
   "execution_count": 77,
   "metadata": {},
   "outputs": [],
   "source": [
    "def lambda_soap(spx, lam, cg):\n",
    "    lmax = int(np.sqrt(spx.shape[-1]))-1\n",
    "    nid, nel, nmax = spx.shape[:-1]\n",
    "    lsoap = np.zeros((nid, nel, nmax, lmax+1, nel, nmax, lmax+1, 2*lam+1))\n",
    "    for l1 in range(lmax+1):\n",
    "        for l2 in range(lmax+1):            \n",
    "            lsoap[:,:,:,l1,:,:,l2] = cg.combine_einsum(spx[..., lm_slice(l1)],\n",
    "                                        spx[..., lm_slice(l2)], \n",
    "                                        lam, combination_string=\"ian,iAN->ianAN\")\n",
    "    return lsoap"
   ]
  },
  {
   "cell_type": "code",
   "execution_count": 78,
   "metadata": {},
   "outputs": [],
   "source": [
    "lam=0"
   ]
  },
  {
   "cell_type": "code",
   "execution_count": 79,
   "metadata": {},
   "outputs": [],
   "source": [
    "ss = lambda_soap_manual(rfeats, lam, CGIR)\n",
    "s2 = lambda_soap_indirect(rfeats, lam, CGIR)"
   ]
  },
  {
   "cell_type": "code",
   "execution_count": 80,
   "metadata": {},
   "outputs": [],
   "source": [
    "lsoap = lambda_soap(rfeats, lam, CGIR)"
   ]
  },
  {
   "cell_type": "code",
   "execution_count": 81,
   "metadata": {},
   "outputs": [],
   "source": [
    "l1=1\n",
    "l2=1\n",
    "a1=0\n",
    "n1=1\n",
    "a2=0\n",
    "n2=0\n",
    "atom_idx=0"
   ]
  },
  {
   "cell_type": "code",
   "execution_count": 82,
   "metadata": {},
   "outputs": [
    {
     "data": {
      "text/plain": [
       "array([-1071086.47615587+0.j])"
      ]
     },
     "execution_count": 82,
     "metadata": {},
     "output_type": "execute_result"
    }
   ],
   "source": [
    "ss[atom_idx,a1,n1,l1,a2,n2,l2]"
   ]
  },
  {
   "cell_type": "code",
   "execution_count": 83,
   "metadata": {},
   "outputs": [
    {
     "data": {
      "text/plain": [
       "array([-1071086.47615587+0.j])"
      ]
     },
     "execution_count": 83,
     "metadata": {},
     "output_type": "execute_result"
    }
   ],
   "source": [
    "s2[atom_idx,a1,n1,l1,a2,n2,l2]"
   ]
  },
  {
   "cell_type": "code",
   "execution_count": 84,
   "metadata": {},
   "outputs": [
    {
     "data": {
      "text/plain": [
       "array([-1071086.47615587])"
      ]
     },
     "execution_count": 84,
     "metadata": {},
     "output_type": "execute_result"
    }
   ],
   "source": [
    "lsoap[atom_idx,a1,n1,l1,a2,n2,l2]"
   ]
  },
  {
   "cell_type": "code",
   "execution_count": 85,
   "metadata": {},
   "outputs": [
    {
     "data": {
      "text/plain": [
       "(10, 3, 8, 7, 3, 8, 7, 1)"
      ]
     },
     "execution_count": 85,
     "metadata": {},
     "output_type": "execute_result"
    }
   ],
   "source": [
    "ss.shape"
   ]
  },
  {
   "cell_type": "code",
   "execution_count": 86,
   "metadata": {},
   "outputs": [
    {
     "data": {
      "text/plain": [
       "(10, 3, 8, 7, 3, 8, 7, 1)"
      ]
     },
     "execution_count": 86,
     "metadata": {},
     "output_type": "execute_result"
    }
   ],
   "source": [
    "lsoap.shape"
   ]
  },
  {
   "cell_type": "code",
   "execution_count": 87,
   "metadata": {},
   "outputs": [
    {
     "data": {
      "text/plain": [
       "array([-111637.22357172])"
      ]
     },
     "execution_count": 87,
     "metadata": {},
     "output_type": "execute_result"
    }
   ],
   "source": [
    "lsoap[0,0,1,1,1,1,1]"
   ]
  },
  {
   "cell_type": "code",
   "execution_count": 88,
   "metadata": {},
   "outputs": [
    {
     "data": {
      "text/plain": [
       "array([-111637.22357172+0.j])"
      ]
     },
     "execution_count": 88,
     "metadata": {},
     "output_type": "execute_result"
    }
   ],
   "source": [
    "ss[0,0,1,1,1,1,1]"
   ]
  },
  {
   "cell_type": "code",
   "execution_count": 89,
   "metadata": {},
   "outputs": [
    {
     "data": {
      "text/plain": [
       "array([-111637.22357172+0.j])"
      ]
     },
     "execution_count": 89,
     "metadata": {},
     "output_type": "execute_result"
    }
   ],
   "source": [
    "s2[0,0,1,1,1,1,1]"
   ]
  },
  {
   "cell_type": "code",
   "execution_count": 90,
   "metadata": {},
   "outputs": [
    {
     "data": {
      "text/plain": [
       "111637.22357172177"
      ]
     },
     "execution_count": 90,
     "metadata": {},
     "output_type": "execute_result"
    }
   ],
   "source": [
    "soap_manual_full[0,0,1,1,1,1]"
   ]
  },
  {
   "cell_type": "markdown",
   "metadata": {},
   "source": [
    "### Check that we can recover invariant SOAP from $\\lambda$ SOAP"
   ]
  },
  {
   "cell_type": "code",
   "execution_count": 91,
   "metadata": {},
   "outputs": [],
   "source": [
    "inv=np.zeros((10, 3, 8, 3, 8,7), complex)\n",
    "nel = len(set(selframe.symbols))\n",
    "elidx = np.triu_indices(nel)\n",
    "for l in range(7):\n",
    "    inv[:,:,:,:,:,l] = ss[:,:,:,l,:,:,l,0] \n",
    "inv=np.moveaxis(inv, (0,1,2,3,4,5),(0,1,4,2,3,5))[:,elidx[0],elidx[1],...].reshape((len(selframe), -1))"
   ]
  },
  {
   "cell_type": "code",
   "execution_count": 92,
   "metadata": {},
   "outputs": [
    {
     "data": {
      "text/plain": [
       "array([ 5.14297164e+05+0.00000000e+00j, -5.02747640e+05+0.00000000e+00j,\n",
       "        3.37580007e+05+0.00000000e+00j, -1.29372511e+05+0.00000000e+00j,\n",
       "        6.19621600e+04+0.00000000e+00j, -1.49085546e+04+0.00000000e+00j,\n",
       "        6.20592789e+03+0.00000000e+00j,  9.65090901e+05+0.00000000e+00j,\n",
       "       -1.07108648e+06+0.00000000e+00j,  6.37862770e+05+0.00000000e+00j,\n",
       "       -2.55285918e+05+0.00000000e+00j,  7.15559213e+04+0.00000000e+00j,\n",
       "       -1.24025282e+04+0.00000000e+00j, -2.10003182e+03+0.00000000e+00j,\n",
       "        3.30111098e+06+0.00000000e+00j, -3.77011554e+06+0.00000000e+00j,\n",
       "        2.91060831e+06+0.00000000e+00j, -1.40933352e+06+3.63797881e-12j,\n",
       "        7.17054445e+05+0.00000000e+00j, -2.15820164e+05+0.00000000e+00j])"
      ]
     },
     "execution_count": 92,
     "metadata": {},
     "output_type": "execute_result"
    }
   ],
   "source": [
    "inv[0, :20]"
   ]
  },
  {
   "cell_type": "code",
   "execution_count": 93,
   "metadata": {
    "scrolled": true
   },
   "outputs": [
    {
     "data": {
      "text/plain": [
       "array([ 5.14297164e+05, -5.02747640e+05,  3.37580007e+05, -1.29372511e+05,\n",
       "        6.19621600e+04, -1.49085546e+04,  6.20592789e+03,  9.65090901e+05,\n",
       "       -1.07108648e+06,  6.37862770e+05, -2.55285918e+05,  7.15559213e+04,\n",
       "       -1.24025282e+04, -2.10003182e+03,  3.30111098e+06, -3.77011554e+06,\n",
       "        2.91060831e+06, -1.40933352e+06,  7.17054445e+05, -2.15820164e+05])"
      ]
     },
     "execution_count": 93,
     "metadata": {},
     "output_type": "execute_result"
    }
   ],
   "source": [
    "tsoap[0,:20]"
   ]
  },
  {
   "cell_type": "markdown",
   "metadata": {},
   "source": [
    "### sum rules"
   ]
  },
  {
   "cell_type": "code",
   "execution_count": 94,
   "metadata": {},
   "outputs": [],
   "source": [
    "lsoap = {L:lambda_soap(rfeats, L, CGIR) for L in range(6)}"
   ]
  },
  {
   "cell_type": "code",
   "execution_count": 95,
   "metadata": {},
   "outputs": [
    {
     "data": {
      "text/plain": [
       "(10, 3, 8, 49)"
      ]
     },
     "execution_count": 95,
     "metadata": {},
     "output_type": "execute_result"
    }
   ],
   "source": [
    "rfeats.shape"
   ]
  },
  {
   "cell_type": "code",
   "execution_count": 96,
   "metadata": {},
   "outputs": [
    {
     "name": "stdout",
     "output_type": "stream",
     "text": [
      "6368238661915.708\n"
     ]
    }
   ],
   "source": [
    "normrho = np.sum(rfeats[0,1,2,lm_slice(2)]**2)\n",
    "print(normrho**2)"
   ]
  },
  {
   "cell_type": "markdown",
   "metadata": {},
   "source": [
    "WIP"
   ]
  },
  {
   "cell_type": "code",
   "execution_count": 97,
   "metadata": {},
   "outputs": [
    {
     "name": "stdout",
     "output_type": "stream",
     "text": [
      "6368238661915.705\n",
      "-0.0029296875\n"
     ]
    }
   ],
   "source": [
    "normlsoap = np.sum([\n",
    "    (lsoap[L][0,1,2,2,1,2,2]**2).sum()\n",
    "    for L in range(6)\n",
    "] )\n",
    "print(normlsoap)\n",
    "print(normlsoap - normrho**2)"
   ]
  },
  {
   "cell_type": "code",
   "execution_count": 98,
   "metadata": {},
   "outputs": [
    {
     "data": {
      "text/plain": [
       "(10, 3, 8, 7, 3, 8, 7, 1)"
      ]
     },
     "execution_count": 98,
     "metadata": {},
     "output_type": "execute_result"
    }
   ],
   "source": [
    "lsoap[0].shape"
   ]
  },
  {
   "cell_type": "code",
   "execution_count": 99,
   "metadata": {},
   "outputs": [
    {
     "name": "stdout",
     "output_type": "stream",
     "text": [
      "CPU times: user 88.5 ms, sys: 12 ms, total: 101 ms\n",
      "Wall time: 99.6 ms\n"
     ]
    }
   ],
   "source": [
    "%%time\n",
    "lsoap = lambda_soap(rfeats, 3, CGIR)\n",
    "lsoap.shape = (lsoap.shape[0], -1, lsoap.shape[-1])\n",
    "lsoap_rot = lambda_soap(rfeats_rot, 3, CGIR)\n",
    "lsoap_rot.shape = (lsoap_rot.shape[0], -1, lsoap_rot.shape[-1])"
   ]
  },
  {
   "cell_type": "code",
   "execution_count": 100,
   "metadata": {},
   "outputs": [
    {
     "data": {
      "text/plain": [
       "array([ 1.96635884e+06, -1.14632534e+04, -8.94558593e+05,  5.91501302e+02,\n",
       "        2.03481856e+06, -2.80053405e+03, -6.91619966e+05])"
      ]
     },
     "execution_count": 100,
     "metadata": {},
     "output_type": "execute_result"
    }
   ],
   "source": [
    "lsoap[0,101]"
   ]
  },
  {
   "cell_type": "code",
   "execution_count": 101,
   "metadata": {},
   "outputs": [
    {
     "data": {
      "text/plain": [
       "array([  -24471.84413669,  -310651.95708875, -2338453.14090476,\n",
       "        1617394.05940433,   992824.79365816,  -336222.1295346 ,\n",
       "          74766.16593048])"
      ]
     },
     "execution_count": 101,
     "metadata": {},
     "output_type": "execute_result"
    }
   ],
   "source": [
    "WD.rotate(lsoap[0,101])"
   ]
  },
  {
   "cell_type": "code",
   "execution_count": 102,
   "metadata": {},
   "outputs": [
    {
     "data": {
      "text/plain": [
       "array([  -24471.84413668,  -310651.95708875, -2338453.14090476,\n",
       "        1617394.05940433,   992824.79365816,  -336222.1295346 ,\n",
       "          74766.16593048])"
      ]
     },
     "execution_count": 102,
     "metadata": {},
     "output_type": "execute_result"
    }
   ],
   "source": [
    "lsoap_rot[0,101]"
   ]
  },
  {
   "cell_type": "markdown",
   "metadata": {},
   "source": [
    "## Bispectrum"
   ]
  },
  {
   "cell_type": "code",
   "execution_count": 103,
   "metadata": {},
   "outputs": [],
   "source": [
    "bspect_hypers = deepcopy(spherical_expansion_hypers)\n",
    "\n",
    "bspect_hypers[\"soap_type\"] = \"BiSpectrum\"\n",
    "bspect_hypers[\"normalize\"] = False\n",
    "bspect_hypers[\"inversion_symmetry\"] = False\n",
    "\n",
    "bspect = SphericalInvariants(**bspect_hypers)\n",
    "bspect_feats = bspect.transform(selframe).get_features(bspect)*1e18  # scale"
   ]
  },
  {
   "cell_type": "code",
   "execution_count": 104,
   "metadata": {},
   "outputs": [],
   "source": [
    "def bispectrum_manual_real(spx, cg_dict):\n",
    "    combination_string=\"ian,iAN,iBM-> iaABnNM\"\n",
    "    lmax = int(np.sqrt(spx.shape[-1]))-1\n",
    "    rho_shape = np.einsum(combination_string,spx[...,0], spx[...,0], spx[...,0] ).shape\n",
    "    bispectrum = []\n",
    "    nid, nel, nmax = rfeats.shape[:-1]\n",
    "    relevant_l=[]\n",
    "    for l1 in range(lmax+1):\n",
    "        for l2 in range(lmax+1):\n",
    "            for l3 in range(lmax+1):\n",
    "                bispl1l2l3 =  np.zeros(rho_shape)\n",
    "                rho1 = spx[..., lm_slice(l1)]\n",
    "                rho2 = spx[..., lm_slice(l2)]\n",
    "                rho3 = spx[...,lm_slice(l3)]\n",
    "                rho = np.zeros(rho_shape)\n",
    "                if (l1, l2, l3) in cg_dict:\n",
    "                    relevant_l.append([l1,l2,l3])\n",
    "                    for m3 in range(2 * l3 + 1):\n",
    "                        for m1, m2, cg in cg_dict[(l1, l2, l3)][m3]:\n",
    "                            rho[...] += np.einsum(\n",
    "                                combination_string,  rho1[...,m1], rho2[..., m2], rho3[..., m3])* cg\n",
    "                    bispl1l2l3 =rho[...]/np.sqrt(2*l3+1)*(-1)**l3\n",
    "                    bispectrum.append(bispl1l2l3)\n",
    "    #bispectrum = np.moveaxis(np.asarray(bispectrum),(3,7,4,8,5,6),(4,3,5,6,7,8))\n",
    "    return np.asarray(bispectrum)#,relevant_l"
   ]
  },
  {
   "cell_type": "code",
   "execution_count": 105,
   "metadata": {},
   "outputs": [],
   "source": [
    "cg_dict=CGIR._cgdict\n",
    "bispectrum1_real=bispectrum_manual_real(rfeats, cg_dict)"
   ]
  },
  {
   "cell_type": "code",
   "execution_count": 106,
   "metadata": {},
   "outputs": [],
   "source": [
    "def bispectrum_from_lsoap_real(spx,cg):\n",
    "    lmax = int(np.sqrt(spx.shape[-1]))-1\n",
    "    combination_string=\"ian,iAN,iBM-> ianANBM\"\n",
    "    rho_shape = np.einsum(combination_string,spx[...,0], spx[...,0], spx[...,0]).shape\n",
    "    bispectrum = []\n",
    "    bispl1l2l3 = np.moveaxis(np.zeros(rho_shape+(lmax+1,lmax+1,lmax+1)),(3,7,4,8,5,6),(4,3,5,6,7,8))\n",
    "    cg_dict = cg._cgdict\n",
    "    for l3 in range(lmax+1):\n",
    "        lsoap = lambda_soap(spx, l3, cg)\n",
    "        bispl1l2l3[...,l3] = np.einsum(\"ianlANLM, iBKM->ianlANLBK\", lsoap[...,:], spx[...,lm_slice(l3)])*(-1)**l3/np.sqrt(2*l3+1)\n",
    "        for l1 in range(lsoap.shape[3]):\n",
    "            for l2 in range(lsoap.shape[-2]):\n",
    "                if (l1,l2,l3) in cg_dict: \n",
    "                    bispectrum.append(np.moveaxis(bispl1l2l3[:,:,:,l1,:,:,l2,:,:,l3], (2,3,4,5),(4,2,5,3)))\n",
    "    return np.asarray(bispectrum)"
   ]
  },
  {
   "cell_type": "code",
   "execution_count": 107,
   "metadata": {},
   "outputs": [],
   "source": [
    "bispectrum2_real= bispectrum_from_lsoap_real(rfeats,CGIR)"
   ]
  },
  {
   "cell_type": "code",
   "execution_count": 108,
   "metadata": {},
   "outputs": [
    {
     "data": {
      "text/plain": [
       "(175, 10, 3, 3, 3, 8, 8, 8)"
      ]
     },
     "execution_count": 108,
     "metadata": {},
     "output_type": "execute_result"
    }
   ],
   "source": [
    "bispectrum2_real.shape"
   ]
  },
  {
   "cell_type": "code",
   "execution_count": 109,
   "metadata": {},
   "outputs": [
    {
     "data": {
      "text/plain": [
       "(175, 10, 3, 3, 3, 8, 8, 8)"
      ]
     },
     "execution_count": 109,
     "metadata": {},
     "output_type": "execute_result"
    }
   ],
   "source": [
    "bispectrum1_real.shape"
   ]
  },
  {
   "cell_type": "code",
   "execution_count": 110,
   "metadata": {},
   "outputs": [
    {
     "data": {
      "text/plain": [
       "array([9.68183527e+11, 9.68183527e+11, 9.68183527e+11, 9.71774729e+11,\n",
       "       9.71774729e+11, 9.71774729e+11, 9.93330751e+11, 9.93330751e+11,\n",
       "       9.93330751e+11, 1.01873572e+12, 1.01873572e+12, 1.01873572e+12,\n",
       "       1.03233253e+12, 1.03233253e+12, 1.03233253e+12, 1.06162208e+12,\n",
       "       1.06162208e+12, 1.06162208e+12, 1.09884470e+12, 1.09884470e+12,\n",
       "       1.09884470e+12, 1.11553116e+12, 1.11553116e+12, 1.11553116e+12,\n",
       "       1.13241319e+12, 1.13241319e+12, 1.13241319e+12, 1.14923038e+12,\n",
       "       1.14923038e+12, 1.14923038e+12, 1.20378854e+12, 1.20378854e+12,\n",
       "       1.20378854e+12, 1.21634598e+12, 1.21634598e+12, 1.21634598e+12,\n",
       "       1.37697252e+12, 1.37697252e+12, 1.37697252e+12, 1.46003362e+12,\n",
       "       1.46003362e+12, 1.46003362e+12, 1.53563306e+12, 1.53563306e+12,\n",
       "       1.53563306e+12, 1.57852220e+12, 1.57852220e+12, 1.57852220e+12,\n",
       "       1.60389490e+12, 1.60389490e+12, 1.60389490e+12, 1.61756932e+12,\n",
       "       1.61756932e+12, 1.61756932e+12, 1.61850819e+12, 1.61850819e+12,\n",
       "       1.61850819e+12, 1.62947576e+12, 1.62947576e+12, 1.62947576e+12,\n",
       "       1.63030542e+12, 1.63030542e+12, 1.63030542e+12, 1.63800233e+12,\n",
       "       1.63800233e+12, 1.63800233e+12, 1.64003914e+12, 1.64003914e+12,\n",
       "       1.64003914e+12, 1.64071576e+12, 1.64071576e+12, 1.64071576e+12,\n",
       "       1.64433613e+12, 1.64433613e+12, 1.64433613e+12, 1.64767298e+12,\n",
       "       1.64767298e+12, 1.64767298e+12, 1.70152721e+12, 1.70152721e+12,\n",
       "       1.70152721e+12, 1.83589271e+12, 1.83589271e+12, 1.83589271e+12,\n",
       "       1.95244322e+12, 1.95244322e+12, 1.95244322e+12, 2.14887845e+12,\n",
       "       2.14887845e+12, 2.14887845e+12, 4.26664329e+12, 4.27760103e+12,\n",
       "       4.27823993e+12, 4.28013627e+12, 4.28844814e+12, 4.29542457e+12,\n",
       "       4.32307480e+12, 4.32501542e+12, 4.34964443e+12, 4.37691162e+12])"
      ]
     },
     "execution_count": 110,
     "metadata": {},
     "output_type": "execute_result"
    }
   ],
   "source": [
    "np.sort(bispectrum2_real[0].flatten())[-100:]\n",
    "# bispectrum2_real[0].flatten()[-100:]"
   ]
  },
  {
   "cell_type": "code",
   "execution_count": 111,
   "metadata": {},
   "outputs": [
    {
     "data": {
      "text/plain": [
       "array([9.68183527e+11, 9.68183527e+11, 9.68183527e+11, 9.71774729e+11,\n",
       "       9.71774729e+11, 9.71774729e+11, 9.93330751e+11, 9.93330751e+11,\n",
       "       9.93330751e+11, 1.01873572e+12, 1.01873572e+12, 1.01873572e+12,\n",
       "       1.03233253e+12, 1.03233253e+12, 1.03233253e+12, 1.06162208e+12,\n",
       "       1.06162208e+12, 1.06162208e+12, 1.09884470e+12, 1.09884470e+12,\n",
       "       1.09884470e+12, 1.11553116e+12, 1.11553116e+12, 1.11553116e+12,\n",
       "       1.13241319e+12, 1.13241319e+12, 1.13241319e+12, 1.14923038e+12,\n",
       "       1.14923038e+12, 1.14923038e+12, 1.20378854e+12, 1.20378854e+12,\n",
       "       1.20378854e+12, 1.21634598e+12, 1.21634598e+12, 1.21634598e+12,\n",
       "       1.37697252e+12, 1.37697252e+12, 1.37697252e+12, 1.46003362e+12,\n",
       "       1.46003362e+12, 1.46003362e+12, 1.53563306e+12, 1.53563306e+12,\n",
       "       1.53563306e+12, 1.57852220e+12, 1.57852220e+12, 1.57852220e+12,\n",
       "       1.60389490e+12, 1.60389490e+12, 1.60389490e+12, 1.61756932e+12,\n",
       "       1.61756932e+12, 1.61756932e+12, 1.61850819e+12, 1.61850819e+12,\n",
       "       1.61850819e+12, 1.62947576e+12, 1.62947576e+12, 1.62947576e+12,\n",
       "       1.63030542e+12, 1.63030542e+12, 1.63030542e+12, 1.63800233e+12,\n",
       "       1.63800233e+12, 1.63800233e+12, 1.64003914e+12, 1.64003914e+12,\n",
       "       1.64003914e+12, 1.64071576e+12, 1.64071576e+12, 1.64071576e+12,\n",
       "       1.64433613e+12, 1.64433613e+12, 1.64433613e+12, 1.64767298e+12,\n",
       "       1.64767298e+12, 1.64767298e+12, 1.70152721e+12, 1.70152721e+12,\n",
       "       1.70152721e+12, 1.83589271e+12, 1.83589271e+12, 1.83589271e+12,\n",
       "       1.95244322e+12, 1.95244322e+12, 1.95244322e+12, 2.14887845e+12,\n",
       "       2.14887845e+12, 2.14887845e+12, 4.26664329e+12, 4.27760103e+12,\n",
       "       4.27823993e+12, 4.28013627e+12, 4.28844814e+12, 4.29542457e+12,\n",
       "       4.32307480e+12, 4.32501542e+12, 4.34964443e+12, 4.37691162e+12])"
      ]
     },
     "execution_count": 111,
     "metadata": {},
     "output_type": "execute_result"
    }
   ],
   "source": [
    "np.sort(bispectrum1_real[0].flatten())[-100:]\n",
    "# bispectrum1_real[0].flatten()[:100]"
   ]
  },
  {
   "cell_type": "code",
   "execution_count": 112,
   "metadata": {},
   "outputs": [
    {
     "data": {
      "text/plain": [
       "array([2.90586638e+11, 2.91148510e+11, 2.91148510e+11, 3.02336767e+11,\n",
       "       3.02336767e+11, 3.02750608e+11, 3.02750608e+11, 3.03553573e+11,\n",
       "       3.05526400e+11, 3.06361782e+11, 3.09120570e+11, 3.11963191e+11,\n",
       "       3.26007281e+11, 3.26007281e+11, 3.27784685e+11, 3.28225075e+11,\n",
       "       3.30141209e+11, 3.35705006e+11, 3.35705006e+11, 3.42852300e+11,\n",
       "       3.47663470e+11, 3.54368207e+11, 3.59089165e+11, 3.67739531e+11,\n",
       "       3.70945336e+11, 3.72175299e+11, 3.72175299e+11, 3.75482736e+11,\n",
       "       3.75482736e+11, 3.79418373e+11, 3.79418373e+11, 3.80484985e+11,\n",
       "       3.80484985e+11, 3.85195688e+11, 3.86711667e+11, 3.86711667e+11,\n",
       "       3.88529771e+11, 3.90845534e+11, 3.91922463e+11, 3.98451958e+11,\n",
       "       4.06137396e+11, 4.12338807e+11, 4.13938265e+11, 4.18175816e+11,\n",
       "       4.22512473e+11, 4.22512473e+11, 4.27809765e+11, 4.32517261e+11,\n",
       "       4.32847150e+11, 4.37651858e+11, 4.49301685e+11, 4.49301685e+11,\n",
       "       4.50708454e+11, 4.50708454e+11, 4.56712874e+11, 4.56712874e+11,\n",
       "       4.69149096e+11, 4.69322184e+11, 4.78279422e+11, 5.04821931e+11,\n",
       "       5.05646917e+11, 5.05646917e+11, 5.08831454e+11, 5.12383238e+11,\n",
       "       5.12383238e+11, 5.36137209e+11, 5.36137209e+11, 5.54997288e+11,\n",
       "       5.63032620e+11, 5.64939514e+11, 5.96580123e+11, 6.15922187e+11,\n",
       "       6.24630134e+11, 6.24630134e+11, 6.24630134e+11, 6.48783612e+11,\n",
       "       6.70878830e+11, 6.75832834e+11, 6.86796355e+11, 7.06678124e+11,\n",
       "       7.16101379e+11, 7.16101379e+11, 7.96025409e+11, 8.03389534e+11,\n",
       "       8.03389534e+11, 8.54907018e+11, 8.59568002e+11, 9.64343816e+11,\n",
       "       9.64343816e+11, 9.75975978e+11, 9.94969893e+11, 1.32598602e+12,\n",
       "       1.34365105e+12, 1.40594241e+12, 1.63800233e+12, 1.63800233e+12,\n",
       "       1.63800233e+12, 2.10677304e+12, 2.52885240e+12, 4.29542457e+12])"
      ]
     },
     "execution_count": 112,
     "metadata": {},
     "output_type": "execute_result"
    }
   ],
   "source": [
    "np.sort(np.abs(bspect_feats))[0,-100:]"
   ]
  },
  {
   "cell_type": "markdown",
   "metadata": {},
   "source": [
    "# Products of features"
   ]
  },
  {
   "cell_type": "markdown",
   "metadata": {},
   "source": [
    "This is useful to transform quantities that can be construed as products of spherical harmonics to a coupled form, and back. That is, if you have Y^m1_l1 Y^m2_l2 you can cast it into a series of coefficients that transform like a single Y^M_L, and back. Note that the transformation depends on the initial values of l1,l2"
   ]
  },
  {
   "cell_type": "code",
   "execution_count": 113,
   "metadata": {},
   "outputs": [],
   "source": [
    "scale = 1e0\n",
    "test_feats = [ rfeats[0,0,0,lm_slice(l)] *scale  for l in range(0,5) ]\n",
    "test_feats_rot = [ rfeats_rot[0,0,0,lm_slice(l)]*scale  for l in range(0,5) ]\n",
    "\n",
    "test_prod = test_feats[2][:,np.newaxis]@test_feats[3][np.newaxis,:]\n",
    "test_prod_rot = test_feats_rot[2][:,np.newaxis]@test_feats_rot[3][np.newaxis,:]"
   ]
  },
  {
   "cell_type": "code",
   "execution_count": 114,
   "metadata": {},
   "outputs": [],
   "source": [
    "test_coupled = CGIR.couple(test_prod)"
   ]
  },
  {
   "cell_type": "code",
   "execution_count": 115,
   "metadata": {},
   "outputs": [
    {
     "data": {
      "text/plain": [
       "{1: array([  1116.97266153,   9182.66418359, 257291.01929584]),\n",
       " 2: array([  -35.01233816,  2828.86974201,   490.10996308, 14611.9089392 ,\n",
       "         -767.50231429]),\n",
       " 3: array([ -27558.89898463,   -1200.96265403,    5846.63967851,\n",
       "          12867.0974336 ,  157208.67054923,  -18469.14931726,\n",
       "        -206676.68144291]),\n",
       " 4: array([  654.29805779, -7202.14472393,   362.06179569,  2653.03803833,\n",
       "         1075.28740649,  8613.65658104, -1434.97953703, -8265.52573615,\n",
       "          196.13187896]),\n",
       " 5: array([  59173.23063602,    5671.61224113,  -26538.2726145 ,\n",
       "          -3396.16257745,    8205.69769318,   23246.62736235,\n",
       "         165340.37697962,  -31408.00297561, -178506.64997609,\n",
       "          26363.61524319,  239148.83025647])}"
      ]
     },
     "execution_count": 115,
     "metadata": {},
     "output_type": "execute_result"
    }
   ],
   "source": [
    "test_coupled[1]"
   ]
  },
  {
   "cell_type": "code",
   "execution_count": 116,
   "metadata": {},
   "outputs": [],
   "source": [
    "test_coupled_rot = CGIR.couple(test_prod_rot)"
   ]
  },
  {
   "cell_type": "code",
   "execution_count": 117,
   "metadata": {},
   "outputs": [
    {
     "data": {
      "text/plain": [
       "array([-31688.90500193, -75867.59901128, -61891.50360385,  39438.13939809,\n",
       "       208326.28347923, 112645.7494379 ,  22286.70565312])"
      ]
     },
     "execution_count": 117,
     "metadata": {},
     "output_type": "execute_result"
    }
   ],
   "source": [
    "test_coupled_rot[1][3]"
   ]
  },
  {
   "cell_type": "code",
   "execution_count": 118,
   "metadata": {},
   "outputs": [
    {
     "data": {
      "text/plain": [
       "array([-31688.90500193, -75867.59901128, -61891.50360385,  39438.1393981 ,\n",
       "       208326.28347923, 112645.7494379 ,  22286.70565312])"
      ]
     },
     "execution_count": 118,
     "metadata": {},
     "output_type": "execute_result"
    }
   ],
   "source": [
    "WD.rotate(test_coupled[1][3])"
   ]
  },
  {
   "cell_type": "code",
   "execution_count": 119,
   "metadata": {},
   "outputs": [],
   "source": [
    "test_decoupled = CGIR.decouple(test_coupled)"
   ]
  },
  {
   "cell_type": "code",
   "execution_count": 120,
   "metadata": {},
   "outputs": [
    {
     "data": {
      "text/plain": [
       "array([[ 1.27329258e-11, -4.20641300e-12,  4.77484718e-11,\n",
       "        -1.81898940e-12, -1.45519152e-11,  2.27373675e-12,\n",
       "         2.18278728e-11],\n",
       "       [ 1.50635060e-12, -3.23474580e-11,  1.70530257e-12,\n",
       "         3.46744855e-12, -6.82121026e-13,  0.00000000e+00,\n",
       "         1.36424205e-12],\n",
       "       [-1.09139364e-11, -1.36424205e-12,  2.72848411e-12,\n",
       "        -1.81898940e-12,  5.82076609e-11, -7.27595761e-12,\n",
       "        -2.91038305e-11],\n",
       "       [ 1.36424205e-12, -3.52429197e-12, -3.41060513e-13,\n",
       "        -6.82121026e-13, -1.09139364e-11, -3.68345354e-11,\n",
       "         1.45519152e-11],\n",
       "       [ 2.18278728e-11,  1.36424205e-12, -7.27595761e-12,\n",
       "        -7.27595761e-12, -1.16415322e-10,  1.09139364e-11,\n",
       "         1.74622983e-10]])"
      ]
     },
     "execution_count": 120,
     "metadata": {},
     "output_type": "execute_result"
    }
   ],
   "source": [
    "test_prod - test_decoupled"
   ]
  },
  {
   "cell_type": "code",
   "execution_count": 121,
   "metadata": {},
   "outputs": [],
   "source": [
    "l1, l2 = 2, 3"
   ]
  },
  {
   "cell_type": "markdown",
   "metadata": {},
   "source": [
    "this can be shown by seeing that the real CG are orthogonal"
   ]
  },
  {
   "cell_type": "code",
   "execution_count": 122,
   "metadata": {},
   "outputs": [],
   "source": [
    "prod = np.zeros((2*l1+1,2*l2+1,2*l1+1,2*l2+1))\n",
    "for L in range(abs(l1-l2), abs(l1+l2)+1):\n",
    "    for M in range(0, 2*L+1):\n",
    "        for m1, m2, mcg in CGIR._cgdict[(l1, l2, L)][M]:\n",
    "            for m1p, m2p, mcgp in CGIR._cgdict[(l1, l2, L)][M]:\n",
    "                prod[m1,m2,m1p,m2p] += mcg*mcgp"
   ]
  },
  {
   "cell_type": "code",
   "execution_count": 123,
   "metadata": {},
   "outputs": [
    {
     "data": {
      "text/plain": [
       "<matplotlib.image.AxesImage at 0x7f41c946ad30>"
      ]
     },
     "execution_count": 123,
     "metadata": {},
     "output_type": "execute_result"
    },
    {
     "data": {
      "image/png": "[encoded data removed]",
      "text/plain": [
       "<Figure size 288x288 with 1 Axes>"
      ]
     },
     "metadata": {
      "needs_background": "light"
     },
     "output_type": "display_data"
    }
   ],
   "source": [
    "pr = prod.reshape((2*l1+1)*(2*l2+1),(2*l1+1)*(2*l2+1))\n",
    "plt.matshow(pr)"
   ]
  },
  {
   "cell_type": "code",
   "execution_count": null,
   "metadata": {},
   "outputs": [],
   "source": []
  }
 ],
 "metadata": {
  "kernelspec": {
   "display_name": "Python 3 (ipykernel)",
   "language": "python",
   "name": "python3"
  },
  "language_info": {
   "codemirror_mode": {
    "name": "ipython",
    "version": 3
   },
   "file_extension": ".py",
   "mimetype": "text/x-python",
   "name": "python",
   "nbconvert_exporter": "python",
   "pygments_lexer": "ipython3",
   "version": "3.6.9"
  },
  "toc": {
   "base_numbering": 1,
   "nav_menu": {},
   "number_sections": true,
   "sideBar": true,
   "skip_h1_title": false,
   "title_cell": "Table of Contents",
   "title_sidebar": "Contents",
   "toc_cell": false,
   "toc_position": {},
   "toc_section_display": true,
   "toc_window_display": false
  }
 },
 "nbformat": 4,
 "nbformat_minor": 4
}
